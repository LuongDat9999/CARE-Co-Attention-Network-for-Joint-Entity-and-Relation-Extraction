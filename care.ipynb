{
 "cells": [
  {
   "cell_type": "markdown",
   "id": "1ae8b331",
   "metadata": {
    "id": "1ae8b331",
    "papermill": {
     "duration": 0.009783,
     "end_time": "2025-07-19T15:55:59.364564",
     "exception": false,
     "start_time": "2025-07-19T15:55:59.354781",
     "status": "completed"
    },
    "tags": []
   },
   "source": [
    "## Cấu hình"
   ]
  },
  {
   "cell_type": "code",
   "execution_count": 4,
   "id": "691cb228",
   "metadata": {
    "execution": {
     "iopub.execute_input": "2025-07-19T15:55:59.405786Z",
     "iopub.status.busy": "2025-07-19T15:55:59.405617Z",
     "iopub.status.idle": "2025-07-19T15:56:12.609390Z",
     "shell.execute_reply": "2025-07-19T15:56:12.608775Z"
    },
    "executionInfo": {
     "elapsed": 27882,
     "status": "ok",
     "timestamp": 1753068502497,
     "user": {
      "displayName": "Lương Đạt",
      "userId": "11214560588962627512"
     },
     "user_tz": -420
    },
    "id": "691cb228",
    "papermill": {
     "duration": 13.214693,
     "end_time": "2025-07-19T15:56:12.610792",
     "exception": false,
     "start_time": "2025-07-19T15:55:59.396099",
     "status": "completed"
    },
    "tags": []
   },
   "outputs": [],
   "source": [
    "import json\n",
    "import os\n",
    "import pickle\n",
    "import logging\n",
    "import sys\n",
    "import random\n",
    "import argparse\n",
    "from tqdm import tqdm\n",
    "\n",
    "import numpy as np\n",
    "import torch\n",
    "import torch.nn as nn\n",
    "import torch.nn.functional as F\n",
    "import torch.optim as optim\n",
    "from torch.utils.data import Dataset, DataLoader\n",
    "\n",
    "from transformers import AutoTokenizer, AutoModel\n",
    "from huggingface_hub import login"
   ]
  },
  {
   "cell_type": "code",
   "execution_count": 5,
   "id": "a94eaec3",
   "metadata": {
    "execution": {
     "iopub.execute_input": "2025-07-19T15:56:12.629369Z",
     "iopub.status.busy": "2025-07-19T15:56:12.628999Z",
     "iopub.status.idle": "2025-07-19T15:56:12.633778Z",
     "shell.execute_reply": "2025-07-19T15:56:12.633257Z"
    },
    "executionInfo": {
     "elapsed": 7,
     "status": "ok",
     "timestamp": 1753068502509,
     "user": {
      "displayName": "Lương Đạt",
      "userId": "11214560588962627512"
     },
     "user_tz": -420
    },
    "id": "a94eaec3",
    "papermill": {
     "duration": 0.01507,
     "end_time": "2025-07-19T15:56:12.634893",
     "exception": false,
     "start_time": "2025-07-19T15:56:12.619823",
     "status": "completed"
    },
    "tags": []
   },
   "outputs": [],
   "source": [
    "class Config:\n",
    "    # Dataset configs\n",
    "    DATASETS = ['WEBNLG', 'NYT']\n",
    "    DATA_PATH = \"./data_care\"\n",
    "\n",
    "    # Model configs\n",
    "    HIDDEN_SIZE = 768\n",
    "    SHARE_HIDDEN_SIZE = 128\n",
    "    DIST_EMB_SIZE = 20\n",
    "    CO_ATTENTION_LAYERS = 3\n",
    "\n",
    "    # Training configs\n",
    "    EPOCHS = 10\n",
    "    BATCH_SIZE = 8\n",
    "    EVAL_BATCH_SIZE = 8\n",
    "    # LR = 0.0001 # webnlg\n",
    "    LR = 0.00001\n",
    "    WEIGHT_DECAY = 0\n",
    "    DROPOUT = 0.1\n",
    "    CLIP = 0.5\n",
    "    SEED = 0\n",
    "\n",
    "    # Other configs\n",
    "    EVAL_METRIC = \"micro\"  # or \"macro\"\n",
    "    MAX_SEQ_LEN = 128\n",
    "\n",
    "    # HF Token (replace with your token)\n",
    "    HF_TOKEN = \"\"\n",
    "\n",
    "config = Config()"
   ]
  },
  {
   "cell_type": "markdown",
   "id": "ce8cd996",
   "metadata": {
    "id": "ce8cd996",
    "papermill": {
     "duration": 0.008097,
     "end_time": "2025-07-19T15:56:12.651512",
     "exception": false,
     "start_time": "2025-07-19T15:56:12.643415",
     "status": "completed"
    },
    "tags": []
   },
   "source": [
    "## helper"
   ]
  },
  {
   "cell_type": "code",
   "execution_count": 6,
   "id": "6b99d7db",
   "metadata": {
    "execution": {
     "iopub.execute_input": "2025-07-19T15:56:12.668849Z",
     "iopub.status.busy": "2025-07-19T15:56:12.668655Z",
     "iopub.status.idle": "2025-07-19T15:56:12.675638Z",
     "shell.execute_reply": "2025-07-19T15:56:12.675075Z"
    },
    "executionInfo": {
     "elapsed": 33,
     "status": "ok",
     "timestamp": 1753068502538,
     "user": {
      "displayName": "Lương Đạt",
      "userId": "11214560588962627512"
     },
     "user_tz": -420
    },
    "id": "6b99d7db",
    "papermill": {
     "duration": 0.016864,
     "end_time": "2025-07-19T15:56:12.676566",
     "exception": false,
     "start_time": "2025-07-19T15:56:12.659702",
     "status": "completed"
    },
    "tags": []
   },
   "outputs": [],
   "source": [
    "def setup_logging(output_dir):\n",
    "    \"\"\"Setup logging configuration\"\"\"\n",
    "    os.makedirs(output_dir, exist_ok=True)\n",
    "\n",
    "    logger = logging.getLogger(\"CARELogger\")\n",
    "    logger.setLevel(logging.INFO)\n",
    "    logger.handlers.clear()\n",
    "\n",
    "    # File handler\n",
    "    log_file = os.path.join(output_dir, \"train_output.log\")\n",
    "    file_handler = logging.FileHandler(log_file, mode='w')\n",
    "    file_handler.setLevel(logging.INFO)\n",
    "\n",
    "    # Stream handler\n",
    "    stream_handler = logging.StreamHandler(sys.stdout)\n",
    "    stream_handler.setLevel(logging.INFO)\n",
    "\n",
    "    # Formatter\n",
    "    formatter = logging.Formatter('%(asctime)s - %(levelname)s - %(message)s')\n",
    "    file_handler.setFormatter(formatter)\n",
    "    stream_handler.setFormatter(formatter)\n",
    "\n",
    "    logger.addHandler(file_handler)\n",
    "    logger.addHandler(stream_handler)\n",
    "\n",
    "    return logger\n",
    "\n",
    "def set_seed(seed):\n",
    "    \"\"\"Set random seeds for reproducibility\"\"\"\n",
    "    random.seed(seed)\n",
    "    np.random.seed(seed)\n",
    "    torch.manual_seed(seed)\n",
    "    if torch.cuda.is_available():\n",
    "        torch.cuda.manual_seed_all(seed)\n",
    "\n",
    "def load_json(path, filename):\n",
    "    \"\"\"Load JSON file\"\"\"\n",
    "    filepath = os.path.join(path, filename)\n",
    "    with open(filepath, 'r', encoding='utf-8') as f:\n",
    "        return json.load(f)\n"
   ]
  },
  {
   "cell_type": "markdown",
   "id": "7b8f443f",
   "metadata": {
    "id": "7b8f443f",
    "papermill": {
     "duration": 0.007968,
     "end_time": "2025-07-19T15:56:12.693506",
     "exception": false,
     "start_time": "2025-07-19T15:56:12.685538",
     "status": "completed"
    },
    "tags": []
   },
   "source": [
    "## Data Processing"
   ]
  },
  {
   "cell_type": "markdown",
   "id": "48c076d1",
   "metadata": {},
   "source": [
    "#### Tiền xử lý dữ liệu\n",
    "\n",
    "1. Đọc dữ liệu thô từ file JSON\n",
    "2. Tiền xử lý từng mẫu dữ liệu:\n",
    "* Tách câu thành các từ.\n",
    "* Chuyển các thực thể và quan hệ thành nhãn chỉ số.\n",
    "* Chuyển đổi nhãn từ cấp độ từ sang cấp độ token BERT.\n",
    "* Tạo ma trận khoảng cách (distance matrix) cho từng cặp token.\n",
    "3. Lưu dữ liệu đã xử lý vào các đối tượng Dataset.\n",
    "4. Tạo DataLoader để phục vụ huấn luyện và đánh giá."
   ]
  },
  {
   "cell_type": "code",
   "execution_count": 21,
   "id": "e638c70a",
   "metadata": {
    "execution": {
     "iopub.execute_input": "2025-07-19T15:56:12.710702Z",
     "iopub.status.busy": "2025-07-19T15:56:12.710441Z",
     "iopub.status.idle": "2025-07-19T15:56:12.719318Z",
     "shell.execute_reply": "2025-07-19T15:56:12.718637Z"
    },
    "executionInfo": {
     "elapsed": 34,
     "status": "ok",
     "timestamp": 1753068502583,
     "user": {
      "displayName": "Lương Đạt",
      "userId": "11214560588962627512"
     },
     "user_tz": -420
    },
    "id": "e638c70a",
    "papermill": {
     "duration": 0.018733,
     "end_time": "2025-07-19T15:56:12.720367",
     "exception": false,
     "start_time": "2025-07-19T15:56:12.701634",
     "status": "completed"
    },
    "tags": []
   },
   "outputs": [],
   "source": [
    "class Collator:\n",
    "    def __init__(self, ner2idx, rel2idx):\n",
    "        self.ner2idx = ner2idx\n",
    "        self.rel2idx = rel2idx\n",
    "\n",
    "    def __call__(self, batch):\n",
    "        texts = [item[0] for item in batch]\n",
    "        ner_labels = [item[1] for item in batch]\n",
    "        rc_labels = [item[2] for item in batch]\n",
    "        bert_lens = [item[3] for item in batch]\n",
    "        dists = [item[4] for item in batch]\n",
    "\n",
    "        max_len = max(bert_lens)\n",
    "        batch_size = len(texts)\n",
    "\n",
    "        # Pad distance matrices\n",
    "        padded_dists = []\n",
    "        for dist in dists:\n",
    "            current_len = dist.size(0)\n",
    "            if current_len < max_len:\n",
    "                pad_size = max_len - current_len\n",
    "                padded_dist = F.pad(dist, (0, pad_size, 0, pad_size), value=19)\n",
    "            else:\n",
    "                padded_dist = dist[:max_len, :max_len]\n",
    "            padded_dists.append(padded_dist)\n",
    "\n",
    "        dist_tensor = torch.stack(padded_dists)\n",
    "\n",
    "        # Generate label tensors\n",
    "        ner_tensors = []\n",
    "        re_tensors = []\n",
    "\n",
    "        for ner_list, rc_list in zip(ner_labels, rc_labels):\n",
    "            # NER labels\n",
    "            ner_tensor = torch.zeros(max_len, max_len, len(self.ner2idx))\n",
    "            for i in range(0, len(ner_list), 3):\n",
    "                if i + 2 < len(ner_list):\n",
    "                    head, tail, ner_type = ner_list[i], ner_list[i+1], ner_list[i+2]\n",
    "                    if head < max_len and tail < max_len and ner_type in self.ner2idx:\n",
    "                        ner_tensor[head, tail, self.ner2idx[ner_type]] = 1\n",
    "            ner_tensors.append(ner_tensor)\n",
    "\n",
    "            # Relation labels\n",
    "            re_tensor = torch.zeros(max_len, max_len, len(self.rel2idx))\n",
    "            for i in range(0, len(rc_list), 3):\n",
    "                if i + 2 < len(rc_list):\n",
    "                    subj, obj, rel_type = rc_list[i], rc_list[i+1], rc_list[i+2]\n",
    "                    if subj < max_len and obj < max_len and rel_type in self.rel2idx:\n",
    "                        re_tensor[subj, obj, self.rel2idx[rel_type]] = 1\n",
    "            re_tensors.append(re_tensor)\n",
    "\n",
    "        ner_labels_tensor = torch.stack(ner_tensors).permute(1, 2, 0, 3)\n",
    "        re_labels_tensor = torch.stack(re_tensors).permute(1, 2, 0, 3)\n",
    "\n",
    "        # Create mask\n",
    "        mask = torch.zeros(max_len, batch_size)\n",
    "        for i, length in enumerate(bert_lens):\n",
    "            mask[:length, i] = 1\n",
    "\n",
    "        return texts, ner_labels_tensor, re_labels_tensor, mask, dist_tensor\n"
   ]
  },
  {
   "cell_type": "markdown",
   "id": "069d7f0d",
   "metadata": {},
   "source": [
    "#### class Collator:\n",
    "* Collator dùng để gom các mẫu riêng lẻ thành một batch cho DataLoader.\n",
    "* Tác vụ chính:\n",
    "    * Pad các ma trận khoảng cách về cùng kích thước (max_len).\n",
    "    * Tạo tensor nhãn NER và quan hệ cho từng batch (dạng one-hot).\n",
    "    * Tạo mask để đánh dấu các vị trí hợp lệ (không phải padding).\n",
    "* Đầu ra: texts, tensor nhãn NER, tensor nhãn quan hệ, mask, tensor khoảng cách"
   ]
  },
  {
   "cell_type": "code",
   "execution_count": 22,
   "id": "0a59b70d",
   "metadata": {
    "execution": {
     "iopub.execute_input": "2025-07-19T15:56:12.738522Z",
     "iopub.status.busy": "2025-07-19T15:56:12.737854Z",
     "iopub.status.idle": "2025-07-19T15:56:12.744716Z",
     "shell.execute_reply": "2025-07-19T15:56:12.744245Z"
    },
    "executionInfo": {
     "elapsed": 29,
     "status": "ok",
     "timestamp": 1753068652472,
     "user": {
      "displayName": "Lương Đạt",
      "userId": "11214560588962627512"
     },
     "user_tz": -420
    },
    "id": "0a59b70d",
    "papermill": {
     "duration": 0.017102,
     "end_time": "2025-07-19T15:56:12.745760",
     "exception": false,
     "start_time": "2025-07-19T15:56:12.728658",
     "status": "completed"
    },
    "tags": []
   },
   "outputs": [],
   "source": [
    "# Distance mapping\n",
    "class CAREDataset(Dataset):\n",
    "    def __init__(self, data):\n",
    "        self.data = data\n",
    "\n",
    "    def __len__(self):\n",
    "        return len(self.data)\n",
    "\n",
    "    def __getitem__(self, idx):\n",
    "        return self.data[idx]\n",
    "\n",
    "def map_word_to_bert(words, tokenizer):\n",
    "    \"\"\"Map original words to BERT token positions\"\"\"\n",
    "    mapping = {}\n",
    "    current_idx = 0\n",
    "    for word_idx, word in enumerate(words):\n",
    "        bert_tokens = tokenizer.tokenize(word)\n",
    "        word_len = len(bert_tokens)\n",
    "        mapping[word_idx] = [current_idx, current_idx + word_len - 1]\n",
    "        current_idx += word_len\n",
    "    return mapping\n",
    "\n",
    "def transform_labels(labels, word_to_bert, label_type='ner'):\n",
    "    \"\"\"Transform word-level labels to BERT token-level labels\"\"\"\n",
    "    new_labels = []\n",
    "    for i in range(0, len(labels), 3):\n",
    "        if label_type == 'ner':\n",
    "            # +1 for [CLS] token\n",
    "            start = word_to_bert[labels[i]][0] + 1\n",
    "            end = word_to_bert[labels[i + 1]][0] + 1\n",
    "        else:  # relation\n",
    "            start = word_to_bert[labels[i]][0] + 1\n",
    "            end = word_to_bert[labels[i + 1]][0] + 1\n",
    "        new_labels.extend([start, end, labels[i + 2]])\n",
    "    return new_labels\n"
   ]
  },
  {
   "cell_type": "markdown",
   "id": "085190c2",
   "metadata": {},
   "source": [
    "#### class CAREDataset\n",
    "* CAREDataset kế thừa từ torch.utils.data.Dataset.\n",
    "\n",
    "* Lưu trữ danh sách các mẫu dữ liệu đã được tiền xử lý.\n",
    "\n",
    "* Cung cấp hai phương thức chính:\n",
    "    * __len__: trả về số lượng mẫu.\n",
    "    * __getitem__: trả về một mẫu dữ liệu tại chỉ số idx (bao gồm: text, nhãn NER, nhãn quan hệ, độ dài, ma trận khoảng cách).\n"
   ]
  },
  {
   "cell_type": "code",
   "execution_count": 23,
   "id": "60e47291",
   "metadata": {
    "execution": {
     "iopub.execute_input": "2025-07-19T15:56:12.763823Z",
     "iopub.status.busy": "2025-07-19T15:56:12.763388Z",
     "iopub.status.idle": "2025-07-19T15:56:12.771582Z",
     "shell.execute_reply": "2025-07-19T15:56:12.771070Z"
    },
    "executionInfo": {
     "elapsed": 10,
     "status": "ok",
     "timestamp": 1753068654447,
     "user": {
      "displayName": "Lương Đạt",
      "userId": "11214560588962627512"
     },
     "user_tz": -420
    },
    "id": "60e47291",
    "papermill": {
     "duration": 0.018481,
     "end_time": "2025-07-19T15:56:12.772634",
     "exception": false,
     "start_time": "2025-07-19T15:56:12.754153",
     "status": "completed"
    },
    "tags": []
   },
   "outputs": [],
   "source": [
    "dis2idx = np.zeros(4000, dtype='int64')\n",
    "dis2idx[1] = 1\n",
    "dis2idx[2:] = 2\n",
    "dis2idx[4:] = 3\n",
    "dis2idx[8:] = 4\n",
    "dis2idx[16:] = 5\n",
    "dis2idx[32:] = 6\n",
    "dis2idx[64:] = 7\n",
    "dis2idx[128:] = 8\n",
    "dis2idx[256:] = 9\n",
    "\n",
    "def preprocess_data(data, tokenizer, dataset_name):\n",
    "    \"\"\"Preprocess data for both NYT and WEBNLG datasets\"\"\"\n",
    "    processed = []\n",
    "\n",
    "    for item in tqdm(data, desc=f\"Processing {dataset_name}\"):\n",
    "        text = item['text'].split()\n",
    "        ner_labels = []\n",
    "        rc_labels = []\n",
    "\n",
    "        for triple in item['triple_list']:\n",
    "            subj, rel, obj = triple\n",
    "            try:\n",
    "                subj_idx = text.index(subj)\n",
    "                obj_idx = text.index(obj)\n",
    "\n",
    "                # Add entities if not already present\n",
    "                if subj_idx not in [ner_labels[i] for i in range(0, len(ner_labels), 3)]:\n",
    "                    ner_labels.extend([subj_idx, subj_idx, \"None\"])\n",
    "                if obj_idx not in [ner_labels[i] for i in range(0, len(ner_labels), 3)]:\n",
    "                    ner_labels.extend([obj_idx, obj_idx, \"None\"])\n",
    "\n",
    "                rc_labels.extend([subj_idx, obj_idx, rel])\n",
    "            except ValueError:\n",
    "                continue  # Skip if entity not found in text\n",
    "\n",
    "        # Truncate if too long\n",
    "        if len(text) > config.MAX_SEQ_LEN:\n",
    "            text = text[:config.MAX_SEQ_LEN]\n",
    "            # Filter labels to keep only those within truncated text\n",
    "            ner_labels = [l for i, l in enumerate(ner_labels)\n",
    "                         if i % 3 == 2 or l < config.MAX_SEQ_LEN]\n",
    "            rc_labels = [l for i, l in enumerate(rc_labels)\n",
    "                        if i % 3 == 2 or l < config.MAX_SEQ_LEN]\n",
    "\n",
    "        # Convert to BERT format\n",
    "        sent_str = ' '.join(text)\n",
    "        bert_tokens = tokenizer.tokenize(sent_str)\n",
    "        bert_len = len(bert_tokens) + 2  # +2 for [CLS] and [SEP]\n",
    "\n",
    "        word_to_bert = map_word_to_bert(text, tokenizer)\n",
    "        ner_labels = transform_labels(ner_labels, word_to_bert, 'ner')\n",
    "        rc_labels = transform_labels(rc_labels, word_to_bert, 'relation')\n",
    "\n",
    "        # Create distance matrix\n",
    "        dist_inputs = torch.zeros((bert_len, bert_len), dtype=torch.long)\n",
    "        for k in range(bert_len):\n",
    "            dist_inputs[k, :] += k\n",
    "            dist_inputs[:, k] -= k\n",
    "\n",
    "        for i in range(bert_len):\n",
    "            for j in range(bert_len):\n",
    "                if dist_inputs[i, j] < 0:\n",
    "                    dist_inputs[i, j] = int(dis2idx[-dist_inputs[i, j]]) + 9\n",
    "                else:\n",
    "                    dist_inputs[i, j] = int(dis2idx[dist_inputs[i, j]])\n",
    "        dist_inputs[dist_inputs == 0] = 19\n",
    "\n",
    "        processed.append((text, ner_labels, rc_labels, bert_len, dist_inputs))\n",
    "\n",
    "    return processed"
   ]
  },
  {
   "cell_type": "markdown",
   "id": "ef8d2729",
   "metadata": {},
   "source": [
    "#### preprocess_data\n",
    "Nhận vào dữ liệu thô, tokenizer và tên dataset.\n",
    "\n",
    "Với mỗi mẫu:\n",
    "\n",
    "* Tách từ.\n",
    "* Tạo nhãn thực thể (ner_labels) và quan hệ (rc_labels) ở cấp độ từ.\n",
    "* Chuyển đổi nhãn sang cấp độ token BERT.\n",
    "* Tạo ma trận khoảng cách giữa các token.\n",
    "\n",
    "Trả về danh sách các mẫu đã xử lý, mỗi mẫu là một list gồm: text, nhãn NER, nhãn quan hệ, độ dài, ma trận khoảng cách."
   ]
  },
  {
   "cell_type": "code",
   "execution_count": 24,
   "id": "210dcb7a",
   "metadata": {
    "execution": {
     "iopub.execute_input": "2025-07-19T15:56:12.790439Z",
     "iopub.status.busy": "2025-07-19T15:56:12.789940Z",
     "iopub.status.idle": "2025-07-19T15:56:12.795707Z",
     "shell.execute_reply": "2025-07-19T15:56:12.795053Z"
    },
    "executionInfo": {
     "elapsed": 37,
     "status": "ok",
     "timestamp": 1753068658178,
     "user": {
      "displayName": "Lương Đạt",
      "userId": "11214560588962627512"
     },
     "user_tz": -420
    },
    "id": "210dcb7a",
    "papermill": {
     "duration": 0.015728,
     "end_time": "2025-07-19T15:56:12.796738",
     "exception": false,
     "start_time": "2025-07-19T15:56:12.781010",
     "status": "completed"
    },
    "tags": []
   },
   "outputs": [],
   "source": [
    "def create_dataloaders(dataset_name):\n",
    "    \"\"\"Create dataloaders for specified dataset\"\"\"\n",
    "    data_path = os.path.join(config.DATA_PATH, dataset_name)\n",
    "\n",
    "    # Load label mappings\n",
    "    with open(os.path.join(data_path, \"ner2idx.json\"), \"r\") as f:\n",
    "        ner2idx = json.load(f)\n",
    "    with open(os.path.join(data_path, \"rel2idx.json\"), \"r\") as f:\n",
    "        rel2idx = json.load(f)\n",
    "\n",
    "    # Load datasets\n",
    "    train_data = load_json(data_path, 'train_triples.json')\n",
    "    test_data = load_json(data_path, 'test_triples.json')\n",
    "    dev_data = load_json(data_path, 'dev_triples.json')\n",
    "\n",
    "    # Initialize tokenizer\n",
    "    tokenizer = AutoTokenizer.from_pretrained(\"bert-base-cased\")\n",
    "\n",
    "    # Process datasets\n",
    "    train_processed = preprocess_data(train_data, tokenizer, dataset_name)\n",
    "    test_processed = preprocess_data(test_data, tokenizer, dataset_name)\n",
    "    dev_processed = preprocess_data(dev_data, tokenizer, dataset_name)\n",
    "\n",
    "    # Create datasets\n",
    "    train_dataset = CAREDataset(train_processed)\n",
    "    test_dataset = CAREDataset(test_processed)\n",
    "    dev_dataset = CAREDataset(dev_processed)\n",
    "\n",
    "    # Create collator\n",
    "    collate_fn = Collator(ner2idx, rel2idx)\n",
    "\n",
    "    # Create dataloaders\n",
    "    train_loader = DataLoader(train_dataset, batch_size=config.BATCH_SIZE,\n",
    "                             shuffle=True, collate_fn=collate_fn)\n",
    "    test_loader = DataLoader(test_dataset, batch_size=config.EVAL_BATCH_SIZE,\n",
    "                            shuffle=False, collate_fn=collate_fn)\n",
    "    dev_loader = DataLoader(dev_dataset, batch_size=config.EVAL_BATCH_SIZE,\n",
    "                           shuffle=False, collate_fn=collate_fn)\n",
    "\n",
    "    return train_loader, test_loader, dev_loader, ner2idx, rel2idx\n"
   ]
  },
  {
   "cell_type": "code",
   "execution_count": 36,
   "id": "b03d489f",
   "metadata": {},
   "outputs": [
    {
     "name": "stdout",
     "output_type": "stream",
     "text": [
      "WEBNLG Datasets:\n",
      "\n",
      "5019\n",
      "703\n",
      "499\n",
      "\n",
      "NYT Datasets:\n",
      "\n",
      "56195\n",
      "5000\n",
      "4999\n"
     ]
    }
   ],
   "source": [
    "data_path = './data_care/WEBNLG'\n",
    "train_data_weblg = json.load(open(os.path.join(data_path, 'train_triples.json')))\n",
    "test_data_weblg = json.load(open(os.path.join(data_path, 'test_triples.json')))\n",
    "dev_data_weblg = json.load(open(os.path.join(data_path, 'dev_triples.json')))\n",
    "\n",
    "print(\"WEBNLG Datasets:\\n\")\n",
    "print(len(train_data_weblg))\n",
    "print(len(test_data_weblg))\n",
    "print(len(dev_data_weblg))\n",
    "\n",
    "print()\n",
    "\n",
    "data_path = './data_care/NYT'\n",
    "\n",
    "train_data_nyt = json.load(open(os.path.join(data_path, 'train_triples.json')))\n",
    "test_data_nyt = json.load(open(os.path.join(data_path, 'test_triples.json')))\n",
    "dev_data_nyt = json.load(open(os.path.join(data_path, 'dev_triples.json')))\n",
    "\n",
    "print(\"NYT Datasets:\\n\")\n",
    "print(len(train_data_nyt))\n",
    "print(len(test_data_nyt))\n",
    "print(len(dev_data_nyt))"
   ]
  },
  {
   "cell_type": "code",
   "execution_count": 37,
   "id": "d5d72844",
   "metadata": {},
   "outputs": [
    {
     "name": "stdout",
     "output_type": "stream",
     "text": [
      "{'text': 'Alan Bean , who was part of Apollo 12 , was born in Wheeler , Texas on March 15th , 1932 and is now retired .', 'triple_list': [['Bean', 'was a crew member of', '12'], ['Bean', 'birthPlace', 'Texas']]}\n",
      "{'text': 'Massachusetts ASTON MAGNA Great Barrington ; also at Bard College , Annandale-on-Hudson , N.Y. , July 1-Aug .', 'triple_list': [['Annandale-on-Hudson', '/location/location/contains', 'College']]}\n"
     ]
    }
   ],
   "source": [
    "print(train_data_weblg[0])\n",
    "print(train_data_nyt[0])"
   ]
  },
  {
   "cell_type": "code",
   "execution_count": 45,
   "id": "3a3ea140",
   "metadata": {},
   "outputs": [
    {
     "name": "stdout",
     "output_type": "stream",
     "text": [
      "Bước 2 - Tách từ: ['Alan', 'Bean', ',', 'who', 'was', 'part', 'of', 'Apollo', '12', ',', 'was', 'born', 'in', 'Wheeler', ',', 'Texas', 'on', 'March', '15th', ',', '1932', 'and', 'is', 'now', 'retired', '.']\n"
     ]
    }
   ],
   "source": [
    "# 2. Tách từ và ánh xạ thực thể\n",
    "words = train_data_weblg[0][\"text\"].split()\n",
    "print(\"Bước 2 - Tách từ:\", words)"
   ]
  },
  {
   "cell_type": "code",
   "execution_count": 38,
   "id": "6481178c",
   "metadata": {},
   "outputs": [
    {
     "name": "stdout",
     "output_type": "stream",
     "text": [
      "Bước 3 - NER labels: [1, 2, 'None', 8, 8, 'None', 1, 2, 'None', 15, 15, 'None']\n",
      "Bước 3 - RE labels: [1, 8, 'was a crew member of', 1, 15, 'birthPlace']\n"
     ]
    }
   ],
   "source": [
    "words = train_data_weblg[0]['text'].split()\n",
    "\n",
    "ner_labels = []\n",
    "rc_labels = []\n",
    "for triple in train_data_weblg[0][\"triple_list\"]:\n",
    "    subj, rel, obj = triple\n",
    "    try:\n",
    "        subj_idx = words.index(subj.split()[0])  # Lấy vị trí từ đầu tiên\n",
    "        obj_idx = words.index(obj)\n",
    "        ner_labels.extend([subj_idx, subj_idx+1, \"None\"])  # Barack Obama: 0-1\n",
    "        ner_labels.extend([obj_idx, obj_idx, \"None\"])      # Hawaii: 5\n",
    "        rc_labels.extend([subj_idx, obj_idx, rel])\n",
    "    except ValueError:\n",
    "        continue\n",
    "print(\"Bước 3 - NER labels:\", ner_labels)\n",
    "print(\"Bước 3 - RE labels:\", rc_labels)"
   ]
  },
  {
   "cell_type": "code",
   "execution_count": 39,
   "id": "fa7417b7",
   "metadata": {},
   "outputs": [
    {
     "name": "stdout",
     "output_type": "stream",
     "text": [
      "Bước 4 - BERT tokens: ['Alan', 'Bean', ',', 'who', 'was', 'part', 'of', 'Apollo', '12', ',', 'was', 'born', 'in', 'Wheeler', ',', 'Texas', 'on', 'March', '15th', ',', '1932', 'and', 'is', 'now', 'retired', '.']\n"
     ]
    }
   ],
   "source": [
    "tokenizer = AutoTokenizer.from_pretrained(\"bert-base-cased\")\n",
    "bert_tokens = tokenizer.tokenize(train_data_weblg[0]['text'])\n",
    "print(\"Bước 4 - BERT tokens:\", bert_tokens)"
   ]
  },
  {
   "cell_type": "code",
   "execution_count": 40,
   "id": "d4347bc6",
   "metadata": {},
   "outputs": [
    {
     "name": "stdout",
     "output_type": "stream",
     "text": [
      "Bước 5 - Ánh xạ từ->BERT: {0: [0, 0], 1: [1, 1], 2: [2, 2], 3: [3, 3], 4: [4, 4], 5: [5, 5], 6: [6, 6], 7: [7, 7], 8: [8, 8], 9: [9, 9], 10: [10, 10], 11: [11, 11], 12: [12, 12], 13: [13, 13], 14: [14, 14], 15: [15, 15], 16: [16, 16], 17: [17, 17], 18: [18, 18], 19: [19, 19], 20: [20, 20], 21: [21, 21], 22: [22, 22], 23: [23, 23], 24: [24, 24], 25: [25, 25]}\n"
     ]
    }
   ],
   "source": [
    "word_to_bert = map_word_to_bert(words, tokenizer)\n",
    "print(\"Bước 5 - Ánh xạ từ->BERT:\", word_to_bert)"
   ]
  },
  {
   "cell_type": "code",
   "execution_count": 41,
   "id": "b2ca80f8",
   "metadata": {},
   "outputs": [
    {
     "name": "stdout",
     "output_type": "stream",
     "text": [
      "Bước 6 - NER labels (BERT): [1, 2, 'None', 8, 8, 'None', 1, 2, 'None', 15, 15, 'None']\n",
      "Bước 6 - RE labels (BERT): [1, 8, 'was a crew member of', 1, 15, 'birthPlace']\n"
     ]
    }
   ],
   "source": [
    "\n",
    "ner_labels_bert = transform_labels(ner_labels, word_to_bert, 'ner')\n",
    "rc_labels_bert = transform_labels(rc_labels, word_to_bert, 'relation')\n",
    "print(\"Bước 6 - NER labels (BERT):\", ner_labels_bert)\n",
    "print(\"Bước 6 - RE labels (BERT):\", rc_labels_bert)\n"
   ]
  },
  {
   "cell_type": "code",
   "execution_count": 42,
   "id": "c1c78915",
   "metadata": {},
   "outputs": [
    {
     "name": "stdout",
     "output_type": "stream",
     "text": [
      "Bước 7 - Ma trận khoảng cách:\n",
      "tensor([[19, 10, 11, 11, 12, 12, 12, 12, 13, 13, 13, 13, 13, 13, 13, 13, 14, 14,\n",
      "         14, 14, 14, 14, 14, 14, 14, 14, 14, 14],\n",
      "        [ 1, 19, 10, 11, 11, 12, 12, 12, 12, 13, 13, 13, 13, 13, 13, 13, 13, 14,\n",
      "         14, 14, 14, 14, 14, 14, 14, 14, 14, 14],\n",
      "        [ 2,  1, 19, 10, 11, 11, 12, 12, 12, 12, 13, 13, 13, 13, 13, 13, 13, 13,\n",
      "         14, 14, 14, 14, 14, 14, 14, 14, 14, 14],\n",
      "        [ 2,  2,  1, 19, 10, 11, 11, 12, 12, 12, 12, 13, 13, 13, 13, 13, 13, 13,\n",
      "         13, 14, 14, 14, 14, 14, 14, 14, 14, 14],\n",
      "        [ 3,  2,  2,  1, 19, 10, 11, 11, 12, 12, 12, 12, 13, 13, 13, 13, 13, 13,\n",
      "         13, 13, 14, 14, 14, 14, 14, 14, 14, 14],\n",
      "        [ 3,  3,  2,  2,  1, 19, 10, 11, 11, 12, 12, 12, 12, 13, 13, 13, 13, 13,\n",
      "         13, 13, 13, 14, 14, 14, 14, 14, 14, 14],\n",
      "        [ 3,  3,  3,  2,  2,  1, 19, 10, 11, 11, 12, 12, 12, 12, 13, 13, 13, 13,\n",
      "         13, 13, 13, 13, 14, 14, 14, 14, 14, 14],\n",
      "        [ 3,  3,  3,  3,  2,  2,  1, 19, 10, 11, 11, 12, 12, 12, 12, 13, 13, 13,\n",
      "         13, 13, 13, 13, 13, 14, 14, 14, 14, 14],\n",
      "        [ 4,  3,  3,  3,  3,  2,  2,  1, 19, 10, 11, 11, 12, 12, 12, 12, 13, 13,\n",
      "         13, 13, 13, 13, 13, 13, 14, 14, 14, 14],\n",
      "        [ 4,  4,  3,  3,  3,  3,  2,  2,  1, 19, 10, 11, 11, 12, 12, 12, 12, 13,\n",
      "         13, 13, 13, 13, 13, 13, 13, 14, 14, 14],\n",
      "        [ 4,  4,  4,  3,  3,  3,  3,  2,  2,  1, 19, 10, 11, 11, 12, 12, 12, 12,\n",
      "         13, 13, 13, 13, 13, 13, 13, 13, 14, 14],\n",
      "        [ 4,  4,  4,  4,  3,  3,  3,  3,  2,  2,  1, 19, 10, 11, 11, 12, 12, 12,\n",
      "         12, 13, 13, 13, 13, 13, 13, 13, 13, 14],\n",
      "        [ 4,  4,  4,  4,  4,  3,  3,  3,  3,  2,  2,  1, 19, 10, 11, 11, 12, 12,\n",
      "         12, 12, 13, 13, 13, 13, 13, 13, 13, 13],\n",
      "        [ 4,  4,  4,  4,  4,  4,  3,  3,  3,  3,  2,  2,  1, 19, 10, 11, 11, 12,\n",
      "         12, 12, 12, 13, 13, 13, 13, 13, 13, 13],\n",
      "        [ 4,  4,  4,  4,  4,  4,  4,  3,  3,  3,  3,  2,  2,  1, 19, 10, 11, 11,\n",
      "         12, 12, 12, 12, 13, 13, 13, 13, 13, 13],\n",
      "        [ 4,  4,  4,  4,  4,  4,  4,  4,  3,  3,  3,  3,  2,  2,  1, 19, 10, 11,\n",
      "         11, 12, 12, 12, 12, 13, 13, 13, 13, 13],\n",
      "        [ 5,  4,  4,  4,  4,  4,  4,  4,  4,  3,  3,  3,  3,  2,  2,  1, 19, 10,\n",
      "         11, 11, 12, 12, 12, 12, 13, 13, 13, 13],\n",
      "        [ 5,  5,  4,  4,  4,  4,  4,  4,  4,  4,  3,  3,  3,  3,  2,  2,  1, 19,\n",
      "         10, 11, 11, 12, 12, 12, 12, 13, 13, 13],\n",
      "        [ 5,  5,  5,  4,  4,  4,  4,  4,  4,  4,  4,  3,  3,  3,  3,  2,  2,  1,\n",
      "         19, 10, 11, 11, 12, 12, 12, 12, 13, 13],\n",
      "        [ 5,  5,  5,  5,  4,  4,  4,  4,  4,  4,  4,  4,  3,  3,  3,  3,  2,  2,\n",
      "          1, 19, 10, 11, 11, 12, 12, 12, 12, 13],\n",
      "        [ 5,  5,  5,  5,  5,  4,  4,  4,  4,  4,  4,  4,  4,  3,  3,  3,  3,  2,\n",
      "          2,  1, 19, 10, 11, 11, 12, 12, 12, 12],\n",
      "        [ 5,  5,  5,  5,  5,  5,  4,  4,  4,  4,  4,  4,  4,  4,  3,  3,  3,  3,\n",
      "          2,  2,  1, 19, 10, 11, 11, 12, 12, 12],\n",
      "        [ 5,  5,  5,  5,  5,  5,  5,  4,  4,  4,  4,  4,  4,  4,  4,  3,  3,  3,\n",
      "          3,  2,  2,  1, 19, 10, 11, 11, 12, 12],\n",
      "        [ 5,  5,  5,  5,  5,  5,  5,  5,  4,  4,  4,  4,  4,  4,  4,  4,  3,  3,\n",
      "          3,  3,  2,  2,  1, 19, 10, 11, 11, 12],\n",
      "        [ 5,  5,  5,  5,  5,  5,  5,  5,  5,  4,  4,  4,  4,  4,  4,  4,  4,  3,\n",
      "          3,  3,  3,  2,  2,  1, 19, 10, 11, 11],\n",
      "        [ 5,  5,  5,  5,  5,  5,  5,  5,  5,  5,  4,  4,  4,  4,  4,  4,  4,  4,\n",
      "          3,  3,  3,  3,  2,  2,  1, 19, 10, 11],\n",
      "        [ 5,  5,  5,  5,  5,  5,  5,  5,  5,  5,  5,  4,  4,  4,  4,  4,  4,  4,\n",
      "          4,  3,  3,  3,  3,  2,  2,  1, 19, 10],\n",
      "        [ 5,  5,  5,  5,  5,  5,  5,  5,  5,  5,  5,  5,  4,  4,  4,  4,  4,  4,\n",
      "          4,  4,  3,  3,  3,  3,  2,  2,  1, 19]])\n"
     ]
    }
   ],
   "source": [
    "def build_dis2idx():\n",
    "    dis2idx = np.zeros(4000, dtype='int64')\n",
    "    dis2idx[1] = 1\n",
    "    dis2idx[2:] = 2\n",
    "    dis2idx[4:] = 3\n",
    "    dis2idx[8:] = 4\n",
    "    dis2idx[16:] = 5\n",
    "    dis2idx[32:] = 6\n",
    "    dis2idx[64:] = 7\n",
    "    dis2idx[128:] = 8\n",
    "    dis2idx[256:] = 9\n",
    "    return dis2idx\n",
    "dis2idx = build_dis2idx()\n",
    "bert_len = len(bert_tokens) + 2  # +2 cho [CLS], [SEP]\n",
    "dist_inputs = torch.zeros((bert_len, bert_len), dtype=torch.long)\n",
    "for k in range(bert_len):\n",
    "    dist_inputs[k, :] += k\n",
    "    dist_inputs[:, k] -= k\n",
    "for i in range(bert_len):\n",
    "    for j in range(bert_len):\n",
    "        if dist_inputs[i, j] < 0:\n",
    "            dist_inputs[i, j] = int(dis2idx[-dist_inputs[i, j]]) + 9\n",
    "        else:\n",
    "            dist_inputs[i, j] = int(dis2idx[dist_inputs[i, j]])\n",
    "dist_inputs[dist_inputs == 0] = 19\n",
    "print(\"Bước 7 - Ma trận khoảng cách:\")\n",
    "print(dist_inputs)"
   ]
  },
  {
   "cell_type": "code",
   "execution_count": 43,
   "id": "063f9803",
   "metadata": {},
   "outputs": [
    {
     "name": "stdout",
     "output_type": "stream",
     "text": [
      "\n",
      "Bước 8 - Mẫu dữ liệu hoàn chỉnh:\n",
      "words: ['Alan', 'Bean', ',', 'who', 'was', 'part', 'of', 'Apollo', '12', ',', 'was', 'born', 'in', 'Wheeler', ',', 'Texas', 'on', 'March', '15th', ',', '1932', 'and', 'is', 'now', 'retired', '.']\n",
      "ner_labels_bert: [1, 2, 'None', 8, 8, 'None', 1, 2, 'None', 15, 15, 'None']\n",
      "rc_labels_bert: [1, 8, 'was a crew member of', 1, 15, 'birthPlace']\n",
      "bert_len: 28\n",
      "dist_inputs shape: torch.Size([28, 28])\n"
     ]
    }
   ],
   "source": [
    "# 8. Đóng gói thành mẫu dữ liệu\n",
    "sample = [words, ner_labels_bert, rc_labels_bert, bert_len, dist_inputs]\n",
    "print(\"\\nBước 8 - Mẫu dữ liệu hoàn chỉnh:\")\n",
    "print(\"words:\", sample[0])\n",
    "print(\"ner_labels_bert:\", sample[1])\n",
    "print(\"rc_labels_bert:\", sample[2])\n",
    "print(\"bert_len:\", sample[3])\n",
    "print(\"dist_inputs shape:\", sample[4].shape)"
   ]
  },
  {
   "cell_type": "markdown",
   "id": "d1bb55d6",
   "metadata": {},
   "source": [
    "#### preprocess_data\n",
    "Nhận vào tên dataset (NYT hoặc WEBNLG).\n",
    "\n",
    "Đọc file nhãn, dữ liệu train/test/dev.\n",
    "\n",
    "Khởi tạo tokenizer.\n",
    "\n",
    "Tiền xử lý dữ liệu với preprocess_data.\n",
    "\n",
    "Tạo các CAREDataset cho từng tập.\n",
    "\n",
    "Tạo Collator để gom batch.\n",
    "\n",
    "Tạo DataLoader cho train, test, dev.\n",
    "\n",
    "Trả về các DataLoader và mapping nhãn."
   ]
  },
  {
   "cell_type": "code",
   "execution_count": 48,
   "id": "fb55952d",
   "metadata": {
    "colab": {
     "referenced_widgets": [
      "a33c76adc35441d0b06cab5031a9fcd0",
      "28dee0746a90402aba20857f13172efe",
      "7d9c2609c3454afdbcfbe8bdb1326a1e",
      "41b616032b484f81ba33ea41a7d8e8bf"
     ]
    },
    "execution": {
     "iopub.execute_input": "2025-07-19T15:56:12.814203Z",
     "iopub.status.busy": "2025-07-19T15:56:12.813587Z",
     "iopub.status.idle": "2025-07-19T15:59:27.137403Z",
     "shell.execute_reply": "2025-07-19T15:59:27.136558Z"
    },
    "executionInfo": {
     "elapsed": 282275,
     "status": "ok",
     "timestamp": 1752923354926,
     "user": {
      "displayName": "Lương Đạt",
      "userId": "11214560588962627512"
     },
     "user_tz": -420
    },
    "id": "fb55952d",
    "outputId": "a1dc3443-fa3f-490f-d871-dbe9463f5341",
    "papermill": {
     "duration": 194.333687,
     "end_time": "2025-07-19T15:59:27.138576",
     "exception": false,
     "start_time": "2025-07-19T15:56:12.804889",
     "status": "completed"
    },
    "tags": []
   },
   "outputs": [
    {
     "name": "stderr",
     "output_type": "stream",
     "text": [
      "Processing WEBNLG: 100%|██████████| 5019/5019 [02:17<00:00, 36.44it/s] \n",
      "Processing WEBNLG: 100%|██████████| 703/703 [00:24<00:00, 28.90it/s] \n",
      "Processing WEBNLG: 100%|██████████| 499/499 [00:13<00:00, 36.32it/s] "
     ]
    },
    {
     "name": "stdout",
     "output_type": "stream",
     "text": [
      "\n",
      "Train loader size: 628\n",
      "Test loader size: 88\n",
      "Dev loader size: 63\n"
     ]
    },
    {
     "name": "stderr",
     "output_type": "stream",
     "text": [
      "\n"
     ]
    }
   ],
   "source": [
    "train_loader_weblg, test_loader_weblg, dev_loader_weblg, ner2idx_weblg, rel2idx_weblg = create_dataloaders('WEBNLG')\n",
    "\n",
    "print()\n",
    "print(\"Train loader size:\", len(train_loader_weblg))\n",
    "print(\"Test loader size:\", len(test_loader_weblg))\n",
    "print(\"Dev loader size:\", len(dev_loader_weblg))"
   ]
  },
  {
   "cell_type": "code",
   "execution_count": null,
   "id": "b21ac9ec",
   "metadata": {
    "execution": {
     "iopub.execute_input": "2025-07-19T15:59:27.256277Z",
     "iopub.status.busy": "2025-07-19T15:59:27.256064Z",
     "iopub.status.idle": "2025-07-19T15:59:27.260156Z",
     "shell.execute_reply": "2025-07-19T15:59:27.259338Z"
    },
    "executionInfo": {
     "elapsed": 108,
     "status": "ok",
     "timestamp": 1752923355176,
     "user": {
      "displayName": "Lương Đạt",
      "userId": "11214560588962627512"
     },
     "user_tz": -420
    },
    "id": "b21ac9ec",
    "outputId": "404f57e5-8d47-4883-d40b-20520bd10c2e",
    "papermill": {
     "duration": 0.062926,
     "end_time": "2025-07-19T15:59:27.261344",
     "exception": false,
     "start_time": "2025-07-19T15:59:27.198418",
     "status": "completed"
    },
    "tags": []
   },
   "outputs": [
    {
     "name": "stdout",
     "output_type": "stream",
     "text": [
      "NER2IDX: {'None': 0}\n",
      "REL2IDX: {'firstPublicationYear': 0, 'EISSN_number': 1, 'has to its northeast': 2, 'aircraftFighter': 3, 'elevationAboveTheSeaLevel': 4, 'influencedBy': 5, 'ethnicGroup': 6, 'chief': 7, 'fossil': 8, 'served as Chief of the Astronaut Office in': 9, 'class': 10, 'aircraftHelicopter': 11, 'backup pilot': 12, 'league': 13, '4th_runway_LengthFeet': 14, 'battles': 15, 'foundationPlace': 16, 'occupation': 17, 'leaderName': 18, 'headquarter': 19, 'jurisdiction': 20, 'numberOfMembers': 21, 'champions': 22, 'has to its southwest': 23, 'leaderTitle': 24, 'precededBy': 25, 'has to its northwest': 26, 'buildingType': 27, 'river': 28, 'architect': 29, 'neighboringMunicipality': 30, 'followedBy': 31, 'nearestCity': 32, 'editor': 33, 'officialLanguage': 34, 'chairman': 35, 'has to its southeast': 36, 'academicDiscipline': 37, 'tenant': 38, 'largestCity': 39, 'LCCN_number': 40, 'numberOfRooms': 41, 'was a crew member of': 42, 'administrativeArrondissement': 43, 'architecturalStyle': 44, 'attackAircraft': 45, 'anthem': 46, 'commander': 47, 'family': 48, 'partsType': 49, 'yearOfConstruction': 50, 'owningOrganisation': 51, 'district': 52, 'starring': 53, 'leader': 54, 'season': 55, 'foundedBy': 56, 'capital': 57, '1st_runway_SurfaceType': 58, 'dean': 59, 'municipality': 60, 'hubAirport': 61, 'location': 62, 'founder': 63, 'awards': 64, 'operator': 65, 'genus': 66, 'sportsOffered': 67, 'title': 68, 'language': 69, 'chancellor': 70, 'genre': 71, '1st_runway_LengthFeet': 72, 'currency': 73, 'creator': 74, 'academicStaffSize': 75, 'bedCount': 76, 'compete in': 77, 'affiliations': 78, '3rd_runway_LengthFeet': 79, 'almaMater': 80, 'sportsGoverningBody': 81, 'bird': 82, 'dishVariation': 83, 'senators': 84, 'creatorOfDish': 85, 'voice': 86, 'part': 87, 'country': 88, 'nickname': 89, 'governingBody': 90, 'category': 91, '1st_runway_Number': 92, 'nationality': 93, 'governmentType': 94, 'cityServed': 95, 'spokenIn': 96, 'outlookRanking': 97, 'areaCode': 98, 'parentCompany': 99, 'publisher': 100, 'was selected by NASA': 101, 'floorCount': 102, 'OCLC_number': 103, '5th_runway_Number': 104, 'author': 105, 'literaryGenre': 106, 'representative': 107, 'countySeat': 108, 'award': 109, 'operatingOrganisation': 110, 'developer': 111, 'notableWork': 112, 'leaderParty': 113, 'region': 114, 'order': 115, 'mainIngredients': 116, 'locationCity': 117, 'owner': 118, 'doctoralAdvisor': 119, 'headquarters': 120, 'manager': 121, 'languages': 122, 'residence': 123, 'club': 124, 'dedicatedTo': 125, 'numberOfUndergraduateStudents': 126, 'patronSaint': 127, 'mayor': 128, 'significantBuilding': 129, 'birthPlace': 130, 'crewMembers': 131, 'child': 132, 'buildingStartDate': 133, 'demonym': 134, 'deathPlace': 135, 'ground': 136, 'established': 137, 'numberOfStudents': 138, 'numberOfPostgraduateStudents': 139, 'significantProject': 140, 'president': 141, 'transportAircraft': 142, 'populationTotal': 143, 'broadcastedBy': 144, 'keyPerson': 145, 'runwayLength': 146, \"was given the 'Technical Campus' status by\": 147, 'division': 148, 'state': 149, 'isPartOf': 150, 'completionDate': 151, 'elevationAboveTheSeaLevel_(in_metres)': 152, 'year': 153, 'gemstone': 154, 'city': 155, 'mediaType': 156, 'postalCode': 157, 'hometown': 158, 'ingredient': 159, 'currentTenants': 160, 'ethnicGroups': 161, 'regionServed': 162, 'has to its west': 163, 'affiliation': 164, 'placeOfBirth': 165, 'administrativeCounty': 166, 'religion': 167, 'elevationAboveTheSeaLevel_(in_feet)': 168, 'has to its north': 169}\n",
      "Train loader: <torch.utils.data.dataloader.DataLoader object at 0x79bb0325ebd0>\n",
      "Test loader: <torch.utils.data.dataloader.DataLoader object at 0x79bb021a8710>\n",
      "Dev loader: <torch.utils.data.dataloader.DataLoader object at 0x79bb02179c50>\n"
     ]
    }
   ],
   "source": [
    "print(\"NER2IDX:\", ner2idx_weblg)\n",
    "print(\"REL2IDX:\", rel2idx_weblg)\n",
    "print(\"Train loader:\", train_loader_weblg)\n",
    "print(\"Test loader:\", test_loader_weblg)\n",
    "print(\"Dev loader:\", dev_loader_weblg)"
   ]
  },
  {
   "cell_type": "code",
   "execution_count": null,
   "id": "92970a3b",
   "metadata": {
    "execution": {
     "iopub.execute_input": "2025-07-19T15:59:27.376636Z",
     "iopub.status.busy": "2025-07-19T15:59:27.376412Z",
     "iopub.status.idle": "2025-07-19T17:11:54.977939Z",
     "shell.execute_reply": "2025-07-19T17:11:54.977204Z"
    },
    "executionInfo": {
     "elapsed": 771787,
     "status": "error",
     "timestamp": 1752924126981,
     "user": {
      "displayName": "Lương Đạt",
      "userId": "11214560588962627512"
     },
     "user_tz": -420
    },
    "id": "92970a3b",
    "outputId": "f5b12189-3de2-4d84-ca90-ff13ce8a95cc",
    "papermill": {
     "duration": 4347.661034,
     "end_time": "2025-07-19T17:11:54.979197",
     "exception": false,
     "start_time": "2025-07-19T15:59:27.318163",
     "status": "completed"
    },
    "tags": []
   },
   "outputs": [
    {
     "name": "stderr",
     "output_type": "stream",
     "text": [
      "Processing NYT: 100%|██████████| 56195/56195 [1:10:51<00:00, 13.22it/s]\n",
      "Processing NYT: 100%|██████████| 5000/5000 [05:53<00:00, 14.14it/s]\n",
      "Processing NYT: 100%|██████████| 4999/4999 [06:13<00:00, 13.39it/s]"
     ]
    },
    {
     "name": "stdout",
     "output_type": "stream",
     "text": [
      "\n",
      "Train loader size: 7025\n",
      "Test loader size: 625\n",
      "Dev loader size: 625\n"
     ]
    },
    {
     "name": "stderr",
     "output_type": "stream",
     "text": [
      "\n"
     ]
    }
   ],
   "source": [
    "train_loader_nyt, test_loader_nyt, dev_loader_nyt, ner2idx_nyt, rel2idx_nyt = create_dataloaders('NYT')\n",
    "\n",
    "print()\n",
    "print(\"Train loader size:\", len(train_loader_nyt))\n",
    "print(\"Test loader size:\", len(test_loader_nyt))\n",
    "print(\"Dev loader size:\", len(dev_loader_nyt))"
   ]
  },
  {
   "cell_type": "code",
   "execution_count": null,
   "id": "998d95a6",
   "metadata": {
    "execution": {
     "iopub.execute_input": "2025-07-19T17:11:57.145343Z",
     "iopub.status.busy": "2025-07-19T17:11:57.144781Z",
     "iopub.status.idle": "2025-07-19T17:11:57.149620Z",
     "shell.execute_reply": "2025-07-19T17:11:57.149064Z"
    },
    "executionInfo": {
     "elapsed": 5,
     "status": "aborted",
     "timestamp": 1752924127033,
     "user": {
      "displayName": "Lương Đạt",
      "userId": "11214560588962627512"
     },
     "user_tz": -420
    },
    "id": "998d95a6",
    "outputId": "533c1af1-0be2-4efb-a4de-7b0e00113119",
    "papermill": {
     "duration": 1.116566,
     "end_time": "2025-07-19T17:11:57.150700",
     "exception": false,
     "start_time": "2025-07-19T17:11:56.034134",
     "status": "completed"
    },
    "tags": []
   },
   "outputs": [
    {
     "name": "stdout",
     "output_type": "stream",
     "text": [
      "NER2IDX: {'None': 0}\n",
      "REL2IDX: {'/location/country/administrative_divisions': 0, '/sports/sports_team_location/teams': 1, '/people/ethnicity/geographic_distribution': 2, '/people/person/nationality': 3, '/people/person/ethnicity': 4, '/business/company/major_shareholders': 5, '/people/person/place_lived': 6, '/location/country/capital': 7, '/people/person/children': 8, '/business/company/industry': 9, '/business/company_shareholder/major_shareholder_of': 10, '/business/person/company': 11, '/people/ethnicity/people': 12, '/people/person/religion': 13, '/location/neighborhood/neighborhood_of': 14, '/people/deceased_person/place_of_death': 15, '/people/person/place_of_birth': 16, '/business/company/place_founded': 17, '/location/administrative_division/country': 18, '/location/location/contains': 19, '/business/company/advisors': 20, '/people/person/profession': 21, '/business/company/founders': 22, '/sports/sports_team/location': 23}\n",
      "Train loader: <torch.utils.data.dataloader.DataLoader object at 0x742c902d0110>\n",
      "Test loader: <torch.utils.data.dataloader.DataLoader object at 0x742c8bf85a90>\n",
      "Dev loader: <torch.utils.data.dataloader.DataLoader object at 0x742c8bfd21e0>\n"
     ]
    }
   ],
   "source": [
    "print(\"NER2IDX:\", ner2idx_nyt)\n",
    "print(\"REL2IDX:\", rel2idx_nyt)\n",
    "print(\"Train loader:\", train_loader_nyt)\n",
    "print(\"Test loader:\", test_loader_nyt)\n",
    "print(\"Dev loader:\", dev_loader_nyt)"
   ]
  },
  {
   "cell_type": "markdown",
   "id": "49be1ce2",
   "metadata": {
    "id": "49be1ce2",
    "papermill": {
     "duration": 1.118235,
     "end_time": "2025-07-19T17:11:59.376356",
     "exception": false,
     "start_time": "2025-07-19T17:11:58.258121",
     "status": "completed"
    },
    "tags": []
   },
   "source": [
    "## Model"
   ]
  },
  {
   "cell_type": "code",
   "execution_count": 9,
   "id": "a0eb65c8",
   "metadata": {
    "execution": {
     "iopub.execute_input": "2025-07-19T17:12:01.689967Z",
     "iopub.status.busy": "2025-07-19T17:12:01.689722Z",
     "iopub.status.idle": "2025-07-19T17:12:01.710777Z",
     "shell.execute_reply": "2025-07-19T17:12:01.710063Z"
    },
    "executionInfo": {
     "elapsed": 54,
     "status": "ok",
     "timestamp": 1753068502674,
     "user": {
      "displayName": "Lương Đạt",
      "userId": "11214560588962627512"
     },
     "user_tz": -420
    },
    "id": "a0eb65c8",
    "papermill": {
     "duration": 1.144726,
     "end_time": "2025-07-19T17:12:01.711919",
     "exception": false,
     "start_time": "2025-07-19T17:12:00.567193",
     "status": "completed"
    },
    "tags": []
   },
   "outputs": [],
   "source": [
    "class NERUnit(nn.Module):\n",
    "    def __init__(self, ner2idx, hidden_size, share_hidden_size, dropout):\n",
    "        super().__init__()\n",
    "        self.ner2idx = ner2idx\n",
    "        self.transform = nn.Linear(hidden_size * 2 + share_hidden_size, hidden_size)\n",
    "        self.classifier = nn.Linear(hidden_size, len(ner2idx))\n",
    "        self.norm = nn.LayerNorm(hidden_size)\n",
    "        self.activation = nn.ELU()\n",
    "        self.dropout = nn.Dropout(dropout)\n",
    "\n",
    "    def forward(self, h_ner, h_share, mask):\n",
    "        length, batch_size, _ = h_ner.size()\n",
    "        device = h_ner.device\n",
    "\n",
    "        # Create entity span representations\n",
    "        start_rep = h_ner.unsqueeze(1).repeat(1, length, 1, 1)\n",
    "        end_rep = h_ner.unsqueeze(0).repeat(length, 1, 1, 1)\n",
    "\n",
    "        # Combine representations\n",
    "        combined = torch.cat([start_rep, end_rep, h_share], dim=-1)\n",
    "        transformed = self.norm(self.transform(combined))\n",
    "        activated = self.activation(self.dropout(transformed))\n",
    "        output = torch.sigmoid(self.classifier(activated))\n",
    "\n",
    "        # Apply masks\n",
    "        diagonal_mask = torch.triu(torch.ones(batch_size, length, length)).to(device)\n",
    "        diagonal_mask = diagonal_mask.permute(1, 2, 0)\n",
    "\n",
    "        mask_s = mask.unsqueeze(1).repeat(1, length, 1)\n",
    "        mask_e = mask.unsqueeze(0).repeat(length, 1, 1)\n",
    "        combined_mask = diagonal_mask * mask_s * mask_e\n",
    "        combined_mask = combined_mask.unsqueeze(-1).repeat(1, 1, 1, len(self.ner2idx))\n",
    "\n",
    "        return output * combined_mask\n",
    "\n",
    "class RelationUnit(nn.Module):\n",
    "    def __init__(self, rel2idx, hidden_size, share_hidden_size, dropout):\n",
    "        super().__init__()\n",
    "        self.rel2idx = rel2idx\n",
    "        self.transform = nn.Linear(hidden_size * 2 + share_hidden_size, hidden_size)\n",
    "        self.classifier = nn.Linear(hidden_size, len(rel2idx))\n",
    "        self.norm = nn.LayerNorm(hidden_size)\n",
    "        self.activation = nn.ELU()\n",
    "        self.dropout = nn.Dropout(dropout)\n",
    "\n",
    "    def forward(self, h_re, h_share, mask):\n",
    "        length, batch_size, _ = h_re.size()\n",
    "\n",
    "        # Create relation representations\n",
    "        subj_rep = h_re.unsqueeze(1).repeat(1, length, 1, 1)\n",
    "        obj_rep = h_re.unsqueeze(0).repeat(length, 1, 1, 1)\n",
    "\n",
    "        # Combine representations\n",
    "        combined = torch.cat([subj_rep, obj_rep, h_share], dim=-1)\n",
    "        transformed = self.norm(self.transform(combined))\n",
    "        activated = self.activation(self.dropout(transformed))\n",
    "        output = torch.sigmoid(self.classifier(activated))\n",
    "\n",
    "        # Apply masks\n",
    "        mask_expanded = mask.unsqueeze(-1).repeat(1, 1, len(self.rel2idx))\n",
    "        mask_subj = mask_expanded.unsqueeze(1).repeat(1, length, 1, 1)\n",
    "        mask_obj = mask_expanded.unsqueeze(0).repeat(length, 1, 1, 1)\n",
    "        combined_mask = mask_subj * mask_obj\n",
    "\n",
    "        return output * combined_mask\n",
    "\n",
    "class ConvAttentionLayer(nn.Module):\n",
    "    def __init__(self, hid_dim, n_heads, pre_channels, channels, dropout=0.1):\n",
    "        super().__init__()\n",
    "        self.n_heads = n_heads\n",
    "        input_channels = hid_dim * 2 + pre_channels\n",
    "\n",
    "        self.linear1 = nn.Linear(hid_dim, hid_dim, bias=False)\n",
    "        self.linear2 = nn.Linear(hid_dim, hid_dim, bias=False)\n",
    "\n",
    "        self.conv = nn.Sequential(\n",
    "            nn.Dropout2d(dropout),\n",
    "            nn.Conv2d(input_channels, channels, kernel_size=1),\n",
    "            nn.LeakyReLU(0.1, inplace=True),\n",
    "            nn.Conv2d(channels, channels, kernel_size=3, padding=1),\n",
    "            nn.LeakyReLU(0.1, inplace=True),\n",
    "        )\n",
    "        self.score_layer = nn.Conv2d(channels, n_heads, kernel_size=1, bias=False)\n",
    "        self.dropout = nn.Dropout(dropout)\n",
    "        self.activation = nn.LeakyReLU(0.1, inplace=True)\n",
    "\n",
    "    def forward(self, x, y, pre_conv=None, mask=None):\n",
    "        ori_x, ori_y = x, y\n",
    "        B, M, _ = x.size()\n",
    "        B, N, _ = y.size()\n",
    "\n",
    "        # Create feature map\n",
    "        fea_map = torch.cat([\n",
    "            x.unsqueeze(2).repeat_interleave(N, 2),\n",
    "            y.unsqueeze(1).repeat_interleave(M, 1)\n",
    "        ], -1).permute(0, 3, 1, 2).contiguous()\n",
    "\n",
    "        if pre_conv is not None:\n",
    "            fea_map = torch.cat([fea_map, pre_conv], 1)\n",
    "\n",
    "        fea_map = self.conv(fea_map)\n",
    "        scores = self.activation(self.score_layer(fea_map))\n",
    "\n",
    "        if mask is not None:\n",
    "            mask = mask.expand_as(scores)\n",
    "            scores = scores.masked_fill(mask.eq(0), -9e10)\n",
    "\n",
    "        # Apply attention\n",
    "        x = self.linear1(self.dropout(x))\n",
    "        y = self.linear2(self.dropout(y))\n",
    "\n",
    "        out_x = torch.matmul(F.softmax(scores, -1),\n",
    "                           y.view(B, N, self.n_heads, -1).transpose(1, 2))\n",
    "        out_x = out_x.transpose(1, 2).contiguous().view(B, M, -1)\n",
    "\n",
    "        out_y = torch.matmul(F.softmax(scores.transpose(2, 3), -1),\n",
    "                           x.view(B, M, self.n_heads, -1).transpose(1, 2))\n",
    "        out_y = out_y.transpose(1, 2).contiguous().view(B, N, -1)\n",
    "\n",
    "        # Residual connections\n",
    "        out_x = self.activation(out_x + x) + ori_x\n",
    "        out_y = self.activation(out_y + y) + ori_y\n",
    "\n",
    "        return out_x, out_y, fea_map\n",
    "\n",
    "class ConvAttention(nn.Module):\n",
    "    def __init__(self, hid_dim, n_heads, pre_channels, channels, layers, dropout):\n",
    "        super().__init__()\n",
    "        self.layers = nn.ModuleList([\n",
    "            ConvAttentionLayer(hid_dim, n_heads,\n",
    "                             pre_channels if i == 0 else channels,\n",
    "                             channels, dropout)\n",
    "            for i in range(layers)\n",
    "        ])\n",
    "\n",
    "    def forward(self, x, y, fea_map=None, mask=None):\n",
    "        for layer in self.layers:\n",
    "            x, y, fea_map = layer(x, y, fea_map, mask)\n",
    "        return x, y, fea_map.permute(0, 2, 3, 1).contiguous()\n"
   ]
  },
  {
   "cell_type": "code",
   "execution_count": 10,
   "id": "50d45223",
   "metadata": {
    "execution": {
     "iopub.execute_input": "2025-07-19T17:12:03.979951Z",
     "iopub.status.busy": "2025-07-19T17:12:03.979371Z",
     "iopub.status.idle": "2025-07-19T17:12:03.987115Z",
     "shell.execute_reply": "2025-07-19T17:12:03.986582Z"
    },
    "executionInfo": {
     "elapsed": 30,
     "status": "ok",
     "timestamp": 1753068502709,
     "user": {
      "displayName": "Lương Đạt",
      "userId": "11214560588962627512"
     },
     "user_tz": -420
    },
    "id": "50d45223",
    "papermill": {
     "duration": 1.167467,
     "end_time": "2025-07-19T17:12:03.988193",
     "exception": false,
     "start_time": "2025-07-19T17:12:02.820726",
     "status": "completed"
    },
    "tags": []
   },
   "outputs": [],
   "source": [
    "class CARE(nn.Module):\n",
    "    def __init__(self, ner2idx, rel2idx):\n",
    "        super().__init__()\n",
    "\n",
    "        self.ner_unit = NERUnit(ner2idx, config.HIDDEN_SIZE,\n",
    "                               config.SHARE_HIDDEN_SIZE, config.DROPOUT)\n",
    "        self.relation_unit = RelationUnit(rel2idx, config.HIDDEN_SIZE,\n",
    "                                        config.SHARE_HIDDEN_SIZE, config.DROPOUT)\n",
    "\n",
    "        self.dist_emb = nn.Embedding(20, config.DIST_EMB_SIZE)\n",
    "        self.dropout = nn.Dropout(config.DROPOUT)\n",
    "\n",
    "        # BERT components\n",
    "        self.tokenizer = AutoTokenizer.from_pretrained(\"bert-base-cased\")\n",
    "        self.bert = AutoModel.from_pretrained(\"bert-base-cased\")\n",
    "\n",
    "        # Co-attention mechanism\n",
    "        self.conv_attention = ConvAttention(\n",
    "            hid_dim=config.HIDDEN_SIZE,\n",
    "            n_heads=1,\n",
    "            pre_channels=config.DIST_EMB_SIZE,\n",
    "            channels=config.SHARE_HIDDEN_SIZE,\n",
    "            layers=config.CO_ATTENTION_LAYERS,\n",
    "            dropout=config.DROPOUT\n",
    "        )\n",
    "\n",
    "    def forward(self, texts, mask, dist):\n",
    "        # Encode with BERT\n",
    "        encoded = self.tokenizer(texts, return_tensors=\"pt\",\n",
    "                                padding='longest', is_split_into_words=True)\n",
    "        encoded = {k: v.to(mask.device) for k, v in encoded.items()}\n",
    "\n",
    "        x = self.bert(**encoded)[0]\n",
    "        if self.training:\n",
    "            x = self.dropout(x)\n",
    "\n",
    "        length = x.size(1)\n",
    "\n",
    "        # Distance embeddings\n",
    "        dist_emb = self.dist_emb(dist).permute(0, 3, 1, 2)\n",
    "\n",
    "        # Create padding masks\n",
    "        padding_mask = mask.unsqueeze(-1)\n",
    "        mask1 = padding_mask.unsqueeze(1).repeat(1, length, 1, 1)\n",
    "        mask2 = padding_mask.unsqueeze(0).repeat(length, 1, 1, 1)\n",
    "        padding_mask = (mask1 * mask2).permute(2, 3, 0, 1)\n",
    "\n",
    "        # Co-attention\n",
    "        h_ner, h_re, h_share = self.conv_attention(x, x, dist_emb, padding_mask)\n",
    "\n",
    "        # Rearrange for NER and RE units\n",
    "        h_ner = h_ner.permute(1, 0, 2)\n",
    "        h_re = h_re.permute(1, 0, 2)\n",
    "        h_share = h_share.permute(1, 2, 0, 3)\n",
    "\n",
    "        # Get predictions\n",
    "        ner_pred = self.ner_unit(h_ner, h_share, mask)\n",
    "        re_pred = self.relation_unit(h_re, h_share, mask)\n",
    "\n",
    "        return ner_pred, re_pred"
   ]
  },
  {
   "cell_type": "markdown",
   "id": "6a0dc4fa",
   "metadata": {},
   "source": [
    "#### CAREModel\n",
    "kiến trúc chính của mô hình CARE, bao gồm 3 thành phần chính:\n",
    "\n",
    "1. Encoder Module: Input → BERT → MLPs (tách thành NER-specified, RE-specified).\n",
    "    * Lớp CARE sử dụng BERT (self.bert = AutoModel.from_pretrained(...)).\n",
    "    * Sau BERT, các vector đặc trưng được tách thành hai nhánh: cho NER và RE (thường qua các Linear layers/MLPs).\n",
    "\n",
    "    * Kết hợp Distance Embedding: Sử dụng embedding cho khoảng cách giữa các token.\n",
    "        * Lớp CARE có self.dist_emb = nn.Embedding(20, config.DIST_EMB_SIZE).\n",
    "        * Ma trận khoảng cách được ánh xạ qua embedding này và kết hợp vào co-attention.\n",
    "\n",
    "2. Co-Attention Module:  Kết hợp đặc trưng NER, RE với Distance Embedding. Qua Conv2d để tạo ra các đặc trưng chia sẻ (shared feature) và ma trận đồng chú ý (co-attention matrix).\n",
    "\n",
    "    * Lớp ConvAttentionLayer và ConvAttention thực hiện việc này:\n",
    "        * Nhận đầu vào là đặc trưng NER, RE, distance embedding.\n",
    "        * Kết hợp (concatenate) các đặc trưng này.\n",
    "        * Qua các lớp Conv2d để học tương tác cục bộ và đồng chú ý.\n",
    "        * Trả về các đặc trưng đã attention hóa cho NER, RE, và shared feature.\n",
    "3. Classification Module: Đặc trưng NER, RE (sau co-attention) được đưa vào các bảng (table) để dự đoán nhãn cho từng cặp vị trí (NER Table, RE Table).\n",
    "    * Lớp NERUnit và RelationUnit:\n",
    "        * Nhận đặc trưng đã attention hóa.\n",
    "        * Kết hợp các cặp (start, end) hoặc (subject, object).\n",
    "        * Qua các lớp Linear, LayerNorm, ELU, Dropout, Sigmoid để dự đoán xác suất nhãn cho từng cặp.\n",
    "        * Đầu ra là các bảng (tensor) dự đoán NER và RE cho toàn bộ câu.\n"
   ]
  },
  {
   "cell_type": "markdown",
   "id": "dc4120d2",
   "metadata": {
    "id": "dc4120d2",
    "papermill": {
     "duration": 1.114656,
     "end_time": "2025-07-19T17:12:06.248930",
     "exception": false,
     "start_time": "2025-07-19T17:12:05.134274",
     "status": "completed"
    },
    "tags": []
   },
   "source": [
    "## Metric and Loss"
   ]
  },
  {
   "cell_type": "code",
   "execution_count": 13,
   "id": "5a3fe3f3",
   "metadata": {
    "execution": {
     "iopub.execute_input": "2025-07-19T17:12:08.480737Z",
     "iopub.status.busy": "2025-07-19T17:12:08.480172Z",
     "iopub.status.idle": "2025-07-19T17:12:08.489187Z",
     "shell.execute_reply": "2025-07-19T17:12:08.488605Z"
    },
    "executionInfo": {
     "elapsed": 52,
     "status": "ok",
     "timestamp": 1753068502786,
     "user": {
      "displayName": "Lương Đạt",
      "userId": "11214560588962627512"
     },
     "user_tz": -420
    },
    "id": "5a3fe3f3",
    "papermill": {
     "duration": 1.130768,
     "end_time": "2025-07-19T17:12:08.490233",
     "exception": false,
     "start_time": "2025-07-19T17:12:07.359465",
     "status": "completed"
    },
    "tags": []
   },
   "outputs": [],
   "source": [
    "class Metrics:\n",
    "    def __init__(self, rel2idx, ner2idx, metric_type=\"micro\"):\n",
    "        self.rel2idx = rel2idx\n",
    "        self.ner2idx = ner2idx\n",
    "        self.metric_type = metric_type\n",
    "\n",
    "    def count_predictions(self, ner_pred, ner_label, re_pred, re_label):\n",
    "        ner_pred = (ner_pred >= 0.5).float()\n",
    "        re_pred = (re_pred >= 0.5).float()\n",
    "\n",
    "        # Get entity mask for relations\n",
    "        ner_mask = torch.sum(ner_pred, dim=1).float()\n",
    "        ner_mask = torch.sum(ner_mask, dim=-1).float()\n",
    "        ner_mask = (ner_mask > 0).float()\n",
    "\n",
    "        seq_len = ner_mask.size(0)\n",
    "        e1_mask = ner_mask.unsqueeze(0).repeat(seq_len, 1, 1)\n",
    "        e2_mask = ner_mask.unsqueeze(1).repeat(1, seq_len, 1)\n",
    "        entity_pair_mask = e1_mask * e2_mask\n",
    "\n",
    "        # Apply entity mask to relation predictions\n",
    "        entity_pair_mask = entity_pair_mask.unsqueeze(-1).repeat(1, 1, 1, len(self.rel2idx))\n",
    "        filtered_re_pred = re_pred * entity_pair_mask\n",
    "\n",
    "        # Count predictions and gold labels\n",
    "        pred_num = filtered_re_pred.sum().item()\n",
    "        gold_num = re_label.sum().item()\n",
    "\n",
    "        # Count correct predictions\n",
    "        correct_re = filtered_re_pred + re_label\n",
    "        correct_re = (correct_re == 2).float()\n",
    "\n",
    "        # Check if entities are correctly identified\n",
    "        ner_correct = ner_pred * ner_label\n",
    "        ner_correct = torch.sum(ner_correct, dim=1)\n",
    "        ner_correct = torch.sum(ner_correct, dim=-1)\n",
    "        ner_correct = (ner_correct > 0).float()\n",
    "\n",
    "        e1_correct = ner_correct.unsqueeze(0).repeat(seq_len, 1, 1)\n",
    "        e2_correct = ner_correct.unsqueeze(1).repeat(1, seq_len, 1)\n",
    "        entity_correct_mask = e1_correct * e2_correct\n",
    "        entity_correct_mask = entity_correct_mask.unsqueeze(-1).repeat(1, 1, 1, re_label.size(-1))\n",
    "\n",
    "        correct_re = correct_re * entity_correct_mask\n",
    "        correct_num = correct_re.sum().item()\n",
    "\n",
    "        return pred_num, gold_num, correct_num\n",
    "\n",
    "    def count_entities(self, ner_pred, ner_label):\n",
    "        ner_pred = (ner_pred >= 0.5).float()\n",
    "        pred_num = ner_pred.sum().item()\n",
    "        gold_num = ner_label.sum().item()\n",
    "        correct_num = (ner_pred * ner_label).sum().item()\n",
    "        return pred_num, gold_num, correct_num\n",
    "\n",
    "def calculate_f1(pred_num, gold_num, correct_num):\n",
    "    if pred_num == 0:\n",
    "        precision = 0\n",
    "    else:\n",
    "        precision = correct_num / pred_num\n",
    "\n",
    "    if gold_num == 0:\n",
    "        recall = 0\n",
    "    else:\n",
    "        recall = correct_num / gold_num\n",
    "\n",
    "    if precision + recall == 0:\n",
    "        f1 = 0\n",
    "    else:\n",
    "        f1 = 2 * precision * recall / (precision + recall)\n",
    "\n",
    "    return {\"p\": precision, \"r\": recall, \"f\": f1}"
   ]
  },
  {
   "cell_type": "code",
   "execution_count": 14,
   "id": "2706c8ea",
   "metadata": {
    "execution": {
     "iopub.execute_input": "2025-07-19T17:12:10.636336Z",
     "iopub.status.busy": "2025-07-19T17:12:10.636015Z",
     "iopub.status.idle": "2025-07-19T17:12:10.640406Z",
     "shell.execute_reply": "2025-07-19T17:12:10.639857Z"
    },
    "executionInfo": {
     "elapsed": 48,
     "status": "ok",
     "timestamp": 1753068505515,
     "user": {
      "displayName": "Lương Đạt",
      "userId": "11214560588962627512"
     },
     "user_tz": -420
    },
    "id": "2706c8ea",
    "papermill": {
     "duration": 1.113955,
     "end_time": "2025-07-19T17:12:10.641487",
     "exception": false,
     "start_time": "2025-07-19T17:12:09.527532",
     "status": "completed"
    },
    "tags": []
   },
   "outputs": [],
   "source": [
    "class CARELoss(nn.Module):\n",
    "    def __init__(self):\n",
    "        super().__init__()\n",
    "        self.bce_loss = nn.BCELoss(reduction='sum')\n",
    "\n",
    "    def forward(self, ner_pred, ner_label, re_pred, re_label):\n",
    "        seq_len = ner_pred.size(1)\n",
    "        ner_loss = self.bce_loss(ner_pred, ner_label) / seq_len\n",
    "        re_loss = self.bce_loss(re_pred, re_label) / seq_len\n",
    "        return ner_loss + re_loss\n"
   ]
  },
  {
   "cell_type": "markdown",
   "id": "941dc6a0",
   "metadata": {
    "id": "941dc6a0",
    "papermill": {
     "duration": 1.047104,
     "end_time": "2025-07-19T17:12:12.867479",
     "exception": false,
     "start_time": "2025-07-19T17:12:11.820375",
     "status": "completed"
    },
    "tags": []
   },
   "source": [
    "## Training and Evaluation"
   ]
  },
  {
   "cell_type": "code",
   "execution_count": 15,
   "id": "82639df8",
   "metadata": {
    "execution": {
     "iopub.execute_input": "2025-07-19T17:12:15.122159Z",
     "iopub.status.busy": "2025-07-19T17:12:15.121858Z",
     "iopub.status.idle": "2025-07-19T17:12:15.134240Z",
     "shell.execute_reply": "2025-07-19T17:12:15.133711Z"
    },
    "executionInfo": {
     "elapsed": 54,
     "status": "ok",
     "timestamp": 1753068515883,
     "user": {
      "displayName": "Lương Đạt",
      "userId": "11214560588962627512"
     },
     "user_tz": -420
    },
    "id": "82639df8",
    "papermill": {
     "duration": 1.128585,
     "end_time": "2025-07-19T17:12:15.135375",
     "exception": false,
     "start_time": "2025-07-19T17:12:14.006790",
     "status": "completed"
    },
    "tags": []
   },
   "outputs": [],
   "source": [
    "# ... existing code ...\n",
    "\n",
    "## Training and Evaluation Functions\n",
    "\n",
    "def train_model(model, train_loader, dev_loader, ner2idx, rel2idx, device, dataset_name, epochs=10):\n",
    "    \"\"\"Train the CARE model\"\"\"\n",
    "    print(f\"Training CARE model on {dataset_name} dataset...\")\n",
    "\n",
    "    # Setup\n",
    "    optimizer = optim.Adam(model.parameters(), lr=config.LR, weight_decay=config.WEIGHT_DECAY)\n",
    "    loss_fn = CARELoss()\n",
    "    metrics = Metrics(rel2idx, ner2idx, config.EVAL_METRIC)\n",
    "\n",
    "    # Training loop\n",
    "    best_f1 = 0\n",
    "    best_model_path = f\"care_best_{dataset_name.lower()}.pt\"\n",
    "\n",
    "    for epoch in range(epochs):\n",
    "        model.train()\n",
    "        total_loss = 0\n",
    "        total_steps = 0\n",
    "\n",
    "        print(f\"Epoch {epoch+1}/{epochs}\")\n",
    "\n",
    "        for batch_idx, batch in enumerate(tqdm(train_loader, desc=f\"Training Epoch {epoch+1}\")):\n",
    "            texts, ner_labels, re_labels, mask, dist = batch\n",
    "            ner_labels = ner_labels.to(device)\n",
    "            re_labels = re_labels.to(device)\n",
    "            mask = mask.to(device)\n",
    "            dist = dist.to(device)\n",
    "\n",
    "            optimizer.zero_grad()\n",
    "\n",
    "            ner_pred, re_pred = model(texts, mask, dist)\n",
    "            loss = loss_fn(ner_pred, ner_labels, re_pred, re_labels)\n",
    "\n",
    "            loss.backward()\n",
    "            torch.nn.utils.clip_grad_norm_(model.parameters(), config.CLIP)\n",
    "            optimizer.step()\n",
    "\n",
    "            total_loss += loss.item()\n",
    "            total_steps += 1\n",
    "\n",
    "        avg_loss = total_loss / total_steps\n",
    "        print(f\"Average training loss: {avg_loss:.4f}\")\n",
    "\n",
    "        # Evaluate on dev set\n",
    "        dev_results = evaluate_model(model, dev_loader, rel2idx, ner2idx, loss_fn, device, \"dev\")\n",
    "        triple_f1 = dev_results[0][\"f\"]\n",
    "\n",
    "        print(f\"Dev Triple F1: {triple_f1:.4f}\")\n",
    "\n",
    "        # Save best model\n",
    "        if triple_f1 > best_f1:\n",
    "            best_f1 = triple_f1\n",
    "            torch.save({\n",
    "                'epoch': epoch,\n",
    "                'model_state_dict': model.state_dict(),\n",
    "                'optimizer_state_dict': optimizer.state_dict(),\n",
    "                'best_f1': best_f1,\n",
    "                'ner2idx': ner2idx,\n",
    "                'rel2idx': rel2idx,\n",
    "                'config': config.__dict__\n",
    "            }, best_model_path)\n",
    "            print(f\"New best model saved with F1: {best_f1:.4f}\")\n",
    "\n",
    "        # Save checkpoint every 5 epochs\n",
    "        if (epoch + 1) % 5 == 0:\n",
    "            checkpoint_path = f\"care_checkpoint_{dataset_name.lower()}_epoch_{epoch+1}.pt\"\n",
    "            torch.save({\n",
    "                'epoch': epoch,\n",
    "                'model_state_dict': model.state_dict(),\n",
    "                'optimizer_state_dict': optimizer.state_dict(),\n",
    "                'loss': avg_loss,\n",
    "                'ner2idx': ner2idx,\n",
    "                'rel2idx': rel2idx,\n",
    "                'config': config.__dict__\n",
    "            }, checkpoint_path)\n",
    "            print(f\"Checkpoint saved: {checkpoint_path}\")\n",
    "\n",
    "    print(f\"Training completed. Best F1: {best_f1:.4f}\")\n",
    "    return best_model_path\n",
    "\n",
    "def evaluate_model(model, dataloader, rel2idx, ner2idx, loss_fn, device, split_name):\n",
    "    \"\"\"Evaluate the model on given dataloader\"\"\"\n",
    "    model.eval()\n",
    "    total_loss = 0\n",
    "    total_steps = 0\n",
    "\n",
    "    metrics = Metrics(rel2idx, ner2idx, config.EVAL_METRIC)\n",
    "    entity_counts = [0, 0, 0]  # pred, gold, correct\n",
    "    relation_counts = [0, 0, 0]\n",
    "\n",
    "    with torch.no_grad():\n",
    "        for batch in tqdm(dataloader, desc=f\"Evaluating {split_name}\"):\n",
    "            texts, ner_labels, re_labels, mask, dist = batch\n",
    "            ner_labels = ner_labels.to(device)\n",
    "            re_labels = re_labels.to(device)\n",
    "            mask = mask.to(device)\n",
    "            dist = dist.to(device)\n",
    "\n",
    "            ner_pred, re_pred = model(texts, mask, dist)\n",
    "            loss = loss_fn(ner_pred, ner_labels, re_pred, re_labels)\n",
    "\n",
    "            total_loss += loss.item()\n",
    "            total_steps += 1\n",
    "\n",
    "            # Count predictions\n",
    "            pred_num, gold_num, correct_num = metrics.count_predictions(ner_pred, ner_labels, re_pred, re_labels)\n",
    "            relation_counts[0] += pred_num\n",
    "            relation_counts[1] += gold_num\n",
    "            relation_counts[2] += correct_num\n",
    "\n",
    "            # Count entities\n",
    "            ner_pred_num, ner_gold_num, ner_correct_num = metrics.count_entities(ner_pred, ner_labels)\n",
    "            entity_counts[0] += ner_pred_num\n",
    "            entity_counts[1] += ner_gold_num\n",
    "            entity_counts[2] += ner_correct_num\n",
    "\n",
    "    avg_loss = total_loss / total_steps\n",
    "\n",
    "    # Calculate F1 scores\n",
    "    triple_result = calculate_f1(relation_counts[0], relation_counts[1], relation_counts[2])\n",
    "    entity_result = calculate_f1(entity_counts[0], entity_counts[1], entity_counts[2])\n",
    "\n",
    "    print(f\"------ {split_name.upper()} Results ------\")\n",
    "    print(f\"Loss: {avg_loss:.4f}\")\n",
    "    print(f\"Entity - P: {entity_result['p']:.4f}, R: {entity_result['r']:.4f}, F1: {entity_result['f']:.4f}\")\n",
    "    print(f\"Triple - P: {triple_result['p']:.4f}, R: {triple_result['r']:.4f}, F1: {triple_result['f']:.4f}\")\n",
    "\n",
    "    return triple_result, entity_result, avg_loss\n"
   ]
  },
  {
   "cell_type": "markdown",
   "id": "b6d6d867",
   "metadata": {
    "id": "b6d6d867",
    "papermill": {
     "duration": 1.129973,
     "end_time": "2025-07-19T17:12:17.370298",
     "exception": false,
     "start_time": "2025-07-19T17:12:16.240325",
     "status": "completed"
    },
    "tags": []
   },
   "source": [
    "## Train WEBLLG"
   ]
  },
  {
   "cell_type": "code",
   "execution_count": null,
   "id": "5dc93883",
   "metadata": {
    "colab": {
     "referenced_widgets": [
      "a955fadfff464b3db50d9ae0a999c148"
     ]
    },
    "execution": {
     "iopub.execute_input": "2025-07-19T17:12:19.611536Z",
     "iopub.status.busy": "2025-07-19T17:12:19.611267Z",
     "iopub.status.idle": "2025-07-19T17:51:34.842384Z",
     "shell.execute_reply": "2025-07-19T17:51:34.841668Z"
    },
    "id": "5dc93883",
    "outputId": "0ed1946c-0e06-4922-cfb7-d1764db550b4",
    "papermill": {
     "duration": 2356.352862,
     "end_time": "2025-07-19T17:51:34.843640",
     "exception": false,
     "start_time": "2025-07-19T17:12:18.490778",
     "status": "completed"
    },
    "tags": []
   },
   "outputs": [
    {
     "name": "stdout",
     "output_type": "stream",
     "text": [
      "Using device: cuda\n",
      "==================================================\n",
      "TRAINING ON WEBNLG DATASET\n",
      "==================================================\n"
     ]
    },
    {
     "name": "stderr",
     "output_type": "stream",
     "text": [
      "2025-07-19 17:12:38.234542: E external/local_xla/xla/stream_executor/cuda/cuda_fft.cc:477] Unable to register cuFFT factory: Attempting to register factory for plugin cuFFT when one has already been registered\n",
      "WARNING: All log messages before absl::InitializeLog() is called are written to STDERR\n",
      "E0000 00:00:1752945158.587514      19 cuda_dnn.cc:8310] Unable to register cuDNN factory: Attempting to register factory for plugin cuDNN when one has already been registered\n",
      "E0000 00:00:1752945158.694995      19 cuda_blas.cc:1418] Unable to register cuBLAS factory: Attempting to register factory for plugin cuBLAS when one has already been registered\n"
     ]
    },
    {
     "data": {
      "application/vnd.jupyter.widget-view+json": {
       "model_id": "a955fadfff464b3db50d9ae0a999c148",
       "version_major": 2,
       "version_minor": 0
      },
      "text/plain": [
       "model.safetensors:   0%|          | 0.00/436M [00:00<?, ?B/s]"
      ]
     },
     "metadata": {},
     "output_type": "display_data"
    },
    {
     "name": "stdout",
     "output_type": "stream",
     "text": [
      "Training CARE model on WEBNLG dataset...\n",
      "Epoch 1/10\n"
     ]
    },
    {
     "name": "stderr",
     "output_type": "stream",
     "text": [
      "Training Epoch 1: 100%|██████████| 628/628 [03:32<00:00,  2.95it/s]\n"
     ]
    },
    {
     "name": "stdout",
     "output_type": "stream",
     "text": [
      "Average training loss: 429.2165\n"
     ]
    },
    {
     "name": "stderr",
     "output_type": "stream",
     "text": [
      "Evaluating dev: 100%|██████████| 63/63 [00:05<00:00, 11.33it/s]\n"
     ]
    },
    {
     "name": "stdout",
     "output_type": "stream",
     "text": [
      "------ DEV Results ------\n",
      "Loss: 2.3302\n",
      "Entity - P: 0.8639, R: 0.9505, F1: 0.9051\n",
      "Triple - P: 0.8154, R: 0.0477, F1: 0.0901\n",
      "Dev Triple F1: 0.0901\n",
      "New best model saved with F1: 0.0901\n",
      "Epoch 2/10\n"
     ]
    },
    {
     "name": "stderr",
     "output_type": "stream",
     "text": [
      "Training Epoch 2: 100%|██████████| 628/628 [03:44<00:00,  2.80it/s]\n"
     ]
    },
    {
     "name": "stdout",
     "output_type": "stream",
     "text": [
      "Average training loss: 1.4331\n"
     ]
    },
    {
     "name": "stderr",
     "output_type": "stream",
     "text": [
      "Evaluating dev: 100%|██████████| 63/63 [00:05<00:00, 11.31it/s]\n"
     ]
    },
    {
     "name": "stdout",
     "output_type": "stream",
     "text": [
      "------ DEV Results ------\n",
      "Loss: 1.1871\n",
      "Entity - P: 0.9095, R: 0.9753, F1: 0.9413\n",
      "Triple - P: 0.8952, R: 0.5072, F1: 0.6475\n",
      "Dev Triple F1: 0.6475\n",
      "New best model saved with F1: 0.6475\n",
      "Epoch 3/10\n"
     ]
    },
    {
     "name": "stderr",
     "output_type": "stream",
     "text": [
      "Training Epoch 3: 100%|██████████| 628/628 [03:42<00:00,  2.82it/s]\n"
     ]
    },
    {
     "name": "stdout",
     "output_type": "stream",
     "text": [
      "Average training loss: 0.7716\n"
     ]
    },
    {
     "name": "stderr",
     "output_type": "stream",
     "text": [
      "Evaluating dev: 100%|██████████| 63/63 [00:05<00:00, 11.29it/s]\n"
     ]
    },
    {
     "name": "stdout",
     "output_type": "stream",
     "text": [
      "------ DEV Results ------\n",
      "Loss: 0.8423\n",
      "Entity - P: 0.9279, R: 0.9714, F1: 0.9491\n",
      "Triple - P: 0.8829, R: 0.7797, F1: 0.8281\n",
      "Dev Triple F1: 0.8281\n",
      "New best model saved with F1: 0.8281\n",
      "Epoch 4/10\n"
     ]
    },
    {
     "name": "stderr",
     "output_type": "stream",
     "text": [
      "Training Epoch 4: 100%|██████████| 628/628 [03:41<00:00,  2.83it/s]\n"
     ]
    },
    {
     "name": "stdout",
     "output_type": "stream",
     "text": [
      "Average training loss: 0.5146\n"
     ]
    },
    {
     "name": "stderr",
     "output_type": "stream",
     "text": [
      "Evaluating dev: 100%|██████████| 63/63 [00:05<00:00, 11.31it/s]\n"
     ]
    },
    {
     "name": "stdout",
     "output_type": "stream",
     "text": [
      "------ DEV Results ------\n",
      "Loss: 0.6848\n",
      "Entity - P: 0.9492, R: 0.9603, F1: 0.9547\n",
      "Triple - P: 0.8685, R: 0.8022, F1: 0.8340\n",
      "Dev Triple F1: 0.8340\n",
      "New best model saved with F1: 0.8340\n",
      "Epoch 5/10\n"
     ]
    },
    {
     "name": "stderr",
     "output_type": "stream",
     "text": [
      "Training Epoch 5: 100%|██████████| 628/628 [03:43<00:00,  2.81it/s]\n"
     ]
    },
    {
     "name": "stdout",
     "output_type": "stream",
     "text": [
      "Average training loss: 0.3801\n"
     ]
    },
    {
     "name": "stderr",
     "output_type": "stream",
     "text": [
      "Evaluating dev: 100%|██████████| 63/63 [00:05<00:00, 11.34it/s]\n"
     ]
    },
    {
     "name": "stdout",
     "output_type": "stream",
     "text": [
      "------ DEV Results ------\n",
      "Loss: 0.5971\n",
      "Entity - P: 0.9607, R: 0.9714, F1: 0.9660\n",
      "Triple - P: 0.8563, R: 0.9002, F1: 0.8777\n",
      "Dev Triple F1: 0.8777\n",
      "New best model saved with F1: 0.8777\n",
      "Checkpoint saved: care_checkpoint_webnlg_epoch_5.pt\n",
      "Epoch 6/10\n"
     ]
    },
    {
     "name": "stderr",
     "output_type": "stream",
     "text": [
      "Training Epoch 6: 100%|██████████| 628/628 [03:43<00:00,  2.81it/s]\n"
     ]
    },
    {
     "name": "stdout",
     "output_type": "stream",
     "text": [
      "Average training loss: 0.3121\n"
     ]
    },
    {
     "name": "stderr",
     "output_type": "stream",
     "text": [
      "Evaluating dev: 100%|██████████| 63/63 [00:05<00:00, 11.31it/s]\n"
     ]
    },
    {
     "name": "stdout",
     "output_type": "stream",
     "text": [
      "------ DEV Results ------\n",
      "Loss: 0.5754\n",
      "Entity - P: 0.9676, R: 0.9720, F1: 0.9698\n",
      "Triple - P: 0.9063, R: 0.8786, F1: 0.8922\n",
      "Dev Triple F1: 0.8922\n",
      "New best model saved with F1: 0.8922\n",
      "Epoch 7/10\n"
     ]
    },
    {
     "name": "stderr",
     "output_type": "stream",
     "text": [
      "Training Epoch 7: 100%|██████████| 628/628 [03:42<00:00,  2.83it/s]\n"
     ]
    },
    {
     "name": "stdout",
     "output_type": "stream",
     "text": [
      "Average training loss: 0.2568\n"
     ]
    },
    {
     "name": "stderr",
     "output_type": "stream",
     "text": [
      "Evaluating dev: 100%|██████████| 63/63 [00:05<00:00, 11.24it/s]\n"
     ]
    },
    {
     "name": "stdout",
     "output_type": "stream",
     "text": [
      "------ DEV Results ------\n",
      "Loss: 0.4978\n",
      "Entity - P: 0.9612, R: 0.9850, F1: 0.9730\n",
      "Triple - P: 0.8877, R: 0.9029, F1: 0.8952\n",
      "Dev Triple F1: 0.8952\n",
      "New best model saved with F1: 0.8952\n",
      "Epoch 8/10\n"
     ]
    },
    {
     "name": "stderr",
     "output_type": "stream",
     "text": [
      "Training Epoch 8: 100%|██████████| 628/628 [03:44<00:00,  2.80it/s]\n"
     ]
    },
    {
     "name": "stdout",
     "output_type": "stream",
     "text": [
      "Average training loss: 0.2372\n"
     ]
    },
    {
     "name": "stderr",
     "output_type": "stream",
     "text": [
      "Evaluating dev: 100%|██████████| 63/63 [00:05<00:00, 11.25it/s]\n"
     ]
    },
    {
     "name": "stdout",
     "output_type": "stream",
     "text": [
      "------ DEV Results ------\n",
      "Loss: 0.4731\n",
      "Entity - P: 0.9746, R: 0.9740, F1: 0.9743\n",
      "Triple - P: 0.9268, R: 0.8876, F1: 0.9068\n",
      "Dev Triple F1: 0.9068\n",
      "New best model saved with F1: 0.9068\n",
      "Epoch 9/10\n"
     ]
    },
    {
     "name": "stderr",
     "output_type": "stream",
     "text": [
      "Training Epoch 9: 100%|██████████| 628/628 [03:42<00:00,  2.83it/s]\n"
     ]
    },
    {
     "name": "stdout",
     "output_type": "stream",
     "text": [
      "Average training loss: 0.2152\n"
     ]
    },
    {
     "name": "stderr",
     "output_type": "stream",
     "text": [
      "Evaluating dev: 100%|██████████| 63/63 [00:05<00:00, 11.25it/s]\n"
     ]
    },
    {
     "name": "stdout",
     "output_type": "stream",
     "text": [
      "------ DEV Results ------\n",
      "Loss: 0.5269\n",
      "Entity - P: 0.9515, R: 0.9844, F1: 0.9677\n",
      "Triple - P: 0.8882, R: 0.9218, F1: 0.9047\n",
      "Dev Triple F1: 0.9047\n",
      "Epoch 10/10\n"
     ]
    },
    {
     "name": "stderr",
     "output_type": "stream",
     "text": [
      "Training Epoch 10: 100%|██████████| 628/628 [03:42<00:00,  2.82it/s]\n"
     ]
    },
    {
     "name": "stdout",
     "output_type": "stream",
     "text": [
      "Average training loss: 0.1935\n"
     ]
    },
    {
     "name": "stderr",
     "output_type": "stream",
     "text": [
      "Evaluating dev: 100%|██████████| 63/63 [00:05<00:00, 11.30it/s]\n"
     ]
    },
    {
     "name": "stdout",
     "output_type": "stream",
     "text": [
      "------ DEV Results ------\n",
      "Loss: 0.5457\n",
      "Entity - P: 0.9634, R: 0.9779, F1: 0.9706\n",
      "Triple - P: 0.9011, R: 0.9254, F1: 0.9130\n",
      "Dev Triple F1: 0.9130\n",
      "New best model saved with F1: 0.9130\n",
      "Checkpoint saved: care_checkpoint_webnlg_epoch_10.pt\n",
      "Training completed. Best F1: 0.9130\n",
      "\n",
      "Evaluating WEBNLG model on test set...\n"
     ]
    },
    {
     "name": "stderr",
     "output_type": "stream",
     "text": [
      "Evaluating test: 100%|██████████| 88/88 [00:08<00:00, 10.65it/s]"
     ]
    },
    {
     "name": "stdout",
     "output_type": "stream",
     "text": [
      "------ TEST Results ------\n",
      "Loss: 0.5583\n",
      "Entity - P: 0.9592, R: 0.9776, F1: 0.9683\n",
      "Triple - P: 0.8750, R: 0.9077, F1: 0.8910\n"
     ]
    },
    {
     "name": "stderr",
     "output_type": "stream",
     "text": [
      "\n"
     ]
    }
   ],
   "source": [
    "set_seed(config.SEED)\n",
    "device = torch.device('cuda' if torch.cuda.is_available() else 'cpu')\n",
    "print(f\"Using device: {device}\")\n",
    "\n",
    "# Setup logging\n",
    "logger = setup_logging(\"care_outputs\")\n",
    "\n",
    "# Train on WEBNLG dataset\n",
    "print(\"=\" * 50)\n",
    "print(\"TRAINING ON WEBNLG DATASET\")\n",
    "print(\"=\" * 50)\n",
    "\n",
    "model_weblg = CARE(ner2idx_weblg, rel2idx_weblg)\n",
    "model_weblg.to(device)\n",
    "\n",
    "best_model_path_weblg = train_model(\n",
    "    model_weblg,\n",
    "    train_loader_weblg,\n",
    "    dev_loader_weblg,\n",
    "    ner2idx_weblg,\n",
    "    rel2idx_weblg,\n",
    "    device,\n",
    "    'WEBNLG'\n",
    ")\n",
    "\n",
    "# Evaluate on test set\n",
    "print(\"\\nEvaluating WEBNLG model on test set...\")\n",
    "test_results_weblg = evaluate_model(\n",
    "    model_weblg,\n",
    "    test_loader_weblg,\n",
    "    rel2idx_weblg,\n",
    "    ner2idx_weblg,\n",
    "    CARELoss(),\n",
    "    device,\n",
    "    \"test\"\n",
    ")\n"
   ]
  },
  {
   "cell_type": "markdown",
   "id": "13709226",
   "metadata": {
    "id": "13709226",
    "papermill": {
     "duration": 1.300172,
     "end_time": "2025-07-19T17:51:37.641828",
     "exception": false,
     "start_time": "2025-07-19T17:51:36.341656",
     "status": "completed"
    },
    "tags": []
   },
   "source": [
    "## Train NYT"
   ]
  },
  {
   "cell_type": "code",
   "execution_count": null,
   "id": "5929f128",
   "metadata": {
    "execution": {
     "iopub.execute_input": "2025-07-19T17:51:40.776658Z",
     "iopub.status.busy": "2025-07-19T17:51:40.775237Z",
     "iopub.status.idle": "2025-07-19T17:58:15.838264Z",
     "shell.execute_reply": "2025-07-19T17:58:15.837219Z"
    },
    "id": "5929f128",
    "outputId": "17529bb2-b839-4ce4-fe1b-07152667989f",
    "papermill": {
     "duration": 396.407585,
     "end_time": "2025-07-19T17:58:15.839436",
     "exception": true,
     "start_time": "2025-07-19T17:51:39.431851",
     "status": "failed"
    },
    "tags": []
   },
   "outputs": [
    {
     "name": "stdout",
     "output_type": "stream",
     "text": [
      "Using device: cuda\n",
      "TRAINING ON NYT DATASET\n",
      "==================================================\n",
      "Training CARE model on NYT dataset...\n",
      "Epoch 1/10\n"
     ]
    },
    {
     "name": "stderr",
     "output_type": "stream",
     "text": [
      "Training Epoch 1: 100%|██████████| 7025/7025 [20:15<00:00,  5.78it/s]\n"
     ]
    },
    {
     "name": "stdout",
     "output_type": "stream",
     "text": [
      "Average training loss: 22.3834\n"
     ]
    },
    {
     "name": "stderr",
     "output_type": "stream",
     "text": [
      "Evaluating dev: 100%|██████████| 625/625 [00:44<00:00, 13.90it/s]\n"
     ]
    },
    {
     "name": "stdout",
     "output_type": "stream",
     "text": [
      "------ DEV Results ------\n",
      "Loss: 0.2920\n",
      "Entity - P: 0.8897, R: 0.9645, F1: 0.9256\n",
      "Triple - P: 0.7908, R: 0.8799, F1: 0.8329\n",
      "Dev Triple F1: 0.8329\n",
      "New best model saved with F1: 0.8329\n",
      "Epoch 2/10\n"
     ]
    },
    {
     "name": "stderr",
     "output_type": "stream",
     "text": [
      "Training Epoch 2: 100%|██████████| 7025/7025 [20:34<00:00,  5.69it/s]\n"
     ]
    },
    {
     "name": "stdout",
     "output_type": "stream",
     "text": [
      "Average training loss: 0.2074\n"
     ]
    },
    {
     "name": "stderr",
     "output_type": "stream",
     "text": [
      "Evaluating dev: 100%|██████████| 625/625 [00:44<00:00, 14.07it/s]\n"
     ]
    },
    {
     "name": "stdout",
     "output_type": "stream",
     "text": [
      "------ DEV Results ------\n",
      "Loss: 0.2130\n",
      "Entity - P: 0.9399, R: 0.9454, F1: 0.9426\n",
      "Triple - P: 0.8707, R: 0.8889, F1: 0.8797\n",
      "Dev Triple F1: 0.8797\n",
      "New best model saved with F1: 0.8797\n",
      "Epoch 3/10\n"
     ]
    },
    {
     "name": "stderr",
     "output_type": "stream",
     "text": [
      "Training Epoch 3: 100%|██████████| 7025/7025 [20:07<00:00,  5.82it/s]\n"
     ]
    },
    {
     "name": "stdout",
     "output_type": "stream",
     "text": [
      "Average training loss: 0.1435\n"
     ]
    },
    {
     "name": "stderr",
     "output_type": "stream",
     "text": [
      "Evaluating dev: 100%|██████████| 625/625 [00:43<00:00, 14.29it/s]\n"
     ]
    },
    {
     "name": "stdout",
     "output_type": "stream",
     "text": [
      "------ DEV Results ------\n",
      "Loss: 0.2099\n",
      "Entity - P: 0.9489, R: 0.9469, F1: 0.9479\n",
      "Triple - P: 0.9074, R: 0.8912, F1: 0.8992\n",
      "Dev Triple F1: 0.8992\n",
      "New best model saved with F1: 0.8992\n",
      "Epoch 4/10\n"
     ]
    },
    {
     "name": "stderr",
     "output_type": "stream",
     "text": [
      "Training Epoch 4: 100%|██████████| 7025/7025 [20:09<00:00,  5.81it/s]\n"
     ]
    },
    {
     "name": "stdout",
     "output_type": "stream",
     "text": [
      "Average training loss: 0.1058\n"
     ]
    },
    {
     "name": "stderr",
     "output_type": "stream",
     "text": [
      "Evaluating dev: 100%|██████████| 625/625 [00:45<00:00, 13.59it/s]\n"
     ]
    },
    {
     "name": "stdout",
     "output_type": "stream",
     "text": [
      "------ DEV Results ------\n",
      "Loss: 0.2332\n",
      "Entity - P: 0.9461, R: 0.9540, F1: 0.9500\n",
      "Triple - P: 0.8911, R: 0.9100, F1: 0.9004\n",
      "Dev Triple F1: 0.9004\n",
      "New best model saved with F1: 0.9004\n",
      "Epoch 5/10\n"
     ]
    },
    {
     "name": "stderr",
     "output_type": "stream",
     "text": [
      "Training Epoch 5: 100%|██████████| 7025/7025 [21:46<00:00,  5.38it/s]\n"
     ]
    },
    {
     "name": "stdout",
     "output_type": "stream",
     "text": [
      "Average training loss: 0.0836\n"
     ]
    },
    {
     "name": "stderr",
     "output_type": "stream",
     "text": [
      "Evaluating dev: 100%|██████████| 625/625 [00:50<00:00, 12.31it/s]\n"
     ]
    },
    {
     "name": "stdout",
     "output_type": "stream",
     "text": [
      "------ DEV Results ------\n",
      "Loss: 0.2587\n",
      "Entity - P: 0.9477, R: 0.9540, F1: 0.9509\n",
      "Triple - P: 0.8992, R: 0.9157, F1: 0.9074\n",
      "Dev Triple F1: 0.9074\n",
      "New best model saved with F1: 0.9074\n",
      "Checkpoint saved: care_checkpoint_nyt_epoch_5.pt\n",
      "Epoch 6/10\n"
     ]
    },
    {
     "name": "stderr",
     "output_type": "stream",
     "text": [
      "Training Epoch 6: 100%|██████████| 7025/7025 [21:33<00:00,  5.43it/s]\n"
     ]
    },
    {
     "name": "stdout",
     "output_type": "stream",
     "text": [
      "Average training loss: 0.0678\n"
     ]
    },
    {
     "name": "stderr",
     "output_type": "stream",
     "text": [
      "Evaluating dev: 100%|██████████| 625/625 [00:58<00:00, 10.69it/s]\n"
     ]
    },
    {
     "name": "stdout",
     "output_type": "stream",
     "text": [
      "------ DEV Results ------\n",
      "Loss: 0.2789\n",
      "Entity - P: 0.9491, R: 0.9549, F1: 0.9520\n",
      "Triple - P: 0.9114, R: 0.9109, F1: 0.9111\n",
      "Dev Triple F1: 0.9111\n",
      "New best model saved with F1: 0.9111\n",
      "Epoch 7/10\n"
     ]
    },
    {
     "name": "stderr",
     "output_type": "stream",
     "text": [
      "Training Epoch 7: 100%|██████████| 7025/7025 [22:03<00:00,  5.31it/s]\n"
     ]
    },
    {
     "name": "stdout",
     "output_type": "stream",
     "text": [
      "Average training loss: 0.0580\n"
     ]
    },
    {
     "name": "stderr",
     "output_type": "stream",
     "text": [
      "Evaluating dev: 100%|██████████| 625/625 [00:50<00:00, 12.47it/s]\n"
     ]
    },
    {
     "name": "stdout",
     "output_type": "stream",
     "text": [
      "------ DEV Results ------\n",
      "Loss: 0.2770\n",
      "Entity - P: 0.9515, R: 0.9560, F1: 0.9537\n",
      "Triple - P: 0.9075, R: 0.9210, F1: 0.9142\n",
      "Dev Triple F1: 0.9142\n",
      "New best model saved with F1: 0.9142\n",
      "Epoch 8/10\n"
     ]
    },
    {
     "name": "stderr",
     "output_type": "stream",
     "text": [
      "Training Epoch 8: 100%|██████████| 7025/7025 [20:34<00:00,  5.69it/s]\n"
     ]
    },
    {
     "name": "stdout",
     "output_type": "stream",
     "text": [
      "Average training loss: 0.0481\n"
     ]
    },
    {
     "name": "stderr",
     "output_type": "stream",
     "text": [
      "Evaluating dev: 100%|██████████| 625/625 [00:47<00:00, 13.07it/s]\n"
     ]
    },
    {
     "name": "stdout",
     "output_type": "stream",
     "text": [
      "------ DEV Results ------\n",
      "Loss: 0.2970\n",
      "Entity - P: 0.9455, R: 0.9570, F1: 0.9512\n",
      "Triple - P: 0.9049, R: 0.9198, F1: 0.9123\n",
      "Dev Triple F1: 0.9123\n",
      "Epoch 9/10\n"
     ]
    },
    {
     "name": "stderr",
     "output_type": "stream",
     "text": [
      "Training Epoch 9: 100%|██████████| 7025/7025 [20:31<00:00,  5.70it/s]\n"
     ]
    },
    {
     "name": "stdout",
     "output_type": "stream",
     "text": [
      "Average training loss: 0.0413\n"
     ]
    },
    {
     "name": "stderr",
     "output_type": "stream",
     "text": [
      "Evaluating dev: 100%|██████████| 625/625 [00:43<00:00, 14.38it/s]\n"
     ]
    },
    {
     "name": "stdout",
     "output_type": "stream",
     "text": [
      "------ DEV Results ------\n",
      "Loss: 0.3272\n",
      "Entity - P: 0.9415, R: 0.9603, F1: 0.9508\n",
      "Triple - P: 0.8900, R: 0.9283, F1: 0.9087\n",
      "Dev Triple F1: 0.9087\n",
      "Epoch 10/10\n"
     ]
    },
    {
     "name": "stderr",
     "output_type": "stream",
     "text": [
      "Training Epoch 10: 100%|██████████| 7025/7025 [20:30<00:00,  5.71it/s]\n"
     ]
    },
    {
     "name": "stdout",
     "output_type": "stream",
     "text": [
      "Average training loss: 0.0360\n"
     ]
    },
    {
     "name": "stderr",
     "output_type": "stream",
     "text": [
      "Evaluating dev: 100%|██████████| 625/625 [00:48<00:00, 12.85it/s]\n"
     ]
    },
    {
     "name": "stdout",
     "output_type": "stream",
     "text": [
      "------ DEV Results ------\n",
      "Loss: 0.3372\n",
      "Entity - P: 0.9336, R: 0.9679, F1: 0.9505\n",
      "Triple - P: 0.8888, R: 0.9324, F1: 0.9101\n",
      "Dev Triple F1: 0.9101\n",
      "Checkpoint saved: care_checkpoint_nyt_epoch_10.pt\n",
      "Training completed. Best F1: 0.9142\n",
      "\n",
      "Evaluating NYT model on test set...\n"
     ]
    },
    {
     "name": "stderr",
     "output_type": "stream",
     "text": [
      "Evaluating test: 100%|██████████| 625/625 [00:44<00:00, 14.05it/s]"
     ]
    },
    {
     "name": "stdout",
     "output_type": "stream",
     "text": [
      "------ TEST Results ------\n",
      "Loss: 0.3457\n",
      "Entity - P: 0.9327, R: 0.9710, F1: 0.9515\n",
      "Triple - P: 0.8819, R: 0.9303, F1: 0.9055\n"
     ]
    },
    {
     "name": "stderr",
     "output_type": "stream",
     "text": [
      "\n"
     ]
    }
   ],
   "source": [
    "import torch\n",
    "torch.cuda.empty_cache()\n",
    "torch.cuda.ipc_collect()\n",
    "\n",
    "# Train on NYT dataset\n",
    "set_seed(config.SEED)\n",
    "device = torch.device('cuda' if torch.cuda.is_available() else 'cpu')\n",
    "print(f\"Using device: {device}\")\n",
    "\n",
    "# Setup logging\n",
    "logger = setup_logging(\"care_outputs\")\n",
    "\n",
    "print(\"TRAINING ON NYT DATASET\")\n",
    "print(\"=\" * 50)\n",
    "\n",
    "model_nyt = CARE(ner2idx_nyt, rel2idx_nyt)\n",
    "model_nyt.to(device)\n",
    "\n",
    "best_model_path_nyt = train_model(\n",
    "    model_nyt,\n",
    "    train_loader_nyt,\n",
    "    dev_loader_nyt,\n",
    "    ner2idx_nyt,\n",
    "    rel2idx_nyt,\n",
    "    device,\n",
    "    'NYT'\n",
    ")\n",
    "\n",
    "# Evaluate on test set\n",
    "print(\"\\nEvaluating NYT model on test set...\")\n",
    "test_results_nyt = evaluate_model(\n",
    "    model_nyt,\n",
    "    test_loader_nyt,\n",
    "    rel2idx_nyt,\n",
    "    ner2idx_nyt,\n",
    "    CARELoss(),\n",
    "    device,\n",
    "    \"test\"\n",
    ")"
   ]
  },
  {
   "cell_type": "markdown",
   "id": "_GDi1hiMaX0k",
   "metadata": {
    "id": "_GDi1hiMaX0k"
   },
   "source": [
    "## Load and Test Model\n"
   ]
  },
  {
   "cell_type": "code",
   "execution_count": 16,
   "id": "LT4pNuZNeqH9",
   "metadata": {
    "executionInfo": {
     "elapsed": 4,
     "status": "ok",
     "timestamp": 1753068527666,
     "user": {
      "displayName": "Lương Đạt",
      "userId": "11214560588962627512"
     },
     "user_tz": -420
    },
    "id": "LT4pNuZNeqH9"
   },
   "outputs": [],
   "source": [
    "def load_trained_model(model_path, device):\n",
    "    \"\"\"Load a trained CARE model\"\"\"\n",
    "    checkpoint = torch.load(model_path, map_location=device)\n",
    "\n",
    "    # Recreate model with saved config\n",
    "    ner2idx = checkpoint['ner2idx']\n",
    "    rel2idx = checkpoint['rel2idx']\n",
    "\n",
    "    model = CARE(ner2idx, rel2idx)\n",
    "    model.load_state_dict(checkpoint['model_state_dict'])\n",
    "    model.to(device)\n",
    "    model.eval()\n",
    "\n",
    "    return model, ner2idx, rel2idx\n"
   ]
  },
  {
   "cell_type": "code",
   "execution_count": null,
   "id": "zHOpxEaE8T_p",
   "metadata": {
    "executionInfo": {
     "elapsed": 39,
     "status": "ok",
     "timestamp": 1753068527957,
     "user": {
      "displayName": "Lương Đạt",
      "userId": "11214560588962627512"
     },
     "user_tz": -420
    },
    "id": "zHOpxEaE8T_p"
   },
   "outputs": [],
   "source": [
    "from huggingface_hub import login\n",
    "login(token=\"\")"
   ]
  },
  {
   "cell_type": "code",
   "execution_count": 18,
   "id": "Us3SLNGJbaSz",
   "metadata": {
    "colab": {
     "base_uri": "https://localhost:8080/",
     "height": 363,
     "referenced_widgets": [
      "e8f0402f72a442bdad645f61a91d009d",
      "280dc20a405f4a52ad0e658bd545d86c",
      "17570d87025041b293202389e8d0ac04",
      "9d83a027726c4be3838bb590dbd37c60",
      "5a6154062bfb4580bdd35fbf53cabfa4",
      "0aaf964bf6514f6bb9a504a27f58bcd1",
      "a540bb6a6c024c6f971dc627e24b4e4b",
      "d7c378f3797e47298cb2cfd0256abb88",
      "028306b947ed4206bb7000d89d4acc92",
      "69d7349de34c4eb697d78f308d3c5905",
      "dd94015827ed4bb4833bb406bda4c7be",
      "fdcea3e1d7374d9bb537590928ff91c3",
      "91ab1472291b40469d71a51360a1ef59",
      "61ffb0936bf74d58be967b3fb23b60d1",
      "b6a69dfd222b4b01b818f53d2bcc962a",
      "68630f08286f4409a38dc43809167645",
      "0a4997949fc84342a202ea2993f8f202",
      "0a4fa3af55774f54bdff0eae8164b7a6",
      "536f66ac32444c979f30a0322a7298f4",
      "8f493a87964c41baa1d2f163f60cc245",
      "d948a438144d40948dc41280d02678fe",
      "66669eaf174c4f55bbf77c68ab1d291f",
      "a3d256473c714786a60f2344db66c950",
      "d38e0f6bbda4473cb37d12e85fd9e79b",
      "352f5bc0eb104204b8d65b5142a74dad",
      "64bf9f76db464f23946b7726b794e25a",
      "5ed5f0329bab4c68a3aa7ea31e584290",
      "47c40ec48982424aa62c73094b67bc1e",
      "bb7a31ac85904bc0b722c361951b7306",
      "3c1bae1712f94f66a62811b2b17ba85d",
      "28b814e39415405c963739c12bb1d8cc",
      "cd80dfe68be34b30b2024f32e4c3882a",
      "5d657dba4d304dac98ed8e79113eb3ef",
      "9abb86eb268a4d70bd5d58ed3d55f9e7",
      "f7839d34829446ab9c9d5cb0b301445e",
      "9c3481523e4e4ac59fc0a3a5c363913d",
      "ba8a65ab45254532a7bc61ecfd85b4c6",
      "a8ed81b6fa8f45f2b84ceca30da576ee",
      "dab08b7e7a9c4235ad1fc251fc2696ed",
      "c020bc6d5fc8493a913f08b804f4fc93",
      "a357adceb0ed41d48402ffffb953a782",
      "e0becae80d83466298442ad5408892be",
      "f8bf12d6e2a34882b2999fedb0f919f8",
      "2df6656083cc4223b99fa98dd8065477",
      "083f27f4aa1f41d193927e88afab460d",
      "4b861fcb71934a478aafb367c003f826",
      "85caabab2cfe4a8a89a5300b8d22b339",
      "d1103a21bdbe41f8b5c8e3417a59a464",
      "a0b8f5448e0043d593c1c5143670114e",
      "bd3a50bcd9d8465f96b6868e25a5a357",
      "b2e45f24d39844fb91943d1b960d2a94",
      "f0eecc3829414d7f917b55cd9cca3efd",
      "16220a4ccc6e4f9ba926c0bcd334edda",
      "65e289bd4dba47d9b9280bc8ed21f3a0",
      "1f6a6f7eaebd44f7b7139ad6c29f9d4e",
      "d136b8fce57349c0b7df5dd28f07b808",
      "2b52c1a95ea34d598c3c7c3d188b8018",
      "ff9c76bd9c204dbab2388d025d154b0f",
      "008e3501601a4e2d8cc7bac34081d3ef",
      "08a5a88fdcca46afb5918ab379113d09",
      "f9ea6c06dd194a6085caca000ba6a13e",
      "b93648b043e94062b68b9309663029f9",
      "5af93939656543b28ab0c703e900c950",
      "52eebf29055a4488a30d3cbb7164b4de",
      "77ecef8ef0d54aa5969feb888c391133",
      "6e623f8f74e14e18b6582dcc82e4cd1a",
      "3615d5674eb84e55be70808c6719d4a1",
      "e5b6e0e7ea944cad9cdb2ae0384a0a72",
      "5fbd24bd9e3849a49bffafe0acd81975",
      "a821de1e00d147ceb721e7de38777ddf",
      "cb96ff5e552a450b909e9af45157b623",
      "e2c8501f8a194b5d9cd76f3b6cda664d",
      "a2f7f3550d9540359ffc99fc137a0908",
      "81206b2c9ab94c5db695b7f9c5ba5693",
      "1547513e1ba14172b3a8882ba8be1e7e",
      "e04cf89e22bc40b78534f5935c884f1d",
      "dce932b416d945e98098ca12b2835359"
     ]
    },
    "executionInfo": {
     "elapsed": 98316,
     "status": "ok",
     "timestamp": 1753068626325,
     "user": {
      "displayName": "Lương Đạt",
      "userId": "11214560588962627512"
     },
     "user_tz": -420
    },
    "id": "Us3SLNGJbaSz",
    "outputId": "e1a2a535-56f8-46b5-d2d6-d4c6b57cab99"
   },
   "outputs": [],
   "source": [
    "from huggingface_hub import hf_hub_download\n",
    "import torch\n",
    "\n",
    "model_path_web = hf_hub_download(\n",
    "    repo_id=\"LuongDat/care_webnlg\",\n",
    "    filename=\"care_best_webnlg.pt\"\n",
    ")\n",
    "model_path_nyt = hf_hub_download(\n",
    "    repo_id=\"LuongDat/care_webnlg\",\n",
    "    filename=\"care_best_nyt.pt\"\n",
    ")\n",
    "\n",
    "device = torch.device('cuda' if torch.cuda.is_available() else 'cpu')\n",
    "tokenizer = AutoTokenizer.from_pretrained(\"bert-base-cased\")\n",
    "model_weblg, ner2idx_weblg, rel2idx_weblg = load_trained_model(model_path_web, device)\n",
    "model_nyt, ner2idx_nyt, rel2idx_nyt = load_trained_model(model_path_nyt, device)\n"
   ]
  },
  {
   "cell_type": "code",
   "execution_count": 55,
   "id": "F1gy_zR9aPHI",
   "metadata": {
    "executionInfo": {
     "elapsed": 29,
     "status": "ok",
     "timestamp": 1753068626365,
     "user": {
      "displayName": "Lương Đạt",
      "userId": "11214560588962627512"
     },
     "user_tz": -420
    },
    "id": "F1gy_zR9aPHI"
   },
   "outputs": [],
   "source": [
    "def predict_on_sample(model, tokenizer, text, ner2idx, rel2idx, device):\n",
    "    \"\"\"\n",
    "    Dự đoán thực thể và quan hệ cho một câu đầu vào.\n",
    "    - Nếu NER chỉ có 'None', chỉ trả về text, start, end.\n",
    "    - Relations trả về subject, object, relation.\n",
    "    \"\"\"\n",
    "    model.eval()\n",
    "    words = text.split()\n",
    "    if len(words) > config.MAX_SEQ_LEN:\n",
    "        words = words[:config.MAX_SEQ_LEN]\n",
    "    sent_str = ' '.join(words)\n",
    "    bert_tokens = tokenizer.tokenize(sent_str)\n",
    "    bert_len = len(bert_tokens) + 2 \n",
    "\n",
    "    # Ánh xạ từ -> BERT\n",
    "    word_to_bert = map_word_to_bert(words, tokenizer)\n",
    "\n",
    "    # Tạo ma trận khoảng cách\n",
    "    dis2idx = np.zeros(4000, dtype='int64')\n",
    "    dis2idx[1] = 1\n",
    "    dis2idx[2:] = 2\n",
    "    dis2idx[4:] = 3\n",
    "    dis2idx[8:] = 4\n",
    "    dis2idx[16:] = 5\n",
    "    dis2idx[32:] = 6\n",
    "    dis2idx[64:] = 7\n",
    "    dis2idx[128:] = 8\n",
    "    dis2idx[256:] = 9\n",
    "\n",
    "    dist_inputs = torch.zeros((bert_len, bert_len), dtype=torch.long)\n",
    "    for k in range(bert_len):\n",
    "        dist_inputs[k, :] += k\n",
    "        dist_inputs[:, k] -= k\n",
    "    for i in range(bert_len):\n",
    "        for j in range(bert_len):\n",
    "            if dist_inputs[i, j] < 0:\n",
    "                dist_inputs[i, j] = int(dis2idx[-int(dist_inputs[i, j])]) + 9\n",
    "            else:\n",
    "                dist_inputs[i, j] = int(dis2idx[int(dist_inputs[i, j])])\n",
    "    dist_inputs[dist_inputs == 0] = 19\n",
    "\n",
    "    # Chuẩn bị batch\n",
    "    texts = [words]\n",
    "    mask = torch.ones(bert_len, 1).to(device)\n",
    "    dist = dist_inputs.unsqueeze(0).to(device)\n",
    "\n",
    "    with torch.no_grad():\n",
    "        ner_pred, re_pred = model(texts, mask, dist)\n",
    "    ner_pred = (ner_pred >= 0.5).float().squeeze(2)\n",
    "    re_pred = (re_pred >= 0.5).float().squeeze(2)\n",
    "\n",
    "    # Trích xuất entities (chỉ cần text, start, end nếu chỉ có 'None')\n",
    "    entities = []\n",
    "    for i in range(bert_len):\n",
    "        for j in range(i, bert_len):\n",
    "            for ner_type_idx, ner_type in enumerate(ner2idx.keys()):\n",
    "                if ner_pred[i, j, ner_type_idx] == 1:\n",
    "                    if ner_type == \"None\":\n",
    "                        start_word = end_word = None\n",
    "                        for word_idx, (start, end) in word_to_bert.items():\n",
    "                            if start == i - 1:\n",
    "                                start_word = word_idx\n",
    "                            if end == j - 1:\n",
    "                                end_word = word_idx\n",
    "                        if start_word is not None and end_word is not None:\n",
    "                            entity_text = ' '.join(words[start_word:end_word+1])\n",
    "                            entities.append({\n",
    "                                'text': entity_text,\n",
    "                                'start': start_word,\n",
    "                                'end': end_word\n",
    "                            })\n",
    "\n",
    "    # Trích xuất relations (luôn cần loại quan hệ)\n",
    "    relations = []\n",
    "    for i in range(bert_len):\n",
    "        for j in range(bert_len):\n",
    "            for rel_type_idx, rel_type in enumerate(rel2idx.keys()):\n",
    "                if re_pred[i, j, rel_type_idx] == 1:\n",
    "                    subj_entity = next((e for e in entities if e['start'] == i-1 and e['end'] == i-1), None)\n",
    "                    obj_entity = next((e for e in entities if e['start'] == j-1 and e['end'] == j-1), None)\n",
    "                    if subj_entity and obj_entity:\n",
    "                        relations.append({\n",
    "                            'subject': subj_entity['text'],\n",
    "                            'object': obj_entity['text'],\n",
    "                            'relation': rel_type\n",
    "                        })\n",
    "    return entities, relations"
   ]
  },
  {
   "cell_type": "code",
   "execution_count": 61,
   "id": "8iGIEHSBdGNW",
   "metadata": {
    "colab": {
     "base_uri": "https://localhost:8080/"
    },
    "executionInfo": {
     "elapsed": 11225,
     "status": "ok",
     "timestamp": 1753068700578,
     "user": {
      "displayName": "Lương Đạt",
      "userId": "11214560588962627512"
     },
     "user_tz": -420
    },
    "id": "8iGIEHSBdGNW",
    "outputId": "ef9f7943-f027-4386-8ed7-5038348ad1f4"
   },
   "outputs": [
    {
     "name": "stdout",
     "output_type": "stream",
     "text": [
      "----------------------------------------\n",
      "\n",
      "Sample 1: Alan Bean ( of the United States ) was a crew member of NASA 's Apollo 12 under the commander David Scott .\n",
      "----------------------------------------\n",
      "WEBNLG Model Predictions:\n",
      "Entities:\n",
      "  - Bean\n",
      "  - States\n",
      "  - NASA\n",
      "  - 12\n",
      "  - Scott\n",
      "Relations:\n",
      "  - Bean --nationality--> States\n",
      "----------------------------------------\n",
      "\n",
      "Sample 2: Alan Shepard , who was born in New Hampshire on November 18th , 1923 , graduated with a M.A . from NWC in 1957 and retired on August 1st , 1974 .\n",
      "----------------------------------------\n",
      "WEBNLG Model Predictions:\n",
      "Entities:\n",
      "  - Shepard\n",
      "  - Hampshire\n",
      "Relations:\n",
      "  - Shepard --birthPlace--> Hampshire\n",
      "----------------------------------------\n",
      "\n",
      "Sample 3: American test pilot Alan Shepard died in California and was born in New Hampshire .\n",
      "----------------------------------------\n",
      "WEBNLG Model Predictions:\n",
      "Entities:\n",
      "  - pilot\n",
      "  - Shepard\n",
      "  - California\n",
      "  - Hampshire\n",
      "Relations:\n",
      "  - Shepard --occupation--> pilot\n",
      "  - Shepard --deathPlace--> California\n",
      "  - Shepard --birthPlace--> Hampshire\n"
     ]
    }
   ],
   "source": [
    "sample_texts_webnlg = [\n",
    "    \"Alan Bean ( of the United States ) was a crew member of NASA 's Apollo 12 under the commander David Scott .\",\n",
    "    \"Alan Shepard , who was born in New Hampshire on November 18th , 1923 , graduated with a M.A . from NWC in 1957 and retired on August 1st , 1974 .\",\n",
    "    \"American test pilot Alan Shepard died in California and was born in New Hampshire .\"\n",
    "]\n",
    "\n",
    "for i, text in enumerate(sample_texts_webnlg, 1):\n",
    "    print(\"-\" * 40)\n",
    "    print(f\"\\nSample {i}: {text}\")\n",
    "    print(\"-\" * 40)\n",
    "\n",
    "    # Predict with WEBNLG model\n",
    "    print(\"WEBNLG Model Predictions:\")\n",
    "    entities_weblg, relations_weblg = predict_on_sample(\n",
    "        model_weblg, tokenizer, text, ner2idx_weblg, rel2idx_weblg, device\n",
    "    )\n",
    "\n",
    "    print(\"Entities:\")\n",
    "    if entities_weblg:\n",
    "        for entity in entities_weblg:\n",
    "            print(f\"  - {entity['text']}\")\n",
    "    else:\n",
    "        print(\"No entities found.\")\n",
    "\n",
    "    print(\"Relations:\")\n",
    "    if relations_weblg:\n",
    "        for relation in relations_weblg:\n",
    "            print(f\"  - {relation['subject']} --{relation['relation']}--> {relation['object']}\")\n",
    "    else:\n",
    "        print(\"No relations found.\")\n"
   ]
  },
  {
   "cell_type": "code",
   "execution_count": 64,
   "id": "ff9d014c",
   "metadata": {},
   "outputs": [
    {
     "name": "stdout",
     "output_type": "stream",
     "text": [
      "----------------------------------------\n",
      "\n",
      "Sample 1: The New York Philharmonic will perform at Avery Fisher Hall in Lincoln Center .\n",
      "\n",
      "NYT Model Predictions:\n",
      "Entities:\n",
      "  - Philharmonic\n",
      "  - Hall\n",
      "  - Center\n",
      "Relations:\n",
      "  - Center --/location/location/contains--> Hall\n",
      "----------------------------------------\n",
      "\n",
      "Sample 2: The Empire State Building is located in New York City .\n",
      "\n",
      "NYT Model Predictions:\n",
      "Entities:\n",
      "  - Building\n",
      "  - City\n",
      "Relations:\n",
      "  - City --/location/location/contains--> Building\n",
      "----------------------------------------\n",
      "\n",
      "Sample 3: Harvard University is located in Cambridge , Massachusetts .\n",
      "\n",
      "NYT Model Predictions:\n",
      "Entities:\n",
      "  - University\n",
      "  - Cambridge\n",
      "  - Massachusetts\n",
      "Relations:\n",
      "  - Cambridge --/location/location/contains--> University\n",
      "  - Massachusetts --/location/location/contains--> Cambridge\n",
      "----------------------------------------\n",
      "\n",
      "Sample 4: The Statue of Liberty stands on Liberty Island in New York Harbor .\n",
      "\n",
      "NYT Model Predictions:\n",
      "Entities:\n",
      "  - Island\n",
      "  - Harbor\n",
      "Relations:\n",
      "No relations found.\n"
     ]
    }
   ],
   "source": [
    "sample_texts_nyt = [\n",
    "    \"The New York Philharmonic will perform at Avery Fisher Hall in Lincoln Center .\",\n",
    "    \"The Empire State Building is located in New York City .\",\n",
    "    \"Harvard University is located in Cambridge , Massachusetts .\",\n",
    "    \"The Statue of Liberty stands on Liberty Island in New York Harbor .\"\n",
    "]\n",
    "\n",
    "for i, text in enumerate(sample_texts_nyt, 1):\n",
    "    print(\"-\" * 40)\n",
    "    print(f\"\\nSample {i}: {text}\")    \n",
    "\n",
    "    # Predict with NYT model\n",
    "    print(\"\\nNYT Model Predictions:\")\n",
    "    entities_nyt, relations_nyt = predict_on_sample(\n",
    "        model_nyt, tokenizer, text, ner2idx_nyt, rel2idx_nyt, device\n",
    "    )\n",
    "\n",
    "    print(\"Entities:\")\n",
    "    if entities_nyt:\n",
    "        for entity in entities_nyt:\n",
    "            print(f\"  - {entity['text']}\")\n",
    "    else:\n",
    "        print(\"No entities found.\")\n",
    "\n",
    "    print(\"Relations:\")\n",
    "    if relations_nyt:\n",
    "        for relation in relations_nyt:\n",
    "            print(f\"  - {relation['subject']} --{relation['relation']}--> {relation['object']}\")\n",
    "    else:\n",
    "        print(\"No relations found.\")"
   ]
  },
  {
   "cell_type": "code",
   "execution_count": null,
   "id": "4ccd6ae8",
   "metadata": {},
   "outputs": [],
   "source": []
  }
 ],
 "metadata": {
  "accelerator": "GPU",
  "colab": {
   "gpuType": "T4",
   "provenance": []
  },
  "kaggle": {
   "accelerator": "nvidiaTeslaT4",
   "dataSources": [
    {
     "datasetId": 7899770,
     "sourceId": 12515410,
     "sourceType": "datasetVersion"
    }
   ],
   "dockerImageVersionId": 31090,
   "isGpuEnabled": true,
   "isInternetEnabled": true,
   "language": "python",
   "sourceType": "notebook"
  },
  "kernelspec": {
   "display_name": "venv",
   "language": "python",
   "name": "python3"
  },
  "language_info": {
   "codemirror_mode": {
    "name": "ipython",
    "version": 3
   },
   "file_extension": ".py",
   "mimetype": "text/x-python",
   "name": "python",
   "nbconvert_exporter": "python",
   "pygments_lexer": "ipython3",
   "version": "3.12.5"
  },
  "papermill": {
   "default_parameters": {},
   "duration": 7346.676274,
   "end_time": "2025-07-19T17:58:20.418473",
   "environment_variables": {},
   "exception": true,
   "input_path": "__notebook__.ipynb",
   "output_path": "__notebook__.ipynb",
   "parameters": {},
   "start_time": "2025-07-19T15:55:53.742199",
   "version": "2.6.0"
  },
  "widgets": {
   "application/vnd.jupyter.widget-state+json": {
    "008e3501601a4e2d8cc7bac34081d3ef": {
     "model_module": "@jupyter-widgets/controls",
     "model_module_version": "1.5.0",
     "model_name": "HTMLModel",
     "state": {
      "_dom_classes": [],
      "_model_module": "@jupyter-widgets/controls",
      "_model_module_version": "1.5.0",
      "_model_name": "HTMLModel",
      "_view_count": null,
      "_view_module": "@jupyter-widgets/controls",
      "_view_module_version": "1.5.0",
      "_view_name": "HTMLView",
      "description": "",
      "description_tooltip": null,
      "layout": "IPY_MODEL_77ecef8ef0d54aa5969feb888c391133",
      "placeholder": "​",
      "style": "IPY_MODEL_6e623f8f74e14e18b6582dcc82e4cd1a",
      "value": " 436k/436k [00:00&lt;00:00, 6.90MB/s]"
     }
    },
    "028306b947ed4206bb7000d89d4acc92": {
     "model_module": "@jupyter-widgets/controls",
     "model_module_version": "1.5.0",
     "model_name": "ProgressStyleModel",
     "state": {
      "_model_module": "@jupyter-widgets/controls",
      "_model_module_version": "1.5.0",
      "_model_name": "ProgressStyleModel",
      "_view_count": null,
      "_view_module": "@jupyter-widgets/base",
      "_view_module_version": "1.2.0",
      "_view_name": "StyleView",
      "bar_color": null,
      "description_width": ""
     }
    },
    "083f27f4aa1f41d193927e88afab460d": {
     "model_module": "@jupyter-widgets/controls",
     "model_module_version": "1.5.0",
     "model_name": "HBoxModel",
     "state": {
      "_dom_classes": [],
      "_model_module": "@jupyter-widgets/controls",
      "_model_module_version": "1.5.0",
      "_model_name": "HBoxModel",
      "_view_count": null,
      "_view_module": "@jupyter-widgets/controls",
      "_view_module_version": "1.5.0",
      "_view_name": "HBoxView",
      "box_style": "",
      "children": [
       "IPY_MODEL_4b861fcb71934a478aafb367c003f826",
       "IPY_MODEL_85caabab2cfe4a8a89a5300b8d22b339",
       "IPY_MODEL_d1103a21bdbe41f8b5c8e3417a59a464"
      ],
      "layout": "IPY_MODEL_a0b8f5448e0043d593c1c5143670114e"
     }
    },
    "08a5a88fdcca46afb5918ab379113d09": {
     "model_module": "@jupyter-widgets/base",
     "model_module_version": "1.2.0",
     "model_name": "LayoutModel",
     "state": {
      "_model_module": "@jupyter-widgets/base",
      "_model_module_version": "1.2.0",
      "_model_name": "LayoutModel",
      "_view_count": null,
      "_view_module": "@jupyter-widgets/base",
      "_view_module_version": "1.2.0",
      "_view_name": "LayoutView",
      "align_content": null,
      "align_items": null,
      "align_self": null,
      "border": null,
      "bottom": null,
      "display": null,
      "flex": null,
      "flex_flow": null,
      "grid_area": null,
      "grid_auto_columns": null,
      "grid_auto_flow": null,
      "grid_auto_rows": null,
      "grid_column": null,
      "grid_gap": null,
      "grid_row": null,
      "grid_template_areas": null,
      "grid_template_columns": null,
      "grid_template_rows": null,
      "height": null,
      "justify_content": null,
      "justify_items": null,
      "left": null,
      "margin": null,
      "max_height": null,
      "max_width": null,
      "min_height": null,
      "min_width": null,
      "object_fit": null,
      "object_position": null,
      "order": null,
      "overflow": null,
      "overflow_x": null,
      "overflow_y": null,
      "padding": null,
      "right": null,
      "top": null,
      "visibility": null,
      "width": null
     }
    },
    "0a4997949fc84342a202ea2993f8f202": {
     "model_module": "@jupyter-widgets/base",
     "model_module_version": "1.2.0",
     "model_name": "LayoutModel",
     "state": {
      "_model_module": "@jupyter-widgets/base",
      "_model_module_version": "1.2.0",
      "_model_name": "LayoutModel",
      "_view_count": null,
      "_view_module": "@jupyter-widgets/base",
      "_view_module_version": "1.2.0",
      "_view_name": "LayoutView",
      "align_content": null,
      "align_items": null,
      "align_self": null,
      "border": null,
      "bottom": null,
      "display": null,
      "flex": null,
      "flex_flow": null,
      "grid_area": null,
      "grid_auto_columns": null,
      "grid_auto_flow": null,
      "grid_auto_rows": null,
      "grid_column": null,
      "grid_gap": null,
      "grid_row": null,
      "grid_template_areas": null,
      "grid_template_columns": null,
      "grid_template_rows": null,
      "height": null,
      "justify_content": null,
      "justify_items": null,
      "left": null,
      "margin": null,
      "max_height": null,
      "max_width": null,
      "min_height": null,
      "min_width": null,
      "object_fit": null,
      "object_position": null,
      "order": null,
      "overflow": null,
      "overflow_x": null,
      "overflow_y": null,
      "padding": null,
      "right": null,
      "top": null,
      "visibility": null,
      "width": null
     }
    },
    "0a4fa3af55774f54bdff0eae8164b7a6": {
     "model_module": "@jupyter-widgets/controls",
     "model_module_version": "1.5.0",
     "model_name": "DescriptionStyleModel",
     "state": {
      "_model_module": "@jupyter-widgets/controls",
      "_model_module_version": "1.5.0",
      "_model_name": "DescriptionStyleModel",
      "_view_count": null,
      "_view_module": "@jupyter-widgets/base",
      "_view_module_version": "1.2.0",
      "_view_name": "StyleView",
      "description_width": ""
     }
    },
    "0aaf964bf6514f6bb9a504a27f58bcd1": {
     "model_module": "@jupyter-widgets/base",
     "model_module_version": "1.2.0",
     "model_name": "LayoutModel",
     "state": {
      "_model_module": "@jupyter-widgets/base",
      "_model_module_version": "1.2.0",
      "_model_name": "LayoutModel",
      "_view_count": null,
      "_view_module": "@jupyter-widgets/base",
      "_view_module_version": "1.2.0",
      "_view_name": "LayoutView",
      "align_content": null,
      "align_items": null,
      "align_self": null,
      "border": null,
      "bottom": null,
      "display": null,
      "flex": null,
      "flex_flow": null,
      "grid_area": null,
      "grid_auto_columns": null,
      "grid_auto_flow": null,
      "grid_auto_rows": null,
      "grid_column": null,
      "grid_gap": null,
      "grid_row": null,
      "grid_template_areas": null,
      "grid_template_columns": null,
      "grid_template_rows": null,
      "height": null,
      "justify_content": null,
      "justify_items": null,
      "left": null,
      "margin": null,
      "max_height": null,
      "max_width": null,
      "min_height": null,
      "min_width": null,
      "object_fit": null,
      "object_position": null,
      "order": null,
      "overflow": null,
      "overflow_x": null,
      "overflow_y": null,
      "padding": null,
      "right": null,
      "top": null,
      "visibility": null,
      "width": null
     }
    },
    "1547513e1ba14172b3a8882ba8be1e7e": {
     "model_module": "@jupyter-widgets/controls",
     "model_module_version": "1.5.0",
     "model_name": "ProgressStyleModel",
     "state": {
      "_model_module": "@jupyter-widgets/controls",
      "_model_module_version": "1.5.0",
      "_model_name": "ProgressStyleModel",
      "_view_count": null,
      "_view_module": "@jupyter-widgets/base",
      "_view_module_version": "1.2.0",
      "_view_name": "StyleView",
      "bar_color": null,
      "description_width": ""
     }
    },
    "16220a4ccc6e4f9ba926c0bcd334edda": {
     "model_module": "@jupyter-widgets/controls",
     "model_module_version": "1.5.0",
     "model_name": "ProgressStyleModel",
     "state": {
      "_model_module": "@jupyter-widgets/controls",
      "_model_module_version": "1.5.0",
      "_model_name": "ProgressStyleModel",
      "_view_count": null,
      "_view_module": "@jupyter-widgets/base",
      "_view_module_version": "1.2.0",
      "_view_name": "StyleView",
      "bar_color": null,
      "description_width": ""
     }
    },
    "17570d87025041b293202389e8d0ac04": {
     "model_module": "@jupyter-widgets/controls",
     "model_module_version": "1.5.0",
     "model_name": "FloatProgressModel",
     "state": {
      "_dom_classes": [],
      "_model_module": "@jupyter-widgets/controls",
      "_model_module_version": "1.5.0",
      "_model_name": "FloatProgressModel",
      "_view_count": null,
      "_view_module": "@jupyter-widgets/controls",
      "_view_module_version": "1.5.0",
      "_view_name": "ProgressView",
      "bar_style": "success",
      "description": "",
      "description_tooltip": null,
      "layout": "IPY_MODEL_d7c378f3797e47298cb2cfd0256abb88",
      "max": 1382900648,
      "min": 0,
      "orientation": "horizontal",
      "style": "IPY_MODEL_028306b947ed4206bb7000d89d4acc92",
      "value": 1382900648
     }
    },
    "1f6a6f7eaebd44f7b7139ad6c29f9d4e": {
     "model_module": "@jupyter-widgets/controls",
     "model_module_version": "1.5.0",
     "model_name": "DescriptionStyleModel",
     "state": {
      "_model_module": "@jupyter-widgets/controls",
      "_model_module_version": "1.5.0",
      "_model_name": "DescriptionStyleModel",
      "_view_count": null,
      "_view_module": "@jupyter-widgets/base",
      "_view_module_version": "1.2.0",
      "_view_name": "StyleView",
      "description_width": ""
     }
    },
    "280dc20a405f4a52ad0e658bd545d86c": {
     "model_module": "@jupyter-widgets/controls",
     "model_module_version": "1.5.0",
     "model_name": "HTMLModel",
     "state": {
      "_dom_classes": [],
      "_model_module": "@jupyter-widgets/controls",
      "_model_module_version": "1.5.0",
      "_model_name": "HTMLModel",
      "_view_count": null,
      "_view_module": "@jupyter-widgets/controls",
      "_view_module_version": "1.5.0",
      "_view_name": "HTMLView",
      "description": "",
      "description_tooltip": null,
      "layout": "IPY_MODEL_0aaf964bf6514f6bb9a504a27f58bcd1",
      "placeholder": "​",
      "style": "IPY_MODEL_a540bb6a6c024c6f971dc627e24b4e4b",
      "value": "care_best_webnlg.pt: 100%"
     }
    },
    "28b814e39415405c963739c12bb1d8cc": {
     "model_module": "@jupyter-widgets/controls",
     "model_module_version": "1.5.0",
     "model_name": "ProgressStyleModel",
     "state": {
      "_model_module": "@jupyter-widgets/controls",
      "_model_module_version": "1.5.0",
      "_model_name": "ProgressStyleModel",
      "_view_count": null,
      "_view_module": "@jupyter-widgets/base",
      "_view_module_version": "1.2.0",
      "_view_name": "StyleView",
      "bar_color": null,
      "description_width": ""
     }
    },
    "2b52c1a95ea34d598c3c7c3d188b8018": {
     "model_module": "@jupyter-widgets/controls",
     "model_module_version": "1.5.0",
     "model_name": "HTMLModel",
     "state": {
      "_dom_classes": [],
      "_model_module": "@jupyter-widgets/controls",
      "_model_module_version": "1.5.0",
      "_model_name": "HTMLModel",
      "_view_count": null,
      "_view_module": "@jupyter-widgets/controls",
      "_view_module_version": "1.5.0",
      "_view_name": "HTMLView",
      "description": "",
      "description_tooltip": null,
      "layout": "IPY_MODEL_f9ea6c06dd194a6085caca000ba6a13e",
      "placeholder": "​",
      "style": "IPY_MODEL_b93648b043e94062b68b9309663029f9",
      "value": "tokenizer.json: 100%"
     }
    },
    "2df6656083cc4223b99fa98dd8065477": {
     "model_module": "@jupyter-widgets/controls",
     "model_module_version": "1.5.0",
     "model_name": "DescriptionStyleModel",
     "state": {
      "_model_module": "@jupyter-widgets/controls",
      "_model_module_version": "1.5.0",
      "_model_name": "DescriptionStyleModel",
      "_view_count": null,
      "_view_module": "@jupyter-widgets/base",
      "_view_module_version": "1.2.0",
      "_view_name": "StyleView",
      "description_width": ""
     }
    },
    "352f5bc0eb104204b8d65b5142a74dad": {
     "model_module": "@jupyter-widgets/controls",
     "model_module_version": "1.5.0",
     "model_name": "FloatProgressModel",
     "state": {
      "_dom_classes": [],
      "_model_module": "@jupyter-widgets/controls",
      "_model_module_version": "1.5.0",
      "_model_name": "FloatProgressModel",
      "_view_count": null,
      "_view_module": "@jupyter-widgets/controls",
      "_view_module_version": "1.5.0",
      "_view_name": "ProgressView",
      "bar_style": "success",
      "description": "",
      "description_tooltip": null,
      "layout": "IPY_MODEL_3c1bae1712f94f66a62811b2b17ba85d",
      "max": 49,
      "min": 0,
      "orientation": "horizontal",
      "style": "IPY_MODEL_28b814e39415405c963739c12bb1d8cc",
      "value": 49
     }
    },
    "3615d5674eb84e55be70808c6719d4a1": {
     "model_module": "@jupyter-widgets/controls",
     "model_module_version": "1.5.0",
     "model_name": "HBoxModel",
     "state": {
      "_dom_classes": [],
      "_model_module": "@jupyter-widgets/controls",
      "_model_module_version": "1.5.0",
      "_model_name": "HBoxModel",
      "_view_count": null,
      "_view_module": "@jupyter-widgets/controls",
      "_view_module_version": "1.5.0",
      "_view_name": "HBoxView",
      "box_style": "",
      "children": [
       "IPY_MODEL_e5b6e0e7ea944cad9cdb2ae0384a0a72",
       "IPY_MODEL_5fbd24bd9e3849a49bffafe0acd81975",
       "IPY_MODEL_a821de1e00d147ceb721e7de38777ddf"
      ],
      "layout": "IPY_MODEL_cb96ff5e552a450b909e9af45157b623"
     }
    },
    "3c1bae1712f94f66a62811b2b17ba85d": {
     "model_module": "@jupyter-widgets/base",
     "model_module_version": "1.2.0",
     "model_name": "LayoutModel",
     "state": {
      "_model_module": "@jupyter-widgets/base",
      "_model_module_version": "1.2.0",
      "_model_name": "LayoutModel",
      "_view_count": null,
      "_view_module": "@jupyter-widgets/base",
      "_view_module_version": "1.2.0",
      "_view_name": "LayoutView",
      "align_content": null,
      "align_items": null,
      "align_self": null,
      "border": null,
      "bottom": null,
      "display": null,
      "flex": null,
      "flex_flow": null,
      "grid_area": null,
      "grid_auto_columns": null,
      "grid_auto_flow": null,
      "grid_auto_rows": null,
      "grid_column": null,
      "grid_gap": null,
      "grid_row": null,
      "grid_template_areas": null,
      "grid_template_columns": null,
      "grid_template_rows": null,
      "height": null,
      "justify_content": null,
      "justify_items": null,
      "left": null,
      "margin": null,
      "max_height": null,
      "max_width": null,
      "min_height": null,
      "min_width": null,
      "object_fit": null,
      "object_position": null,
      "order": null,
      "overflow": null,
      "overflow_x": null,
      "overflow_y": null,
      "padding": null,
      "right": null,
      "top": null,
      "visibility": null,
      "width": null
     }
    },
    "47c40ec48982424aa62c73094b67bc1e": {
     "model_module": "@jupyter-widgets/base",
     "model_module_version": "1.2.0",
     "model_name": "LayoutModel",
     "state": {
      "_model_module": "@jupyter-widgets/base",
      "_model_module_version": "1.2.0",
      "_model_name": "LayoutModel",
      "_view_count": null,
      "_view_module": "@jupyter-widgets/base",
      "_view_module_version": "1.2.0",
      "_view_name": "LayoutView",
      "align_content": null,
      "align_items": null,
      "align_self": null,
      "border": null,
      "bottom": null,
      "display": null,
      "flex": null,
      "flex_flow": null,
      "grid_area": null,
      "grid_auto_columns": null,
      "grid_auto_flow": null,
      "grid_auto_rows": null,
      "grid_column": null,
      "grid_gap": null,
      "grid_row": null,
      "grid_template_areas": null,
      "grid_template_columns": null,
      "grid_template_rows": null,
      "height": null,
      "justify_content": null,
      "justify_items": null,
      "left": null,
      "margin": null,
      "max_height": null,
      "max_width": null,
      "min_height": null,
      "min_width": null,
      "object_fit": null,
      "object_position": null,
      "order": null,
      "overflow": null,
      "overflow_x": null,
      "overflow_y": null,
      "padding": null,
      "right": null,
      "top": null,
      "visibility": null,
      "width": null
     }
    },
    "4b861fcb71934a478aafb367c003f826": {
     "model_module": "@jupyter-widgets/controls",
     "model_module_version": "1.5.0",
     "model_name": "HTMLModel",
     "state": {
      "_dom_classes": [],
      "_model_module": "@jupyter-widgets/controls",
      "_model_module_version": "1.5.0",
      "_model_name": "HTMLModel",
      "_view_count": null,
      "_view_module": "@jupyter-widgets/controls",
      "_view_module_version": "1.5.0",
      "_view_name": "HTMLView",
      "description": "",
      "description_tooltip": null,
      "layout": "IPY_MODEL_bd3a50bcd9d8465f96b6868e25a5a357",
      "placeholder": "​",
      "style": "IPY_MODEL_b2e45f24d39844fb91943d1b960d2a94",
      "value": "vocab.txt: 100%"
     }
    },
    "52eebf29055a4488a30d3cbb7164b4de": {
     "model_module": "@jupyter-widgets/controls",
     "model_module_version": "1.5.0",
     "model_name": "ProgressStyleModel",
     "state": {
      "_model_module": "@jupyter-widgets/controls",
      "_model_module_version": "1.5.0",
      "_model_name": "ProgressStyleModel",
      "_view_count": null,
      "_view_module": "@jupyter-widgets/base",
      "_view_module_version": "1.2.0",
      "_view_name": "StyleView",
      "bar_color": null,
      "description_width": ""
     }
    },
    "536f66ac32444c979f30a0322a7298f4": {
     "model_module": "@jupyter-widgets/base",
     "model_module_version": "1.2.0",
     "model_name": "LayoutModel",
     "state": {
      "_model_module": "@jupyter-widgets/base",
      "_model_module_version": "1.2.0",
      "_model_name": "LayoutModel",
      "_view_count": null,
      "_view_module": "@jupyter-widgets/base",
      "_view_module_version": "1.2.0",
      "_view_name": "LayoutView",
      "align_content": null,
      "align_items": null,
      "align_self": null,
      "border": null,
      "bottom": null,
      "display": null,
      "flex": null,
      "flex_flow": null,
      "grid_area": null,
      "grid_auto_columns": null,
      "grid_auto_flow": null,
      "grid_auto_rows": null,
      "grid_column": null,
      "grid_gap": null,
      "grid_row": null,
      "grid_template_areas": null,
      "grid_template_columns": null,
      "grid_template_rows": null,
      "height": null,
      "justify_content": null,
      "justify_items": null,
      "left": null,
      "margin": null,
      "max_height": null,
      "max_width": null,
      "min_height": null,
      "min_width": null,
      "object_fit": null,
      "object_position": null,
      "order": null,
      "overflow": null,
      "overflow_x": null,
      "overflow_y": null,
      "padding": null,
      "right": null,
      "top": null,
      "visibility": null,
      "width": null
     }
    },
    "5a6154062bfb4580bdd35fbf53cabfa4": {
     "model_module": "@jupyter-widgets/base",
     "model_module_version": "1.2.0",
     "model_name": "LayoutModel",
     "state": {
      "_model_module": "@jupyter-widgets/base",
      "_model_module_version": "1.2.0",
      "_model_name": "LayoutModel",
      "_view_count": null,
      "_view_module": "@jupyter-widgets/base",
      "_view_module_version": "1.2.0",
      "_view_name": "LayoutView",
      "align_content": null,
      "align_items": null,
      "align_self": null,
      "border": null,
      "bottom": null,
      "display": null,
      "flex": null,
      "flex_flow": null,
      "grid_area": null,
      "grid_auto_columns": null,
      "grid_auto_flow": null,
      "grid_auto_rows": null,
      "grid_column": null,
      "grid_gap": null,
      "grid_row": null,
      "grid_template_areas": null,
      "grid_template_columns": null,
      "grid_template_rows": null,
      "height": null,
      "justify_content": null,
      "justify_items": null,
      "left": null,
      "margin": null,
      "max_height": null,
      "max_width": null,
      "min_height": null,
      "min_width": null,
      "object_fit": null,
      "object_position": null,
      "order": null,
      "overflow": null,
      "overflow_x": null,
      "overflow_y": null,
      "padding": null,
      "right": null,
      "top": null,
      "visibility": null,
      "width": null
     }
    },
    "5af93939656543b28ab0c703e900c950": {
     "model_module": "@jupyter-widgets/base",
     "model_module_version": "1.2.0",
     "model_name": "LayoutModel",
     "state": {
      "_model_module": "@jupyter-widgets/base",
      "_model_module_version": "1.2.0",
      "_model_name": "LayoutModel",
      "_view_count": null,
      "_view_module": "@jupyter-widgets/base",
      "_view_module_version": "1.2.0",
      "_view_name": "LayoutView",
      "align_content": null,
      "align_items": null,
      "align_self": null,
      "border": null,
      "bottom": null,
      "display": null,
      "flex": null,
      "flex_flow": null,
      "grid_area": null,
      "grid_auto_columns": null,
      "grid_auto_flow": null,
      "grid_auto_rows": null,
      "grid_column": null,
      "grid_gap": null,
      "grid_row": null,
      "grid_template_areas": null,
      "grid_template_columns": null,
      "grid_template_rows": null,
      "height": null,
      "justify_content": null,
      "justify_items": null,
      "left": null,
      "margin": null,
      "max_height": null,
      "max_width": null,
      "min_height": null,
      "min_width": null,
      "object_fit": null,
      "object_position": null,
      "order": null,
      "overflow": null,
      "overflow_x": null,
      "overflow_y": null,
      "padding": null,
      "right": null,
      "top": null,
      "visibility": null,
      "width": null
     }
    },
    "5d657dba4d304dac98ed8e79113eb3ef": {
     "model_module": "@jupyter-widgets/controls",
     "model_module_version": "1.5.0",
     "model_name": "DescriptionStyleModel",
     "state": {
      "_model_module": "@jupyter-widgets/controls",
      "_model_module_version": "1.5.0",
      "_model_name": "DescriptionStyleModel",
      "_view_count": null,
      "_view_module": "@jupyter-widgets/base",
      "_view_module_version": "1.2.0",
      "_view_name": "StyleView",
      "description_width": ""
     }
    },
    "5ed5f0329bab4c68a3aa7ea31e584290": {
     "model_module": "@jupyter-widgets/base",
     "model_module_version": "1.2.0",
     "model_name": "LayoutModel",
     "state": {
      "_model_module": "@jupyter-widgets/base",
      "_model_module_version": "1.2.0",
      "_model_name": "LayoutModel",
      "_view_count": null,
      "_view_module": "@jupyter-widgets/base",
      "_view_module_version": "1.2.0",
      "_view_name": "LayoutView",
      "align_content": null,
      "align_items": null,
      "align_self": null,
      "border": null,
      "bottom": null,
      "display": null,
      "flex": null,
      "flex_flow": null,
      "grid_area": null,
      "grid_auto_columns": null,
      "grid_auto_flow": null,
      "grid_auto_rows": null,
      "grid_column": null,
      "grid_gap": null,
      "grid_row": null,
      "grid_template_areas": null,
      "grid_template_columns": null,
      "grid_template_rows": null,
      "height": null,
      "justify_content": null,
      "justify_items": null,
      "left": null,
      "margin": null,
      "max_height": null,
      "max_width": null,
      "min_height": null,
      "min_width": null,
      "object_fit": null,
      "object_position": null,
      "order": null,
      "overflow": null,
      "overflow_x": null,
      "overflow_y": null,
      "padding": null,
      "right": null,
      "top": null,
      "visibility": null,
      "width": null
     }
    },
    "5fbd24bd9e3849a49bffafe0acd81975": {
     "model_module": "@jupyter-widgets/controls",
     "model_module_version": "1.5.0",
     "model_name": "FloatProgressModel",
     "state": {
      "_dom_classes": [],
      "_model_module": "@jupyter-widgets/controls",
      "_model_module_version": "1.5.0",
      "_model_name": "FloatProgressModel",
      "_view_count": null,
      "_view_module": "@jupyter-widgets/controls",
      "_view_module_version": "1.5.0",
      "_view_name": "ProgressView",
      "bar_style": "success",
      "description": "",
      "description_tooltip": null,
      "layout": "IPY_MODEL_81206b2c9ab94c5db695b7f9c5ba5693",
      "max": 435755784,
      "min": 0,
      "orientation": "horizontal",
      "style": "IPY_MODEL_1547513e1ba14172b3a8882ba8be1e7e",
      "value": 435755784
     }
    },
    "61ffb0936bf74d58be967b3fb23b60d1": {
     "model_module": "@jupyter-widgets/controls",
     "model_module_version": "1.5.0",
     "model_name": "FloatProgressModel",
     "state": {
      "_dom_classes": [],
      "_model_module": "@jupyter-widgets/controls",
      "_model_module_version": "1.5.0",
      "_model_name": "FloatProgressModel",
      "_view_count": null,
      "_view_module": "@jupyter-widgets/controls",
      "_view_module_version": "1.5.0",
      "_view_name": "ProgressView",
      "bar_style": "success",
      "description": "",
      "description_tooltip": null,
      "layout": "IPY_MODEL_536f66ac32444c979f30a0322a7298f4",
      "max": 1381547522,
      "min": 0,
      "orientation": "horizontal",
      "style": "IPY_MODEL_8f493a87964c41baa1d2f163f60cc245",
      "value": 1381547522
     }
    },
    "64bf9f76db464f23946b7726b794e25a": {
     "model_module": "@jupyter-widgets/controls",
     "model_module_version": "1.5.0",
     "model_name": "HTMLModel",
     "state": {
      "_dom_classes": [],
      "_model_module": "@jupyter-widgets/controls",
      "_model_module_version": "1.5.0",
      "_model_name": "HTMLModel",
      "_view_count": null,
      "_view_module": "@jupyter-widgets/controls",
      "_view_module_version": "1.5.0",
      "_view_name": "HTMLView",
      "description": "",
      "description_tooltip": null,
      "layout": "IPY_MODEL_cd80dfe68be34b30b2024f32e4c3882a",
      "placeholder": "​",
      "style": "IPY_MODEL_5d657dba4d304dac98ed8e79113eb3ef",
      "value": " 49.0/49.0 [00:00&lt;00:00, 4.75kB/s]"
     }
    },
    "65e289bd4dba47d9b9280bc8ed21f3a0": {
     "model_module": "@jupyter-widgets/base",
     "model_module_version": "1.2.0",
     "model_name": "LayoutModel",
     "state": {
      "_model_module": "@jupyter-widgets/base",
      "_model_module_version": "1.2.0",
      "_model_name": "LayoutModel",
      "_view_count": null,
      "_view_module": "@jupyter-widgets/base",
      "_view_module_version": "1.2.0",
      "_view_name": "LayoutView",
      "align_content": null,
      "align_items": null,
      "align_self": null,
      "border": null,
      "bottom": null,
      "display": null,
      "flex": null,
      "flex_flow": null,
      "grid_area": null,
      "grid_auto_columns": null,
      "grid_auto_flow": null,
      "grid_auto_rows": null,
      "grid_column": null,
      "grid_gap": null,
      "grid_row": null,
      "grid_template_areas": null,
      "grid_template_columns": null,
      "grid_template_rows": null,
      "height": null,
      "justify_content": null,
      "justify_items": null,
      "left": null,
      "margin": null,
      "max_height": null,
      "max_width": null,
      "min_height": null,
      "min_width": null,
      "object_fit": null,
      "object_position": null,
      "order": null,
      "overflow": null,
      "overflow_x": null,
      "overflow_y": null,
      "padding": null,
      "right": null,
      "top": null,
      "visibility": null,
      "width": null
     }
    },
    "66669eaf174c4f55bbf77c68ab1d291f": {
     "model_module": "@jupyter-widgets/controls",
     "model_module_version": "1.5.0",
     "model_name": "DescriptionStyleModel",
     "state": {
      "_model_module": "@jupyter-widgets/controls",
      "_model_module_version": "1.5.0",
      "_model_name": "DescriptionStyleModel",
      "_view_count": null,
      "_view_module": "@jupyter-widgets/base",
      "_view_module_version": "1.2.0",
      "_view_name": "StyleView",
      "description_width": ""
     }
    },
    "68630f08286f4409a38dc43809167645": {
     "model_module": "@jupyter-widgets/base",
     "model_module_version": "1.2.0",
     "model_name": "LayoutModel",
     "state": {
      "_model_module": "@jupyter-widgets/base",
      "_model_module_version": "1.2.0",
      "_model_name": "LayoutModel",
      "_view_count": null,
      "_view_module": "@jupyter-widgets/base",
      "_view_module_version": "1.2.0",
      "_view_name": "LayoutView",
      "align_content": null,
      "align_items": null,
      "align_self": null,
      "border": null,
      "bottom": null,
      "display": null,
      "flex": null,
      "flex_flow": null,
      "grid_area": null,
      "grid_auto_columns": null,
      "grid_auto_flow": null,
      "grid_auto_rows": null,
      "grid_column": null,
      "grid_gap": null,
      "grid_row": null,
      "grid_template_areas": null,
      "grid_template_columns": null,
      "grid_template_rows": null,
      "height": null,
      "justify_content": null,
      "justify_items": null,
      "left": null,
      "margin": null,
      "max_height": null,
      "max_width": null,
      "min_height": null,
      "min_width": null,
      "object_fit": null,
      "object_position": null,
      "order": null,
      "overflow": null,
      "overflow_x": null,
      "overflow_y": null,
      "padding": null,
      "right": null,
      "top": null,
      "visibility": null,
      "width": null
     }
    },
    "69d7349de34c4eb697d78f308d3c5905": {
     "model_module": "@jupyter-widgets/base",
     "model_module_version": "1.2.0",
     "model_name": "LayoutModel",
     "state": {
      "_model_module": "@jupyter-widgets/base",
      "_model_module_version": "1.2.0",
      "_model_name": "LayoutModel",
      "_view_count": null,
      "_view_module": "@jupyter-widgets/base",
      "_view_module_version": "1.2.0",
      "_view_name": "LayoutView",
      "align_content": null,
      "align_items": null,
      "align_self": null,
      "border": null,
      "bottom": null,
      "display": null,
      "flex": null,
      "flex_flow": null,
      "grid_area": null,
      "grid_auto_columns": null,
      "grid_auto_flow": null,
      "grid_auto_rows": null,
      "grid_column": null,
      "grid_gap": null,
      "grid_row": null,
      "grid_template_areas": null,
      "grid_template_columns": null,
      "grid_template_rows": null,
      "height": null,
      "justify_content": null,
      "justify_items": null,
      "left": null,
      "margin": null,
      "max_height": null,
      "max_width": null,
      "min_height": null,
      "min_width": null,
      "object_fit": null,
      "object_position": null,
      "order": null,
      "overflow": null,
      "overflow_x": null,
      "overflow_y": null,
      "padding": null,
      "right": null,
      "top": null,
      "visibility": null,
      "width": null
     }
    },
    "6e623f8f74e14e18b6582dcc82e4cd1a": {
     "model_module": "@jupyter-widgets/controls",
     "model_module_version": "1.5.0",
     "model_name": "DescriptionStyleModel",
     "state": {
      "_model_module": "@jupyter-widgets/controls",
      "_model_module_version": "1.5.0",
      "_model_name": "DescriptionStyleModel",
      "_view_count": null,
      "_view_module": "@jupyter-widgets/base",
      "_view_module_version": "1.2.0",
      "_view_name": "StyleView",
      "description_width": ""
     }
    },
    "77ecef8ef0d54aa5969feb888c391133": {
     "model_module": "@jupyter-widgets/base",
     "model_module_version": "1.2.0",
     "model_name": "LayoutModel",
     "state": {
      "_model_module": "@jupyter-widgets/base",
      "_model_module_version": "1.2.0",
      "_model_name": "LayoutModel",
      "_view_count": null,
      "_view_module": "@jupyter-widgets/base",
      "_view_module_version": "1.2.0",
      "_view_name": "LayoutView",
      "align_content": null,
      "align_items": null,
      "align_self": null,
      "border": null,
      "bottom": null,
      "display": null,
      "flex": null,
      "flex_flow": null,
      "grid_area": null,
      "grid_auto_columns": null,
      "grid_auto_flow": null,
      "grid_auto_rows": null,
      "grid_column": null,
      "grid_gap": null,
      "grid_row": null,
      "grid_template_areas": null,
      "grid_template_columns": null,
      "grid_template_rows": null,
      "height": null,
      "justify_content": null,
      "justify_items": null,
      "left": null,
      "margin": null,
      "max_height": null,
      "max_width": null,
      "min_height": null,
      "min_width": null,
      "object_fit": null,
      "object_position": null,
      "order": null,
      "overflow": null,
      "overflow_x": null,
      "overflow_y": null,
      "padding": null,
      "right": null,
      "top": null,
      "visibility": null,
      "width": null
     }
    },
    "81206b2c9ab94c5db695b7f9c5ba5693": {
     "model_module": "@jupyter-widgets/base",
     "model_module_version": "1.2.0",
     "model_name": "LayoutModel",
     "state": {
      "_model_module": "@jupyter-widgets/base",
      "_model_module_version": "1.2.0",
      "_model_name": "LayoutModel",
      "_view_count": null,
      "_view_module": "@jupyter-widgets/base",
      "_view_module_version": "1.2.0",
      "_view_name": "LayoutView",
      "align_content": null,
      "align_items": null,
      "align_self": null,
      "border": null,
      "bottom": null,
      "display": null,
      "flex": null,
      "flex_flow": null,
      "grid_area": null,
      "grid_auto_columns": null,
      "grid_auto_flow": null,
      "grid_auto_rows": null,
      "grid_column": null,
      "grid_gap": null,
      "grid_row": null,
      "grid_template_areas": null,
      "grid_template_columns": null,
      "grid_template_rows": null,
      "height": null,
      "justify_content": null,
      "justify_items": null,
      "left": null,
      "margin": null,
      "max_height": null,
      "max_width": null,
      "min_height": null,
      "min_width": null,
      "object_fit": null,
      "object_position": null,
      "order": null,
      "overflow": null,
      "overflow_x": null,
      "overflow_y": null,
      "padding": null,
      "right": null,
      "top": null,
      "visibility": null,
      "width": null
     }
    },
    "85caabab2cfe4a8a89a5300b8d22b339": {
     "model_module": "@jupyter-widgets/controls",
     "model_module_version": "1.5.0",
     "model_name": "FloatProgressModel",
     "state": {
      "_dom_classes": [],
      "_model_module": "@jupyter-widgets/controls",
      "_model_module_version": "1.5.0",
      "_model_name": "FloatProgressModel",
      "_view_count": null,
      "_view_module": "@jupyter-widgets/controls",
      "_view_module_version": "1.5.0",
      "_view_name": "ProgressView",
      "bar_style": "success",
      "description": "",
      "description_tooltip": null,
      "layout": "IPY_MODEL_f0eecc3829414d7f917b55cd9cca3efd",
      "max": 213450,
      "min": 0,
      "orientation": "horizontal",
      "style": "IPY_MODEL_16220a4ccc6e4f9ba926c0bcd334edda",
      "value": 213450
     }
    },
    "8f493a87964c41baa1d2f163f60cc245": {
     "model_module": "@jupyter-widgets/controls",
     "model_module_version": "1.5.0",
     "model_name": "ProgressStyleModel",
     "state": {
      "_model_module": "@jupyter-widgets/controls",
      "_model_module_version": "1.5.0",
      "_model_name": "ProgressStyleModel",
      "_view_count": null,
      "_view_module": "@jupyter-widgets/base",
      "_view_module_version": "1.2.0",
      "_view_name": "StyleView",
      "bar_color": null,
      "description_width": ""
     }
    },
    "91ab1472291b40469d71a51360a1ef59": {
     "model_module": "@jupyter-widgets/controls",
     "model_module_version": "1.5.0",
     "model_name": "HTMLModel",
     "state": {
      "_dom_classes": [],
      "_model_module": "@jupyter-widgets/controls",
      "_model_module_version": "1.5.0",
      "_model_name": "HTMLModel",
      "_view_count": null,
      "_view_module": "@jupyter-widgets/controls",
      "_view_module_version": "1.5.0",
      "_view_name": "HTMLView",
      "description": "",
      "description_tooltip": null,
      "layout": "IPY_MODEL_0a4997949fc84342a202ea2993f8f202",
      "placeholder": "​",
      "style": "IPY_MODEL_0a4fa3af55774f54bdff0eae8164b7a6",
      "value": "care_best_nyt.pt: 100%"
     }
    },
    "9abb86eb268a4d70bd5d58ed3d55f9e7": {
     "model_module": "@jupyter-widgets/controls",
     "model_module_version": "1.5.0",
     "model_name": "HBoxModel",
     "state": {
      "_dom_classes": [],
      "_model_module": "@jupyter-widgets/controls",
      "_model_module_version": "1.5.0",
      "_model_name": "HBoxModel",
      "_view_count": null,
      "_view_module": "@jupyter-widgets/controls",
      "_view_module_version": "1.5.0",
      "_view_name": "HBoxView",
      "box_style": "",
      "children": [
       "IPY_MODEL_f7839d34829446ab9c9d5cb0b301445e",
       "IPY_MODEL_9c3481523e4e4ac59fc0a3a5c363913d",
       "IPY_MODEL_ba8a65ab45254532a7bc61ecfd85b4c6"
      ],
      "layout": "IPY_MODEL_a8ed81b6fa8f45f2b84ceca30da576ee"
     }
    },
    "9c3481523e4e4ac59fc0a3a5c363913d": {
     "model_module": "@jupyter-widgets/controls",
     "model_module_version": "1.5.0",
     "model_name": "FloatProgressModel",
     "state": {
      "_dom_classes": [],
      "_model_module": "@jupyter-widgets/controls",
      "_model_module_version": "1.5.0",
      "_model_name": "FloatProgressModel",
      "_view_count": null,
      "_view_module": "@jupyter-widgets/controls",
      "_view_module_version": "1.5.0",
      "_view_name": "ProgressView",
      "bar_style": "success",
      "description": "",
      "description_tooltip": null,
      "layout": "IPY_MODEL_a357adceb0ed41d48402ffffb953a782",
      "max": 570,
      "min": 0,
      "orientation": "horizontal",
      "style": "IPY_MODEL_e0becae80d83466298442ad5408892be",
      "value": 570
     }
    },
    "9d83a027726c4be3838bb590dbd37c60": {
     "model_module": "@jupyter-widgets/controls",
     "model_module_version": "1.5.0",
     "model_name": "HTMLModel",
     "state": {
      "_dom_classes": [],
      "_model_module": "@jupyter-widgets/controls",
      "_model_module_version": "1.5.0",
      "_model_name": "HTMLModel",
      "_view_count": null,
      "_view_module": "@jupyter-widgets/controls",
      "_view_module_version": "1.5.0",
      "_view_name": "HTMLView",
      "description": "",
      "description_tooltip": null,
      "layout": "IPY_MODEL_69d7349de34c4eb697d78f308d3c5905",
      "placeholder": "​",
      "style": "IPY_MODEL_dd94015827ed4bb4833bb406bda4c7be",
      "value": " 1.38G/1.38G [00:24&lt;00:00, 54.2MB/s]"
     }
    },
    "a0b8f5448e0043d593c1c5143670114e": {
     "model_module": "@jupyter-widgets/base",
     "model_module_version": "1.2.0",
     "model_name": "LayoutModel",
     "state": {
      "_model_module": "@jupyter-widgets/base",
      "_model_module_version": "1.2.0",
      "_model_name": "LayoutModel",
      "_view_count": null,
      "_view_module": "@jupyter-widgets/base",
      "_view_module_version": "1.2.0",
      "_view_name": "LayoutView",
      "align_content": null,
      "align_items": null,
      "align_self": null,
      "border": null,
      "bottom": null,
      "display": null,
      "flex": null,
      "flex_flow": null,
      "grid_area": null,
      "grid_auto_columns": null,
      "grid_auto_flow": null,
      "grid_auto_rows": null,
      "grid_column": null,
      "grid_gap": null,
      "grid_row": null,
      "grid_template_areas": null,
      "grid_template_columns": null,
      "grid_template_rows": null,
      "height": null,
      "justify_content": null,
      "justify_items": null,
      "left": null,
      "margin": null,
      "max_height": null,
      "max_width": null,
      "min_height": null,
      "min_width": null,
      "object_fit": null,
      "object_position": null,
      "order": null,
      "overflow": null,
      "overflow_x": null,
      "overflow_y": null,
      "padding": null,
      "right": null,
      "top": null,
      "visibility": null,
      "width": null
     }
    },
    "a2f7f3550d9540359ffc99fc137a0908": {
     "model_module": "@jupyter-widgets/controls",
     "model_module_version": "1.5.0",
     "model_name": "DescriptionStyleModel",
     "state": {
      "_model_module": "@jupyter-widgets/controls",
      "_model_module_version": "1.5.0",
      "_model_name": "DescriptionStyleModel",
      "_view_count": null,
      "_view_module": "@jupyter-widgets/base",
      "_view_module_version": "1.2.0",
      "_view_name": "StyleView",
      "description_width": ""
     }
    },
    "a357adceb0ed41d48402ffffb953a782": {
     "model_module": "@jupyter-widgets/base",
     "model_module_version": "1.2.0",
     "model_name": "LayoutModel",
     "state": {
      "_model_module": "@jupyter-widgets/base",
      "_model_module_version": "1.2.0",
      "_model_name": "LayoutModel",
      "_view_count": null,
      "_view_module": "@jupyter-widgets/base",
      "_view_module_version": "1.2.0",
      "_view_name": "LayoutView",
      "align_content": null,
      "align_items": null,
      "align_self": null,
      "border": null,
      "bottom": null,
      "display": null,
      "flex": null,
      "flex_flow": null,
      "grid_area": null,
      "grid_auto_columns": null,
      "grid_auto_flow": null,
      "grid_auto_rows": null,
      "grid_column": null,
      "grid_gap": null,
      "grid_row": null,
      "grid_template_areas": null,
      "grid_template_columns": null,
      "grid_template_rows": null,
      "height": null,
      "justify_content": null,
      "justify_items": null,
      "left": null,
      "margin": null,
      "max_height": null,
      "max_width": null,
      "min_height": null,
      "min_width": null,
      "object_fit": null,
      "object_position": null,
      "order": null,
      "overflow": null,
      "overflow_x": null,
      "overflow_y": null,
      "padding": null,
      "right": null,
      "top": null,
      "visibility": null,
      "width": null
     }
    },
    "a3d256473c714786a60f2344db66c950": {
     "model_module": "@jupyter-widgets/controls",
     "model_module_version": "1.5.0",
     "model_name": "HBoxModel",
     "state": {
      "_dom_classes": [],
      "_model_module": "@jupyter-widgets/controls",
      "_model_module_version": "1.5.0",
      "_model_name": "HBoxModel",
      "_view_count": null,
      "_view_module": "@jupyter-widgets/controls",
      "_view_module_version": "1.5.0",
      "_view_name": "HBoxView",
      "box_style": "",
      "children": [
       "IPY_MODEL_d38e0f6bbda4473cb37d12e85fd9e79b",
       "IPY_MODEL_352f5bc0eb104204b8d65b5142a74dad",
       "IPY_MODEL_64bf9f76db464f23946b7726b794e25a"
      ],
      "layout": "IPY_MODEL_5ed5f0329bab4c68a3aa7ea31e584290"
     }
    },
    "a540bb6a6c024c6f971dc627e24b4e4b": {
     "model_module": "@jupyter-widgets/controls",
     "model_module_version": "1.5.0",
     "model_name": "DescriptionStyleModel",
     "state": {
      "_model_module": "@jupyter-widgets/controls",
      "_model_module_version": "1.5.0",
      "_model_name": "DescriptionStyleModel",
      "_view_count": null,
      "_view_module": "@jupyter-widgets/base",
      "_view_module_version": "1.2.0",
      "_view_name": "StyleView",
      "description_width": ""
     }
    },
    "a821de1e00d147ceb721e7de38777ddf": {
     "model_module": "@jupyter-widgets/controls",
     "model_module_version": "1.5.0",
     "model_name": "HTMLModel",
     "state": {
      "_dom_classes": [],
      "_model_module": "@jupyter-widgets/controls",
      "_model_module_version": "1.5.0",
      "_model_name": "HTMLModel",
      "_view_count": null,
      "_view_module": "@jupyter-widgets/controls",
      "_view_module_version": "1.5.0",
      "_view_name": "HTMLView",
      "description": "",
      "description_tooltip": null,
      "layout": "IPY_MODEL_e04cf89e22bc40b78534f5935c884f1d",
      "placeholder": "​",
      "style": "IPY_MODEL_dce932b416d945e98098ca12b2835359",
      "value": " 436M/436M [00:05&lt;00:00, 112MB/s]"
     }
    },
    "a8ed81b6fa8f45f2b84ceca30da576ee": {
     "model_module": "@jupyter-widgets/base",
     "model_module_version": "1.2.0",
     "model_name": "LayoutModel",
     "state": {
      "_model_module": "@jupyter-widgets/base",
      "_model_module_version": "1.2.0",
      "_model_name": "LayoutModel",
      "_view_count": null,
      "_view_module": "@jupyter-widgets/base",
      "_view_module_version": "1.2.0",
      "_view_name": "LayoutView",
      "align_content": null,
      "align_items": null,
      "align_self": null,
      "border": null,
      "bottom": null,
      "display": null,
      "flex": null,
      "flex_flow": null,
      "grid_area": null,
      "grid_auto_columns": null,
      "grid_auto_flow": null,
      "grid_auto_rows": null,
      "grid_column": null,
      "grid_gap": null,
      "grid_row": null,
      "grid_template_areas": null,
      "grid_template_columns": null,
      "grid_template_rows": null,
      "height": null,
      "justify_content": null,
      "justify_items": null,
      "left": null,
      "margin": null,
      "max_height": null,
      "max_width": null,
      "min_height": null,
      "min_width": null,
      "object_fit": null,
      "object_position": null,
      "order": null,
      "overflow": null,
      "overflow_x": null,
      "overflow_y": null,
      "padding": null,
      "right": null,
      "top": null,
      "visibility": null,
      "width": null
     }
    },
    "b2e45f24d39844fb91943d1b960d2a94": {
     "model_module": "@jupyter-widgets/controls",
     "model_module_version": "1.5.0",
     "model_name": "DescriptionStyleModel",
     "state": {
      "_model_module": "@jupyter-widgets/controls",
      "_model_module_version": "1.5.0",
      "_model_name": "DescriptionStyleModel",
      "_view_count": null,
      "_view_module": "@jupyter-widgets/base",
      "_view_module_version": "1.2.0",
      "_view_name": "StyleView",
      "description_width": ""
     }
    },
    "b6a69dfd222b4b01b818f53d2bcc962a": {
     "model_module": "@jupyter-widgets/controls",
     "model_module_version": "1.5.0",
     "model_name": "HTMLModel",
     "state": {
      "_dom_classes": [],
      "_model_module": "@jupyter-widgets/controls",
      "_model_module_version": "1.5.0",
      "_model_name": "HTMLModel",
      "_view_count": null,
      "_view_module": "@jupyter-widgets/controls",
      "_view_module_version": "1.5.0",
      "_view_name": "HTMLView",
      "description": "",
      "description_tooltip": null,
      "layout": "IPY_MODEL_d948a438144d40948dc41280d02678fe",
      "placeholder": "​",
      "style": "IPY_MODEL_66669eaf174c4f55bbf77c68ab1d291f",
      "value": " 1.38G/1.38G [00:29&lt;00:00, 91.0MB/s]"
     }
    },
    "b93648b043e94062b68b9309663029f9": {
     "model_module": "@jupyter-widgets/controls",
     "model_module_version": "1.5.0",
     "model_name": "DescriptionStyleModel",
     "state": {
      "_model_module": "@jupyter-widgets/controls",
      "_model_module_version": "1.5.0",
      "_model_name": "DescriptionStyleModel",
      "_view_count": null,
      "_view_module": "@jupyter-widgets/base",
      "_view_module_version": "1.2.0",
      "_view_name": "StyleView",
      "description_width": ""
     }
    },
    "ba8a65ab45254532a7bc61ecfd85b4c6": {
     "model_module": "@jupyter-widgets/controls",
     "model_module_version": "1.5.0",
     "model_name": "HTMLModel",
     "state": {
      "_dom_classes": [],
      "_model_module": "@jupyter-widgets/controls",
      "_model_module_version": "1.5.0",
      "_model_name": "HTMLModel",
      "_view_count": null,
      "_view_module": "@jupyter-widgets/controls",
      "_view_module_version": "1.5.0",
      "_view_name": "HTMLView",
      "description": "",
      "description_tooltip": null,
      "layout": "IPY_MODEL_f8bf12d6e2a34882b2999fedb0f919f8",
      "placeholder": "​",
      "style": "IPY_MODEL_2df6656083cc4223b99fa98dd8065477",
      "value": " 570/570 [00:00&lt;00:00, 60.0kB/s]"
     }
    },
    "bb7a31ac85904bc0b722c361951b7306": {
     "model_module": "@jupyter-widgets/controls",
     "model_module_version": "1.5.0",
     "model_name": "DescriptionStyleModel",
     "state": {
      "_model_module": "@jupyter-widgets/controls",
      "_model_module_version": "1.5.0",
      "_model_name": "DescriptionStyleModel",
      "_view_count": null,
      "_view_module": "@jupyter-widgets/base",
      "_view_module_version": "1.2.0",
      "_view_name": "StyleView",
      "description_width": ""
     }
    },
    "bd3a50bcd9d8465f96b6868e25a5a357": {
     "model_module": "@jupyter-widgets/base",
     "model_module_version": "1.2.0",
     "model_name": "LayoutModel",
     "state": {
      "_model_module": "@jupyter-widgets/base",
      "_model_module_version": "1.2.0",
      "_model_name": "LayoutModel",
      "_view_count": null,
      "_view_module": "@jupyter-widgets/base",
      "_view_module_version": "1.2.0",
      "_view_name": "LayoutView",
      "align_content": null,
      "align_items": null,
      "align_self": null,
      "border": null,
      "bottom": null,
      "display": null,
      "flex": null,
      "flex_flow": null,
      "grid_area": null,
      "grid_auto_columns": null,
      "grid_auto_flow": null,
      "grid_auto_rows": null,
      "grid_column": null,
      "grid_gap": null,
      "grid_row": null,
      "grid_template_areas": null,
      "grid_template_columns": null,
      "grid_template_rows": null,
      "height": null,
      "justify_content": null,
      "justify_items": null,
      "left": null,
      "margin": null,
      "max_height": null,
      "max_width": null,
      "min_height": null,
      "min_width": null,
      "object_fit": null,
      "object_position": null,
      "order": null,
      "overflow": null,
      "overflow_x": null,
      "overflow_y": null,
      "padding": null,
      "right": null,
      "top": null,
      "visibility": null,
      "width": null
     }
    },
    "c020bc6d5fc8493a913f08b804f4fc93": {
     "model_module": "@jupyter-widgets/controls",
     "model_module_version": "1.5.0",
     "model_name": "DescriptionStyleModel",
     "state": {
      "_model_module": "@jupyter-widgets/controls",
      "_model_module_version": "1.5.0",
      "_model_name": "DescriptionStyleModel",
      "_view_count": null,
      "_view_module": "@jupyter-widgets/base",
      "_view_module_version": "1.2.0",
      "_view_name": "StyleView",
      "description_width": ""
     }
    },
    "cb96ff5e552a450b909e9af45157b623": {
     "model_module": "@jupyter-widgets/base",
     "model_module_version": "1.2.0",
     "model_name": "LayoutModel",
     "state": {
      "_model_module": "@jupyter-widgets/base",
      "_model_module_version": "1.2.0",
      "_model_name": "LayoutModel",
      "_view_count": null,
      "_view_module": "@jupyter-widgets/base",
      "_view_module_version": "1.2.0",
      "_view_name": "LayoutView",
      "align_content": null,
      "align_items": null,
      "align_self": null,
      "border": null,
      "bottom": null,
      "display": null,
      "flex": null,
      "flex_flow": null,
      "grid_area": null,
      "grid_auto_columns": null,
      "grid_auto_flow": null,
      "grid_auto_rows": null,
      "grid_column": null,
      "grid_gap": null,
      "grid_row": null,
      "grid_template_areas": null,
      "grid_template_columns": null,
      "grid_template_rows": null,
      "height": null,
      "justify_content": null,
      "justify_items": null,
      "left": null,
      "margin": null,
      "max_height": null,
      "max_width": null,
      "min_height": null,
      "min_width": null,
      "object_fit": null,
      "object_position": null,
      "order": null,
      "overflow": null,
      "overflow_x": null,
      "overflow_y": null,
      "padding": null,
      "right": null,
      "top": null,
      "visibility": null,
      "width": null
     }
    },
    "cd80dfe68be34b30b2024f32e4c3882a": {
     "model_module": "@jupyter-widgets/base",
     "model_module_version": "1.2.0",
     "model_name": "LayoutModel",
     "state": {
      "_model_module": "@jupyter-widgets/base",
      "_model_module_version": "1.2.0",
      "_model_name": "LayoutModel",
      "_view_count": null,
      "_view_module": "@jupyter-widgets/base",
      "_view_module_version": "1.2.0",
      "_view_name": "LayoutView",
      "align_content": null,
      "align_items": null,
      "align_self": null,
      "border": null,
      "bottom": null,
      "display": null,
      "flex": null,
      "flex_flow": null,
      "grid_area": null,
      "grid_auto_columns": null,
      "grid_auto_flow": null,
      "grid_auto_rows": null,
      "grid_column": null,
      "grid_gap": null,
      "grid_row": null,
      "grid_template_areas": null,
      "grid_template_columns": null,
      "grid_template_rows": null,
      "height": null,
      "justify_content": null,
      "justify_items": null,
      "left": null,
      "margin": null,
      "max_height": null,
      "max_width": null,
      "min_height": null,
      "min_width": null,
      "object_fit": null,
      "object_position": null,
      "order": null,
      "overflow": null,
      "overflow_x": null,
      "overflow_y": null,
      "padding": null,
      "right": null,
      "top": null,
      "visibility": null,
      "width": null
     }
    },
    "d1103a21bdbe41f8b5c8e3417a59a464": {
     "model_module": "@jupyter-widgets/controls",
     "model_module_version": "1.5.0",
     "model_name": "HTMLModel",
     "state": {
      "_dom_classes": [],
      "_model_module": "@jupyter-widgets/controls",
      "_model_module_version": "1.5.0",
      "_model_name": "HTMLModel",
      "_view_count": null,
      "_view_module": "@jupyter-widgets/controls",
      "_view_module_version": "1.5.0",
      "_view_name": "HTMLView",
      "description": "",
      "description_tooltip": null,
      "layout": "IPY_MODEL_65e289bd4dba47d9b9280bc8ed21f3a0",
      "placeholder": "​",
      "style": "IPY_MODEL_1f6a6f7eaebd44f7b7139ad6c29f9d4e",
      "value": " 213k/213k [00:00&lt;00:00, 10.4MB/s]"
     }
    },
    "d136b8fce57349c0b7df5dd28f07b808": {
     "model_module": "@jupyter-widgets/controls",
     "model_module_version": "1.5.0",
     "model_name": "HBoxModel",
     "state": {
      "_dom_classes": [],
      "_model_module": "@jupyter-widgets/controls",
      "_model_module_version": "1.5.0",
      "_model_name": "HBoxModel",
      "_view_count": null,
      "_view_module": "@jupyter-widgets/controls",
      "_view_module_version": "1.5.0",
      "_view_name": "HBoxView",
      "box_style": "",
      "children": [
       "IPY_MODEL_2b52c1a95ea34d598c3c7c3d188b8018",
       "IPY_MODEL_ff9c76bd9c204dbab2388d025d154b0f",
       "IPY_MODEL_008e3501601a4e2d8cc7bac34081d3ef"
      ],
      "layout": "IPY_MODEL_08a5a88fdcca46afb5918ab379113d09"
     }
    },
    "d38e0f6bbda4473cb37d12e85fd9e79b": {
     "model_module": "@jupyter-widgets/controls",
     "model_module_version": "1.5.0",
     "model_name": "HTMLModel",
     "state": {
      "_dom_classes": [],
      "_model_module": "@jupyter-widgets/controls",
      "_model_module_version": "1.5.0",
      "_model_name": "HTMLModel",
      "_view_count": null,
      "_view_module": "@jupyter-widgets/controls",
      "_view_module_version": "1.5.0",
      "_view_name": "HTMLView",
      "description": "",
      "description_tooltip": null,
      "layout": "IPY_MODEL_47c40ec48982424aa62c73094b67bc1e",
      "placeholder": "​",
      "style": "IPY_MODEL_bb7a31ac85904bc0b722c361951b7306",
      "value": "tokenizer_config.json: 100%"
     }
    },
    "d7c378f3797e47298cb2cfd0256abb88": {
     "model_module": "@jupyter-widgets/base",
     "model_module_version": "1.2.0",
     "model_name": "LayoutModel",
     "state": {
      "_model_module": "@jupyter-widgets/base",
      "_model_module_version": "1.2.0",
      "_model_name": "LayoutModel",
      "_view_count": null,
      "_view_module": "@jupyter-widgets/base",
      "_view_module_version": "1.2.0",
      "_view_name": "LayoutView",
      "align_content": null,
      "align_items": null,
      "align_self": null,
      "border": null,
      "bottom": null,
      "display": null,
      "flex": null,
      "flex_flow": null,
      "grid_area": null,
      "grid_auto_columns": null,
      "grid_auto_flow": null,
      "grid_auto_rows": null,
      "grid_column": null,
      "grid_gap": null,
      "grid_row": null,
      "grid_template_areas": null,
      "grid_template_columns": null,
      "grid_template_rows": null,
      "height": null,
      "justify_content": null,
      "justify_items": null,
      "left": null,
      "margin": null,
      "max_height": null,
      "max_width": null,
      "min_height": null,
      "min_width": null,
      "object_fit": null,
      "object_position": null,
      "order": null,
      "overflow": null,
      "overflow_x": null,
      "overflow_y": null,
      "padding": null,
      "right": null,
      "top": null,
      "visibility": null,
      "width": null
     }
    },
    "d948a438144d40948dc41280d02678fe": {
     "model_module": "@jupyter-widgets/base",
     "model_module_version": "1.2.0",
     "model_name": "LayoutModel",
     "state": {
      "_model_module": "@jupyter-widgets/base",
      "_model_module_version": "1.2.0",
      "_model_name": "LayoutModel",
      "_view_count": null,
      "_view_module": "@jupyter-widgets/base",
      "_view_module_version": "1.2.0",
      "_view_name": "LayoutView",
      "align_content": null,
      "align_items": null,
      "align_self": null,
      "border": null,
      "bottom": null,
      "display": null,
      "flex": null,
      "flex_flow": null,
      "grid_area": null,
      "grid_auto_columns": null,
      "grid_auto_flow": null,
      "grid_auto_rows": null,
      "grid_column": null,
      "grid_gap": null,
      "grid_row": null,
      "grid_template_areas": null,
      "grid_template_columns": null,
      "grid_template_rows": null,
      "height": null,
      "justify_content": null,
      "justify_items": null,
      "left": null,
      "margin": null,
      "max_height": null,
      "max_width": null,
      "min_height": null,
      "min_width": null,
      "object_fit": null,
      "object_position": null,
      "order": null,
      "overflow": null,
      "overflow_x": null,
      "overflow_y": null,
      "padding": null,
      "right": null,
      "top": null,
      "visibility": null,
      "width": null
     }
    },
    "dab08b7e7a9c4235ad1fc251fc2696ed": {
     "model_module": "@jupyter-widgets/base",
     "model_module_version": "1.2.0",
     "model_name": "LayoutModel",
     "state": {
      "_model_module": "@jupyter-widgets/base",
      "_model_module_version": "1.2.0",
      "_model_name": "LayoutModel",
      "_view_count": null,
      "_view_module": "@jupyter-widgets/base",
      "_view_module_version": "1.2.0",
      "_view_name": "LayoutView",
      "align_content": null,
      "align_items": null,
      "align_self": null,
      "border": null,
      "bottom": null,
      "display": null,
      "flex": null,
      "flex_flow": null,
      "grid_area": null,
      "grid_auto_columns": null,
      "grid_auto_flow": null,
      "grid_auto_rows": null,
      "grid_column": null,
      "grid_gap": null,
      "grid_row": null,
      "grid_template_areas": null,
      "grid_template_columns": null,
      "grid_template_rows": null,
      "height": null,
      "justify_content": null,
      "justify_items": null,
      "left": null,
      "margin": null,
      "max_height": null,
      "max_width": null,
      "min_height": null,
      "min_width": null,
      "object_fit": null,
      "object_position": null,
      "order": null,
      "overflow": null,
      "overflow_x": null,
      "overflow_y": null,
      "padding": null,
      "right": null,
      "top": null,
      "visibility": null,
      "width": null
     }
    },
    "dce932b416d945e98098ca12b2835359": {
     "model_module": "@jupyter-widgets/controls",
     "model_module_version": "1.5.0",
     "model_name": "DescriptionStyleModel",
     "state": {
      "_model_module": "@jupyter-widgets/controls",
      "_model_module_version": "1.5.0",
      "_model_name": "DescriptionStyleModel",
      "_view_count": null,
      "_view_module": "@jupyter-widgets/base",
      "_view_module_version": "1.2.0",
      "_view_name": "StyleView",
      "description_width": ""
     }
    },
    "dd94015827ed4bb4833bb406bda4c7be": {
     "model_module": "@jupyter-widgets/controls",
     "model_module_version": "1.5.0",
     "model_name": "DescriptionStyleModel",
     "state": {
      "_model_module": "@jupyter-widgets/controls",
      "_model_module_version": "1.5.0",
      "_model_name": "DescriptionStyleModel",
      "_view_count": null,
      "_view_module": "@jupyter-widgets/base",
      "_view_module_version": "1.2.0",
      "_view_name": "StyleView",
      "description_width": ""
     }
    },
    "e04cf89e22bc40b78534f5935c884f1d": {
     "model_module": "@jupyter-widgets/base",
     "model_module_version": "1.2.0",
     "model_name": "LayoutModel",
     "state": {
      "_model_module": "@jupyter-widgets/base",
      "_model_module_version": "1.2.0",
      "_model_name": "LayoutModel",
      "_view_count": null,
      "_view_module": "@jupyter-widgets/base",
      "_view_module_version": "1.2.0",
      "_view_name": "LayoutView",
      "align_content": null,
      "align_items": null,
      "align_self": null,
      "border": null,
      "bottom": null,
      "display": null,
      "flex": null,
      "flex_flow": null,
      "grid_area": null,
      "grid_auto_columns": null,
      "grid_auto_flow": null,
      "grid_auto_rows": null,
      "grid_column": null,
      "grid_gap": null,
      "grid_row": null,
      "grid_template_areas": null,
      "grid_template_columns": null,
      "grid_template_rows": null,
      "height": null,
      "justify_content": null,
      "justify_items": null,
      "left": null,
      "margin": null,
      "max_height": null,
      "max_width": null,
      "min_height": null,
      "min_width": null,
      "object_fit": null,
      "object_position": null,
      "order": null,
      "overflow": null,
      "overflow_x": null,
      "overflow_y": null,
      "padding": null,
      "right": null,
      "top": null,
      "visibility": null,
      "width": null
     }
    },
    "e0becae80d83466298442ad5408892be": {
     "model_module": "@jupyter-widgets/controls",
     "model_module_version": "1.5.0",
     "model_name": "ProgressStyleModel",
     "state": {
      "_model_module": "@jupyter-widgets/controls",
      "_model_module_version": "1.5.0",
      "_model_name": "ProgressStyleModel",
      "_view_count": null,
      "_view_module": "@jupyter-widgets/base",
      "_view_module_version": "1.2.0",
      "_view_name": "StyleView",
      "bar_color": null,
      "description_width": ""
     }
    },
    "e2c8501f8a194b5d9cd76f3b6cda664d": {
     "model_module": "@jupyter-widgets/base",
     "model_module_version": "1.2.0",
     "model_name": "LayoutModel",
     "state": {
      "_model_module": "@jupyter-widgets/base",
      "_model_module_version": "1.2.0",
      "_model_name": "LayoutModel",
      "_view_count": null,
      "_view_module": "@jupyter-widgets/base",
      "_view_module_version": "1.2.0",
      "_view_name": "LayoutView",
      "align_content": null,
      "align_items": null,
      "align_self": null,
      "border": null,
      "bottom": null,
      "display": null,
      "flex": null,
      "flex_flow": null,
      "grid_area": null,
      "grid_auto_columns": null,
      "grid_auto_flow": null,
      "grid_auto_rows": null,
      "grid_column": null,
      "grid_gap": null,
      "grid_row": null,
      "grid_template_areas": null,
      "grid_template_columns": null,
      "grid_template_rows": null,
      "height": null,
      "justify_content": null,
      "justify_items": null,
      "left": null,
      "margin": null,
      "max_height": null,
      "max_width": null,
      "min_height": null,
      "min_width": null,
      "object_fit": null,
      "object_position": null,
      "order": null,
      "overflow": null,
      "overflow_x": null,
      "overflow_y": null,
      "padding": null,
      "right": null,
      "top": null,
      "visibility": null,
      "width": null
     }
    },
    "e5b6e0e7ea944cad9cdb2ae0384a0a72": {
     "model_module": "@jupyter-widgets/controls",
     "model_module_version": "1.5.0",
     "model_name": "HTMLModel",
     "state": {
      "_dom_classes": [],
      "_model_module": "@jupyter-widgets/controls",
      "_model_module_version": "1.5.0",
      "_model_name": "HTMLModel",
      "_view_count": null,
      "_view_module": "@jupyter-widgets/controls",
      "_view_module_version": "1.5.0",
      "_view_name": "HTMLView",
      "description": "",
      "description_tooltip": null,
      "layout": "IPY_MODEL_e2c8501f8a194b5d9cd76f3b6cda664d",
      "placeholder": "​",
      "style": "IPY_MODEL_a2f7f3550d9540359ffc99fc137a0908",
      "value": "model.safetensors: 100%"
     }
    },
    "e8f0402f72a442bdad645f61a91d009d": {
     "model_module": "@jupyter-widgets/controls",
     "model_module_version": "1.5.0",
     "model_name": "HBoxModel",
     "state": {
      "_dom_classes": [],
      "_model_module": "@jupyter-widgets/controls",
      "_model_module_version": "1.5.0",
      "_model_name": "HBoxModel",
      "_view_count": null,
      "_view_module": "@jupyter-widgets/controls",
      "_view_module_version": "1.5.0",
      "_view_name": "HBoxView",
      "box_style": "",
      "children": [
       "IPY_MODEL_280dc20a405f4a52ad0e658bd545d86c",
       "IPY_MODEL_17570d87025041b293202389e8d0ac04",
       "IPY_MODEL_9d83a027726c4be3838bb590dbd37c60"
      ],
      "layout": "IPY_MODEL_5a6154062bfb4580bdd35fbf53cabfa4"
     }
    },
    "f0eecc3829414d7f917b55cd9cca3efd": {
     "model_module": "@jupyter-widgets/base",
     "model_module_version": "1.2.0",
     "model_name": "LayoutModel",
     "state": {
      "_model_module": "@jupyter-widgets/base",
      "_model_module_version": "1.2.0",
      "_model_name": "LayoutModel",
      "_view_count": null,
      "_view_module": "@jupyter-widgets/base",
      "_view_module_version": "1.2.0",
      "_view_name": "LayoutView",
      "align_content": null,
      "align_items": null,
      "align_self": null,
      "border": null,
      "bottom": null,
      "display": null,
      "flex": null,
      "flex_flow": null,
      "grid_area": null,
      "grid_auto_columns": null,
      "grid_auto_flow": null,
      "grid_auto_rows": null,
      "grid_column": null,
      "grid_gap": null,
      "grid_row": null,
      "grid_template_areas": null,
      "grid_template_columns": null,
      "grid_template_rows": null,
      "height": null,
      "justify_content": null,
      "justify_items": null,
      "left": null,
      "margin": null,
      "max_height": null,
      "max_width": null,
      "min_height": null,
      "min_width": null,
      "object_fit": null,
      "object_position": null,
      "order": null,
      "overflow": null,
      "overflow_x": null,
      "overflow_y": null,
      "padding": null,
      "right": null,
      "top": null,
      "visibility": null,
      "width": null
     }
    },
    "f7839d34829446ab9c9d5cb0b301445e": {
     "model_module": "@jupyter-widgets/controls",
     "model_module_version": "1.5.0",
     "model_name": "HTMLModel",
     "state": {
      "_dom_classes": [],
      "_model_module": "@jupyter-widgets/controls",
      "_model_module_version": "1.5.0",
      "_model_name": "HTMLModel",
      "_view_count": null,
      "_view_module": "@jupyter-widgets/controls",
      "_view_module_version": "1.5.0",
      "_view_name": "HTMLView",
      "description": "",
      "description_tooltip": null,
      "layout": "IPY_MODEL_dab08b7e7a9c4235ad1fc251fc2696ed",
      "placeholder": "​",
      "style": "IPY_MODEL_c020bc6d5fc8493a913f08b804f4fc93",
      "value": "config.json: 100%"
     }
    },
    "f8bf12d6e2a34882b2999fedb0f919f8": {
     "model_module": "@jupyter-widgets/base",
     "model_module_version": "1.2.0",
     "model_name": "LayoutModel",
     "state": {
      "_model_module": "@jupyter-widgets/base",
      "_model_module_version": "1.2.0",
      "_model_name": "LayoutModel",
      "_view_count": null,
      "_view_module": "@jupyter-widgets/base",
      "_view_module_version": "1.2.0",
      "_view_name": "LayoutView",
      "align_content": null,
      "align_items": null,
      "align_self": null,
      "border": null,
      "bottom": null,
      "display": null,
      "flex": null,
      "flex_flow": null,
      "grid_area": null,
      "grid_auto_columns": null,
      "grid_auto_flow": null,
      "grid_auto_rows": null,
      "grid_column": null,
      "grid_gap": null,
      "grid_row": null,
      "grid_template_areas": null,
      "grid_template_columns": null,
      "grid_template_rows": null,
      "height": null,
      "justify_content": null,
      "justify_items": null,
      "left": null,
      "margin": null,
      "max_height": null,
      "max_width": null,
      "min_height": null,
      "min_width": null,
      "object_fit": null,
      "object_position": null,
      "order": null,
      "overflow": null,
      "overflow_x": null,
      "overflow_y": null,
      "padding": null,
      "right": null,
      "top": null,
      "visibility": null,
      "width": null
     }
    },
    "f9ea6c06dd194a6085caca000ba6a13e": {
     "model_module": "@jupyter-widgets/base",
     "model_module_version": "1.2.0",
     "model_name": "LayoutModel",
     "state": {
      "_model_module": "@jupyter-widgets/base",
      "_model_module_version": "1.2.0",
      "_model_name": "LayoutModel",
      "_view_count": null,
      "_view_module": "@jupyter-widgets/base",
      "_view_module_version": "1.2.0",
      "_view_name": "LayoutView",
      "align_content": null,
      "align_items": null,
      "align_self": null,
      "border": null,
      "bottom": null,
      "display": null,
      "flex": null,
      "flex_flow": null,
      "grid_area": null,
      "grid_auto_columns": null,
      "grid_auto_flow": null,
      "grid_auto_rows": null,
      "grid_column": null,
      "grid_gap": null,
      "grid_row": null,
      "grid_template_areas": null,
      "grid_template_columns": null,
      "grid_template_rows": null,
      "height": null,
      "justify_content": null,
      "justify_items": null,
      "left": null,
      "margin": null,
      "max_height": null,
      "max_width": null,
      "min_height": null,
      "min_width": null,
      "object_fit": null,
      "object_position": null,
      "order": null,
      "overflow": null,
      "overflow_x": null,
      "overflow_y": null,
      "padding": null,
      "right": null,
      "top": null,
      "visibility": null,
      "width": null
     }
    },
    "fdcea3e1d7374d9bb537590928ff91c3": {
     "model_module": "@jupyter-widgets/controls",
     "model_module_version": "1.5.0",
     "model_name": "HBoxModel",
     "state": {
      "_dom_classes": [],
      "_model_module": "@jupyter-widgets/controls",
      "_model_module_version": "1.5.0",
      "_model_name": "HBoxModel",
      "_view_count": null,
      "_view_module": "@jupyter-widgets/controls",
      "_view_module_version": "1.5.0",
      "_view_name": "HBoxView",
      "box_style": "",
      "children": [
       "IPY_MODEL_91ab1472291b40469d71a51360a1ef59",
       "IPY_MODEL_61ffb0936bf74d58be967b3fb23b60d1",
       "IPY_MODEL_b6a69dfd222b4b01b818f53d2bcc962a"
      ],
      "layout": "IPY_MODEL_68630f08286f4409a38dc43809167645"
     }
    },
    "ff9c76bd9c204dbab2388d025d154b0f": {
     "model_module": "@jupyter-widgets/controls",
     "model_module_version": "1.5.0",
     "model_name": "FloatProgressModel",
     "state": {
      "_dom_classes": [],
      "_model_module": "@jupyter-widgets/controls",
      "_model_module_version": "1.5.0",
      "_model_name": "FloatProgressModel",
      "_view_count": null,
      "_view_module": "@jupyter-widgets/controls",
      "_view_module_version": "1.5.0",
      "_view_name": "ProgressView",
      "bar_style": "success",
      "description": "",
      "description_tooltip": null,
      "layout": "IPY_MODEL_5af93939656543b28ab0c703e900c950",
      "max": 435797,
      "min": 0,
      "orientation": "horizontal",
      "style": "IPY_MODEL_52eebf29055a4488a30d3cbb7164b4de",
      "value": 435797
     }
    }
   }
  }
 },
 "nbformat": 4,
 "nbformat_minor": 5
}
